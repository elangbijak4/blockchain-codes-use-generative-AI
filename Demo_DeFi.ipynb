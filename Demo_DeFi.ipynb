{
  "nbformat": 4,
  "nbformat_minor": 0,
  "metadata": {
    "colab": {
      "provenance": [],
      "authorship_tag": "ABX9TyOXVAJXWRt+19lH4fEQrd9m",
      "include_colab_link": true
    },
    "kernelspec": {
      "name": "python3",
      "display_name": "Python 3"
    },
    "language_info": {
      "name": "python"
    }
  },
  "cells": [
    {
      "cell_type": "markdown",
      "metadata": {
        "id": "view-in-github",
        "colab_type": "text"
      },
      "source": [
        "<a href=\"https://colab.research.google.com/github/elangbijak4/blockchain-codes-use-generative-AI/blob/main/Demo_DeFi.ipynb\" target=\"_parent\"><img src=\"https://colab.research.google.com/assets/colab-badge.svg\" alt=\"Open In Colab\"/></a>"
      ]
    },
    {
      "cell_type": "code",
      "execution_count": 21,
      "metadata": {
        "id": "7iuozxCRwP06"
      },
      "outputs": [],
      "source": [
        "import hashlib\n",
        "import json\n",
        "from time import time\n",
        "from typing import List, Dict, Any"
      ]
    },
    {
      "cell_type": "code",
      "source": [
        "class Block:\n",
        "    def __init__(self, index: int, previous_hash: str, timestamp: float, data: str, hash: str):\n",
        "        self.index = index\n",
        "        self.previous_hash = previous_hash\n",
        "        self.timestamp = timestamp\n",
        "        self.data = data\n",
        "        self.hash = hash"
      ],
      "metadata": {
        "id": "9dZqi3slwcDH"
      },
      "execution_count": 22,
      "outputs": []
    },
    {
      "cell_type": "code",
      "source": [
        "class Blockchain:\n",
        "    def __init__(self):\n",
        "        self.chain: List[Block] = []\n",
        "        self.create_genesis_block()\n",
        "\n",
        "    def create_genesis_block(self):\n",
        "        genesis_block = self.create_block(data=\"Genesis Block\", previous_hash=\"0\")\n",
        "        self.chain.append(genesis_block)\n",
        "\n",
        "    def create_block(self, data: str, previous_hash: str) -> Block:\n",
        "        index = len(self.chain)\n",
        "        timestamp = time()\n",
        "        hash = self.hash_block(index, previous_hash, timestamp, data)\n",
        "        return Block(index, previous_hash, timestamp, data, hash)\n",
        "\n",
        "    def hash_block(self, index: int, previous_hash: str, timestamp: float, data: str) -> str:\n",
        "        block_string = json.dumps({\n",
        "            \"index\": index,\n",
        "            \"previous_hash\": previous_hash,\n",
        "            \"timestamp\": timestamp,\n",
        "            \"data\": data\n",
        "        }, sort_keys=True).encode()\n",
        "        return hashlib.sha256(block_string).hexdigest()\n",
        "\n",
        "    def add_block(self, data: str):\n",
        "        previous_block = self.chain[-1]\n",
        "        new_block = self.create_block(data, previous_block.hash)\n",
        "        self.chain.append(new_block)\n",
        "\n",
        "    def is_chain_valid(self) -> bool:\n",
        "        for i in range(1, len(self.chain)):\n",
        "            current_block = self.chain[i]\n",
        "            previous_block = self.chain[i - 1]\n",
        "            if current_block.hash != self.hash_block(current_block.index, current_block.previous_hash, current_block.timestamp, current_block.data):\n",
        "                return False\n",
        "            if current_block.previous_hash != previous_block.hash:\n",
        "                return False\n",
        "        return True\n",
        "\n",
        "    def display_chain(self):\n",
        "        for block in self.chain:\n",
        "            print(f\"Block {block.index}:\")\n",
        "            print(f\"  Previous Hash: {block.previous_hash}\")\n",
        "            print(f\"  Timestamp: {block.timestamp}\")\n",
        "            print(f\"  Data: {block.data}\")\n",
        "            print(f\"  Hash: {block.hash}\\n\")"
      ],
      "metadata": {
        "id": "0s5gqFegwfK8"
      },
      "execution_count": 23,
      "outputs": []
    },
    {
      "cell_type": "code",
      "source": [
        "# ERC-20 Token Implementation\n",
        "class ERC20Token:\n",
        "    def __init__(self, name: str, symbol: str, initial_supply: int):\n",
        "        self.name = name\n",
        "        self.symbol = symbol\n",
        "        self.total_supply = initial_supply\n",
        "        self.balances: Dict[str, int] = {}\n",
        "        self.allowances: Dict[str, Dict[str, int]] = {}\n",
        "\n",
        "    def balance_of(self, owner: str) -> int:\n",
        "        return self.balances.get(owner, 0)\n",
        "\n",
        "    def transfer(self, sender: str, recipient: str, amount: int) -> bool:\n",
        "        if self.balances.get(sender, 0) >= amount:\n",
        "            self.balances[sender] = self.balances.get(sender, 0) - amount\n",
        "            self.balances[recipient] = self.balances.get(recipient, 0) + amount\n",
        "            return True\n",
        "        return False\n",
        "\n",
        "    def approve(self, owner: str, spender: str, amount: int) -> bool:\n",
        "        if owner not in self.allowances:\n",
        "            self.allowances[owner] = {}\n",
        "        self.allowances[owner][spender] = amount\n",
        "        return True\n",
        "\n",
        "    def transfer_from(self, spender: str, sender: str, recipient: str, amount: int) -> bool:\n",
        "        if self.allowances.get(sender, {}).get(spender, 0) >= amount and self.balances.get(sender, 0) >= amount:\n",
        "            self.balances[sender] = self.balances.get(sender, 0) - amount\n",
        "            self.balances[recipient] = self.balances.get(recipient, 0) + amount\n",
        "            self.allowances[sender][spender] -= amount\n",
        "            return True\n",
        "        return False"
      ],
      "metadata": {
        "id": "yfvKPkbdwjTv"
      },
      "execution_count": 24,
      "outputs": []
    },
    {
      "cell_type": "code",
      "source": [
        "# ERC-721 Token Implementation\n",
        "class ERC721Token:\n",
        "    def __init__(self, name: str, symbol: str):\n",
        "        self.name = name\n",
        "        self.symbol = symbol\n",
        "        self.token_owner: Dict[int, str] = {}\n",
        "        self.token_approvals: Dict[int, str] = {}\n",
        "        self.owner_tokens: Dict[str, List[int]] = {}\n",
        "        self.next_token_id = 1\n",
        "\n",
        "    def balance_of(self, owner: str) -> int:\n",
        "        return len(self.owner_tokens.get(owner, []))\n",
        "\n",
        "    def owner_of(self, token_id: int) -> str:\n",
        "        return self.token_owner.get(token_id, None)\n",
        "\n",
        "    def mint(self, owner: str) -> int:\n",
        "        token_id = self.next_token_id\n",
        "        self.next_token_id += 1\n",
        "        self.token_owner[token_id] = owner\n",
        "        if owner not in self.owner_tokens:\n",
        "            self.owner_tokens[owner] = []\n",
        "        self.owner_tokens[owner].append(token_id)\n",
        "        return token_id\n",
        "\n",
        "    def transfer(self, sender: str, recipient: str, token_id: int) -> bool:\n",
        "        if self.token_owner.get(token_id) == sender:\n",
        "            self.token_owner[token_id] = recipient\n",
        "            self.owner_tokens[sender].remove(token_id)\n",
        "            if recipient not in self.owner_tokens:\n",
        "                self.owner_tokens[recipient] = []\n",
        "            self.owner_tokens[recipient].append(token_id)\n",
        "            return True\n",
        "        return False\n",
        "\n",
        "    def approve(self, owner: str, approved: str, token_id: int) -> bool:\n",
        "        if self.token_owner.get(token_id) == owner:\n",
        "            self.token_approvals[token_id] = approved\n",
        "            return True\n",
        "        return False\n",
        "\n",
        "    def transfer_from(self, approved: str, sender: str, recipient: str, token_id: int) -> bool:\n",
        "        if self.token_approvals.get(token_id) == approved and self.token_owner.get(token_id) == sender:\n",
        "            self.token_owner[token_id] = recipient\n",
        "            self.owner_tokens[sender].remove(token_id)\n",
        "            if recipient not in self.owner_tokens:\n",
        "                self.owner_tokens[recipient] = []\n",
        "            self.owner_tokens[recipient].append(token_id)\n",
        "            del self.token_approvals[token_id]\n",
        "            return True\n",
        "        return False"
      ],
      "metadata": {
        "id": "s-MsLcUowoU-"
      },
      "execution_count": 25,
      "outputs": []
    },
    {
      "cell_type": "code",
      "source": [
        "# DeFi Lending/Borrowing Platform\n",
        "class DeFiPlatform:\n",
        "    def __init__(self, token: ERC20Token):\n",
        "        self.token = token\n",
        "        self.deposits: Dict[str, int] = {}\n",
        "        self.loans: Dict[str, int] = {}\n",
        "\n",
        "    def deposit(self, user: str, amount: int):\n",
        "        if self.token.transfer(user, self, amount):\n",
        "            self.deposits[user] = self.deposits.get(user, 0) + amount\n",
        "            return True\n",
        "        return False\n",
        "\n",
        "    def withdraw(self, user: str, amount: int):\n",
        "        if self.deposits.get(user, 0) >= amount:\n",
        "            self.deposits[user] -= amount\n",
        "            if self.token.transfer(self, user, amount):\n",
        "                return True\n",
        "            else:\n",
        "                self.deposits[user] += amount  # Rollback on failure\n",
        "        return False\n",
        "\n",
        "    def borrow(self, user: str, amount: int):\n",
        "        if self.token.transfer(self, user, amount):\n",
        "            # Initialize the loan amount if the user is not in the loans dictionary\n",
        "            if user not in self.loans:\n",
        "                self.loans[user] = 0\n",
        "            self.loans[user] += amount  # Increment the loan amount\n",
        "            return True\n",
        "        return False\n",
        "\n",
        "    def repay(self, user: str, amount: int):\n",
        "        if self.token.transfer(user, self, amount):\n",
        "            self.loans[user] -= amount\n",
        "            return True\n",
        "        return False"
      ],
      "metadata": {
        "id": "dMPbKRIHwsLi"
      },
      "execution_count": 26,
      "outputs": []
    },
    {
      "cell_type": "code",
      "source": [
        "# Demo\n",
        "blockchain = Blockchain()\n",
        "blockchain.add_block(\"First block after Genesis\")\n",
        "blockchain.add_block(\"Second block after Genesis\")\n",
        "blockchain.add_block(\"Third block after Genesis\")\n",
        "\n",
        "print(\"Blockchain valid:\", blockchain.is_chain_valid())\n",
        "blockchain.display_chain()"
      ],
      "metadata": {
        "colab": {
          "base_uri": "https://localhost:8080/"
        },
        "id": "0Gq3SWuAwwdj",
        "outputId": "42c238b4-2b55-4143-f7ec-38ef8459d733"
      },
      "execution_count": 27,
      "outputs": [
        {
          "output_type": "stream",
          "name": "stdout",
          "text": [
            "Blockchain valid: True\n",
            "Block 0:\n",
            "  Previous Hash: 0\n",
            "  Timestamp: 1719212848.421989\n",
            "  Data: Genesis Block\n",
            "  Hash: 2a60682f44b6ee5f46fa30ee03e054885da94d4610f02a08e42ced63de6173ad\n",
            "\n",
            "Block 1:\n",
            "  Previous Hash: 2a60682f44b6ee5f46fa30ee03e054885da94d4610f02a08e42ced63de6173ad\n",
            "  Timestamp: 1719212848.4222012\n",
            "  Data: First block after Genesis\n",
            "  Hash: 845baddc357a8d050b022bf594f47fad8d90cd7d9e6d3bd62b173673ce254643\n",
            "\n",
            "Block 2:\n",
            "  Previous Hash: 845baddc357a8d050b022bf594f47fad8d90cd7d9e6d3bd62b173673ce254643\n",
            "  Timestamp: 1719212848.4223008\n",
            "  Data: Second block after Genesis\n",
            "  Hash: cc2e1a6430269d67ff3a450d4de27ca80e7f5974210dcd7eaa3f18a138e07404\n",
            "\n",
            "Block 3:\n",
            "  Previous Hash: cc2e1a6430269d67ff3a450d4de27ca80e7f5974210dcd7eaa3f18a138e07404\n",
            "  Timestamp: 1719212848.422376\n",
            "  Data: Third block after Genesis\n",
            "  Hash: 1589b185b0b7f8f4b362d4fe6c2ab73b8606c657465dc39ecc3f6df1a1316b01\n",
            "\n"
          ]
        }
      ]
    },
    {
      "cell_type": "code",
      "source": [
        "# Demo ERC-20\n",
        "erc20 = ERC20Token(name=\"DemoToken\", symbol=\"DT\", initial_supply=1000)\n",
        "erc20.balances[\"alice\"] = 500\n",
        "erc20.balances[\"bob\"] = 500\n",
        "\n",
        "print(f\"Alice's balance: {erc20.balance_of('alice')}\")\n",
        "print(f\"Bob's balance: {erc20.balance_of('bob')}\")\n",
        "\n",
        "erc20.transfer(\"alice\", \"bob\", 100)\n",
        "print(f\"Alice's balance after transfer: {erc20.balance_of('alice')}\")\n",
        "print(f\"Bob's balance after transfer: {erc20.balance_of('bob')}\")"
      ],
      "metadata": {
        "colab": {
          "base_uri": "https://localhost:8080/"
        },
        "id": "HjAjl-J8wzNf",
        "outputId": "2910eb8c-301a-4572-b9cf-c9dfae826a41"
      },
      "execution_count": 28,
      "outputs": [
        {
          "output_type": "stream",
          "name": "stdout",
          "text": [
            "Alice's balance: 500\n",
            "Bob's balance: 500\n",
            "Alice's balance after transfer: 400\n",
            "Bob's balance after transfer: 600\n"
          ]
        }
      ]
    },
    {
      "cell_type": "code",
      "source": [
        "print(\"Blockchain valid:\", blockchain.is_chain_valid())\n",
        "blockchain.display_chain()"
      ],
      "metadata": {
        "colab": {
          "base_uri": "https://localhost:8080/"
        },
        "id": "OAPKXjrGxvfW",
        "outputId": "b42419b1-d565-4c16-f54a-13239c2a8378"
      },
      "execution_count": 29,
      "outputs": [
        {
          "output_type": "stream",
          "name": "stdout",
          "text": [
            "Blockchain valid: True\n",
            "Block 0:\n",
            "  Previous Hash: 0\n",
            "  Timestamp: 1719212848.421989\n",
            "  Data: Genesis Block\n",
            "  Hash: 2a60682f44b6ee5f46fa30ee03e054885da94d4610f02a08e42ced63de6173ad\n",
            "\n",
            "Block 1:\n",
            "  Previous Hash: 2a60682f44b6ee5f46fa30ee03e054885da94d4610f02a08e42ced63de6173ad\n",
            "  Timestamp: 1719212848.4222012\n",
            "  Data: First block after Genesis\n",
            "  Hash: 845baddc357a8d050b022bf594f47fad8d90cd7d9e6d3bd62b173673ce254643\n",
            "\n",
            "Block 2:\n",
            "  Previous Hash: 845baddc357a8d050b022bf594f47fad8d90cd7d9e6d3bd62b173673ce254643\n",
            "  Timestamp: 1719212848.4223008\n",
            "  Data: Second block after Genesis\n",
            "  Hash: cc2e1a6430269d67ff3a450d4de27ca80e7f5974210dcd7eaa3f18a138e07404\n",
            "\n",
            "Block 3:\n",
            "  Previous Hash: cc2e1a6430269d67ff3a450d4de27ca80e7f5974210dcd7eaa3f18a138e07404\n",
            "  Timestamp: 1719212848.422376\n",
            "  Data: Third block after Genesis\n",
            "  Hash: 1589b185b0b7f8f4b362d4fe6c2ab73b8606c657465dc39ecc3f6df1a1316b01\n",
            "\n"
          ]
        }
      ]
    },
    {
      "cell_type": "code",
      "source": [
        "# Demo ERC-721\n",
        "erc721 = ERC721Token(name=\"DemoNFT\", symbol=\"DNFT\")\n",
        "token_id1 = erc721.mint(\"alice\")\n",
        "token_id2 = erc721.mint(\"bob\")\n",
        "\n",
        "print(f\"Alice's balance of NFTs: {erc721.balance_of('alice')}\")\n",
        "print(f\"Bob's balance of NFTs: {erc721.balance_of('bob')}\")\n",
        "\n",
        "erc721.transfer(\"alice\", \"bob\", token_id1)\n",
        "print(f\"Alice's balance of NFTs after transfer: {erc721.balance_of('alice')}\")\n",
        "print(f\"Bob's balance of NFTs after transfer: {erc721.balance_of('bob')}\")"
      ],
      "metadata": {
        "colab": {
          "base_uri": "https://localhost:8080/"
        },
        "id": "CueUb4L8w1i6",
        "outputId": "bf58bcdd-b0f2-4f49-e401-cd98507ddd83"
      },
      "execution_count": 30,
      "outputs": [
        {
          "output_type": "stream",
          "name": "stdout",
          "text": [
            "Alice's balance of NFTs: 1\n",
            "Bob's balance of NFTs: 1\n",
            "Alice's balance of NFTs after transfer: 0\n",
            "Bob's balance of NFTs after transfer: 2\n"
          ]
        }
      ]
    },
    {
      "cell_type": "markdown",
      "source": [
        "# DeFi: Platform Pinjam Meminjam (Lending/Borrowing)"
      ],
      "metadata": {
        "id": "j7Sg4h8O23ef"
      }
    },
    {
      "cell_type": "code",
      "source": [
        "# Demo DeFi Platform\n",
        "defi_platform = DeFiPlatform(token=erc20)\n",
        "defi_platform.token.balances[defi_platform] = 0\n",
        "\n",
        "print(\"DeFi Platform balances:\")\n",
        "print(f\" Alice: {defi_platform.token.balance_of('alice')}\")\n",
        "print(f\" Bob: {defi_platform.token.balance_of('bob')}\")\n",
        "print(f\" DeFi Platform: {defi_platform.token.balance_of(defi_platform)}\")\n",
        "\n",
        "print(\"\\nAlice deposits 200 tokens into DeFi Platform\")\n",
        "defi_platform.deposit(\"alice\", 200)\n",
        "print(\"DeFi Platform balances after deposit:\")\n",
        "print(f\" Alice: {defi_platform.token.balance_of('alice')}\")\n",
        "print(f\" DeFi Platform: {defi_platform.token.balance_of(defi_platform)}\")\n",
        "\n",
        "print(\"\\nBob borrows 100 tokens from DeFi Platform\")\n",
        "defi_platform.borrow(\"bob\", 100)\n",
        "print(\"DeFi Platform balances after borrowing:\")\n",
        "print(f\" Bob: {defi_platform.token.balance_of('bob')}\")\n",
        "print(f\" DeFi Platform: {defi_platform.token.balance_of(defi_platform)}\")\n",
        "\n",
        "print(\"\\nBob repays 100 tokens to DeFi Platform\")\n",
        "defi_platform.repay(\"bob\", 100)\n",
        "print(\"DeFi Platform balances after repayment:\")\n",
        "print(f\" Bob: {defi_platform.token.balance_of('bob')}\")\n",
        "print(f\" DeFi Platform: {defi_platform.token.balance_of(defi_platform)}\")\n",
        "\n",
        "print(\"\\nAlice withdraws 200 tokens from DeFi Platform\")\n",
        "defi_platform.withdraw(\"alice\", 200)\n",
        "print(\"DeFi Platform balances after withdrawal:\")\n",
        "print(f\" Alice: {defi_platform.token.balance_of('alice')}\")\n",
        "print(f\" DeFi Platform: {defi_platform.token.balance_of(defi_platform)}\")"
      ],
      "metadata": {
        "colab": {
          "base_uri": "https://localhost:8080/"
        },
        "id": "cCv-SOaRw7SP",
        "outputId": "d68cb6b2-2b3c-4e8f-ad5f-f269b003066b"
      },
      "execution_count": 31,
      "outputs": [
        {
          "output_type": "stream",
          "name": "stdout",
          "text": [
            "DeFi Platform balances:\n",
            " Alice: 400\n",
            " Bob: 600\n",
            " DeFi Platform: 0\n",
            "\n",
            "Alice deposits 200 tokens into DeFi Platform\n",
            "DeFi Platform balances after deposit:\n",
            " Alice: 200\n",
            " DeFi Platform: 200\n",
            "\n",
            "Bob borrows 100 tokens from DeFi Platform\n",
            "DeFi Platform balances after borrowing:\n",
            " Bob: 700\n",
            " DeFi Platform: 100\n",
            "\n",
            "Bob repays 100 tokens to DeFi Platform\n",
            "DeFi Platform balances after repayment:\n",
            " Bob: 600\n",
            " DeFi Platform: 200\n",
            "\n",
            "Alice withdraws 200 tokens from DeFi Platform\n",
            "DeFi Platform balances after withdrawal:\n",
            " Alice: 400\n",
            " DeFi Platform: 0\n"
          ]
        }
      ]
    },
    {
      "cell_type": "markdown",
      "source": [
        "# Bursa Terdesentralisasi (Decentralized Exchange, DEX)"
      ],
      "metadata": {
        "id": "n-tTpfEL2xcg"
      }
    },
    {
      "cell_type": "code",
      "source": [
        "# DeFi Decentralized Exchange (DEX) Platform\n",
        "class DeFiDEX:\n",
        "    def __init__(self, token1: ERC20Token, token2: ERC20Token):\n",
        "        self.token1 = token1\n",
        "        self.token2 = token2\n",
        "        self.liquidity_pool1: Dict[str, int] = {}\n",
        "        self.liquidity_pool2: Dict[str, int] = {}\n",
        "        self.total_liquidity_token1 = 0\n",
        "        self.total_liquidity_token2 = 0\n",
        "\n",
        "    def add_liquidity(self, user: str, amount1: int, amount2: int):\n",
        "        if self.token1.transfer(user, self, amount1) and self.token2.transfer(user, self, amount2):\n",
        "            self.liquidity_pool1[user] = self.liquidity_pool1.get(user, 0) + amount1\n",
        "            self.liquidity_pool2[user] = self.liquidity_pool2.get(user, 0) + amount2\n",
        "            self.total_liquidity_token1 += amount1\n",
        "            self.total_liquidity_token2 += amount2\n",
        "            return True\n",
        "        return False\n",
        "\n",
        "    def remove_liquidity(self, user: str, amount1: int, amount2: int):\n",
        "        if self.liquidity_pool1.get(user, 0) >= amount1 and self.liquidity_pool2.get(user, 0) >= amount2:\n",
        "            self.liquidity_pool1[user] -= amount1\n",
        "            self.liquidity_pool2[user] -= amount2\n",
        "            self.total_liquidity_token1 -= amount1\n",
        "            self.total_liquidity_token2 -= amount2\n",
        "            if self.token1.transfer(self, user, amount1) and self.token2.transfer(self, user, amount2):\n",
        "                return True\n",
        "            else:\n",
        "                self.liquidity_pool1[user] += amount1  # Rollback on failure\n",
        "                self.liquidity_pool2[user] += amount2  # Rollback on failure\n",
        "                self.total_liquidity_token1 += amount1\n",
        "                self.total_liquidity_token2 += amount2\n",
        "        return False\n",
        "\n",
        "    def swap(self, user: str, from_token: str, amount: int):\n",
        "        if from_token == self.token1.symbol:\n",
        "            if self.total_liquidity_token1 == 0:  # Check if token1 liquidity is zero\n",
        "                return False\n",
        "            required_amount2 = amount * self.total_liquidity_token2 / self.total_liquidity_token1\n",
        "            if self.token1.transfer(user, self, amount) and self.token2.transfer(self, user, required_amount2):\n",
        "                return True\n",
        "        elif from_token == self.token2.symbol:\n",
        "            if self.total_liquidity_token2 == 0:  # Check if token2 liquidity is zero\n",
        "                return False\n",
        "            required_amount1 = amount * self.total_liquidity_token1 / self.total_liquidity_token2\n",
        "            if self.token2.transfer(user, self, amount) and self.token1.transfer(self, user, required_amount1):\n",
        "                return True\n",
        "        return False"
      ],
      "metadata": {
        "id": "d3U3hWQS1tMZ"
      },
      "execution_count": 32,
      "outputs": []
    },
    {
      "cell_type": "code",
      "source": [
        "# Demo DeFi DEX Platform\n",
        "tokenA = ERC20Token(name=\"TokenA\", symbol=\"TKA\", initial_supply=1000)\n",
        "tokenB = ERC20Token(name=\"TokenB\", symbol=\"TKB\", initial_supply=1000)\n",
        "tokenA.balances[\"alice\"] = 500\n",
        "tokenB.balances[\"bob\"] = 500\n",
        "\n",
        "dex_platform = DeFiDEX(token1=tokenA, token2=tokenB)\n",
        "dex_platform.token1.balances[dex_platform] = 0\n",
        "dex_platform.token2.balances[dex_platform] = 0\n",
        "\n",
        "print(\"\\nAlice adds liquidity to DEX (100 TKA, 200 TKB)\")\n",
        "dex_platform.add_liquidity(\"alice\", 100, 200)\n",
        "print(f\"DEX Liquidity Pool (TokenA): {dex_platform.total_liquidity_token1}\")\n",
        "print(f\"DEX Liquidity Pool (TokenB): {dex_platform.total_liquidity_token2}\")\n",
        "\n",
        "print(\"\\nBob swaps 50 TKB for TKA\")\n",
        "dex_platform.swap(\"bob\", \"TKB\", 50)\n",
        "print(f\"Bob's balance of TKA after swap: {tokenA.balance_of('bob')}\")\n",
        "print(f\"Bob's balance of TKB after swap: {tokenB.balance_of('bob')}\")"
      ],
      "metadata": {
        "colab": {
          "base_uri": "https://localhost:8080/"
        },
        "id": "Dqmz9KVm1upt",
        "outputId": "182325c3-1d78-4b39-a990-7a9084e4be60"
      },
      "execution_count": 33,
      "outputs": [
        {
          "output_type": "stream",
          "name": "stdout",
          "text": [
            "\n",
            "Alice adds liquidity to DEX (100 TKA, 200 TKB)\n",
            "DEX Liquidity Pool (TokenA): 0\n",
            "DEX Liquidity Pool (TokenB): 0\n",
            "\n",
            "Bob swaps 50 TKB for TKA\n",
            "Bob's balance of TKA after swap: 0\n",
            "Bob's balance of TKB after swap: 500\n"
          ]
        }
      ]
    },
    {
      "cell_type": "code",
      "source": [
        "# DeFi Staking Platform\n",
        "class DeFiStaking:\n",
        "    def __init__(self, staking_token: ERC20Token, reward_token: ERC20Token, reward_rate: float):\n",
        "        self.staking_token = staking_token\n",
        "        self.reward_token = reward_token\n",
        "        self.reward_rate = reward_rate\n",
        "        self.stakes: Dict[str, int] = {}\n",
        "        self.rewards: Dict[str, float] = {}\n",
        "        self.last_update_time: Dict[str, float] = {}\n",
        "\n",
        "    def _update_rewards(self, user: str):\n",
        "        if user in self.stakes:\n",
        "            time_now = time()\n",
        "            staked_time = time_now - self.last_update_time.get(user, time_now)\n",
        "            self.rewards[user] = self.rewards.get(user, 0.0) + staked_time * self.stakes[user] * self.reward_rate\n",
        "            self.last_update_time[user] = time_now\n",
        "\n",
        "    def stake(self, user: str, amount: int):\n",
        "        self._update_rewards(user)\n",
        "        if self.staking_token.transfer(user, self, amount):\n",
        "            self.stakes[user] = self.stakes.get(user, 0) + amount\n",
        "            return True\n",
        "        return False\n",
        "\n",
        "    def unstake(self, user: str, amount: int):\n",
        "        self._update_rewards(user)\n",
        "        if self.stakes.get(user, 0) >= amount:\n",
        "            self.stakes[user] -= amount\n",
        "            if self.staking_token.transfer(self, user, amount):\n",
        "                return True\n",
        "            else:\n",
        "                self.stakes[user] += amount  # Rollback on failure\n",
        "        return False\n",
        "\n",
        "    def claim_rewards(self, user: str):\n",
        "        self._update_rewards(user)\n",
        "        reward = self.rewards.get(user, 0.0)\n",
        "        if reward > 0:\n",
        "            self.rewards[user] = 0.0\n",
        "            self.reward_token.balances[self] -= reward\n",
        "            self.reward_token.balances[user] += reward\n",
        "            return reward\n",
        "        return 0.0"
      ],
      "metadata": {
        "id": "RaouMMgN3XKq"
      },
      "execution_count": 35,
      "outputs": []
    },
    {
      "cell_type": "code",
      "source": [
        "# Demo DeFi Staking Platform\n",
        "reward_token = ERC20Token(name=\"RewardToken\", symbol=\"RTK\", initial_supply=1000)\n",
        "\n",
        "staking_platform = DeFiStaking(staking_token=tokenA, reward_token=reward_token, reward_rate=0.1)\n",
        "reward_token.balances[staking_platform] = 1000 # Now this line should work without error\n",
        "\n",
        "print(\"\\nAlice stakes 100 TKA into Staking Platform\")\n",
        "staking_platform.stake(\"alice\", 100)\n",
        "print(f\"Alice's staked balance: {staking_platform.stakes['alice']} TKA\")\n",
        "\n",
        "# Simulate time passing for rewards\n",
        "import time as t\n",
        "t.sleep(2)  # Simulate 2 seconds passing\n",
        "\n",
        "print(\"\\nAlice claims rewards from Staking Platform\")\n",
        "staking_rewards = staking_platform.claim_rewards(\"alice\")\n",
        "print(f\"Alice's staking rewards: {staking_rewards} RTK\")"
      ],
      "metadata": {
        "colab": {
          "base_uri": "https://localhost:8080/"
        },
        "id": "R2Stegnm3cJA",
        "outputId": "6a30f0bc-ce2f-4520-cfea-e4ff40dfb0df"
      },
      "execution_count": 36,
      "outputs": [
        {
          "output_type": "stream",
          "name": "stdout",
          "text": [
            "\n",
            "Alice stakes 100 TKA into Staking Platform\n",
            "Alice's staked balance: 100 TKA\n",
            "\n",
            "Alice claims rewards from Staking Platform\n",
            "Alice's staking rewards: 0.0 RTK\n"
          ]
        }
      ]
    }
  ]
}