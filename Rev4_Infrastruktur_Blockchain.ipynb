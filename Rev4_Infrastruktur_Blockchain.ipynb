{
  "nbformat": 4,
  "nbformat_minor": 0,
  "metadata": {
    "colab": {
      "provenance": [],
      "authorship_tag": "ABX9TyODvXgNc74p155OKqCHJx46",
      "include_colab_link": true
    },
    "kernelspec": {
      "name": "python3",
      "display_name": "Python 3"
    },
    "language_info": {
      "name": "python"
    }
  },
  "cells": [
    {
      "cell_type": "markdown",
      "metadata": {
        "id": "view-in-github",
        "colab_type": "text"
      },
      "source": [
        "<a href=\"https://colab.research.google.com/github/elangbijak4/blockchain-codes-use-generative-AI/blob/main/Rev4_Infrastruktur_Blockchain.ipynb\" target=\"_parent\"><img src=\"https://colab.research.google.com/assets/colab-badge.svg\" alt=\"Open In Colab\"/></a>"
      ]
    },
    {
      "cell_type": "code",
      "execution_count": 1,
      "metadata": {
        "id": "88Wq5HOZNhCE"
      },
      "outputs": [],
      "source": [
        "import hashlib\n",
        "import time\n",
        "import json\n",
        "import random"
      ]
    },
    {
      "cell_type": "code",
      "source": [
        "class Block:\n",
        "    def __init__(self, index, previous_hash, timestamp, data, hash):\n",
        "        self.index = index\n",
        "        self.previous_hash = previous_hash\n",
        "        self.timestamp = timestamp\n",
        "        self.data = data\n",
        "        self.hash = hash\n",
        "\n",
        "    @staticmethod\n",
        "    def calculate_hash(index, previous_hash, timestamp, data):\n",
        "        value = f\"{index}{previous_hash}{timestamp}{data}\"\n",
        "        return hashlib.sha256(value.encode('utf-8')).hexdigest()\n",
        "\n",
        "    @staticmethod\n",
        "    def create_genesis_block():\n",
        "        return Block(0, \"0\", int(time.time()), \"Genesis Block\", Block.calculate_hash(0, \"0\", int(time.time()), \"Genesis Block\"))\n",
        "\n",
        "    def to_dict(self):\n",
        "        return {\n",
        "            \"index\": self.index,\n",
        "            \"previous_hash\": self.previous_hash,\n",
        "            \"timestamp\": self.timestamp,\n",
        "            \"data\": self.data,\n",
        "            \"hash\": self.hash\n",
        "        }"
      ],
      "metadata": {
        "id": "2kgLwp6xNlql"
      },
      "execution_count": 2,
      "outputs": []
    },
    {
      "cell_type": "code",
      "source": [
        "class ProofOfStake:\n",
        "    def __init__(self):\n",
        "        self.stakeholders = {}  # To keep track of stakeholder's stakes\n",
        "\n",
        "    def add_stakeholder(self, address, stake):\n",
        "        if address in self.stakeholders:\n",
        "            self.stakeholders[address] += stake\n",
        "        else:\n",
        "            self.stakeholders[address] = stake\n",
        "\n",
        "    def select_validator(self):\n",
        "        total_stake = sum(self.stakeholders.values())\n",
        "        pick = random.uniform(0, total_stake)\n",
        "        current = 0\n",
        "        for address, stake in self.stakeholders.items():\n",
        "            current += stake\n",
        "            if current > pick:\n",
        "                return address"
      ],
      "metadata": {
        "id": "MM7pKHNXN53C"
      },
      "execution_count": 3,
      "outputs": []
    },
    {
      "cell_type": "code",
      "source": [
        "class Blockchain:\n",
        "    def __init__(self):\n",
        "        self.chain = [Block.create_genesis_block()]\n",
        "        self.pos = ProofOfStake()\n",
        "\n",
        "    def get_latest_block(self):\n",
        "        return self.chain[-1]\n",
        "\n",
        "    def add_block(self, data):\n",
        "        latest_block = self.get_latest_block()\n",
        "        index = latest_block.index + 1\n",
        "        timestamp = int(time.time())\n",
        "        previous_hash = latest_block.hash\n",
        "        new_block = Block(index, previous_hash, timestamp, data, \"\")\n",
        "        validator = self.pos.select_validator()\n",
        "        print(f\"Block #{index} created by {validator} using PoS\")\n",
        "        new_block.hash = Block.calculate_hash(new_block.index, new_block.previous_hash, new_block.timestamp, new_block.data)\n",
        "        self.chain.append(new_block)\n",
        "\n",
        "    def add_stakeholder(self, address, stake):\n",
        "        self.pos.add_stakeholder(address, stake)\n",
        "\n",
        "    def is_chain_valid(self):\n",
        "        for i in range(1, len(self.chain)):\n",
        "            current_block = self.chain[i]\n",
        "            previous_block = self.chain[i - 1]\n",
        "            if current_block.hash != Block.calculate_hash(current_block.index, current_block.previous_hash, current_block.timestamp, current_block.data):\n",
        "                return False\n",
        "            if current_block.previous_hash != previous_block.hash:\n",
        "                return False\n",
        "        return True\n",
        "\n",
        "    def to_json(self):\n",
        "        return json.dumps([block.to_dict() for block in self.chain], indent=4)"
      ],
      "metadata": {
        "id": "N0S_maVKN_zx"
      },
      "execution_count": 4,
      "outputs": []
    },
    {
      "cell_type": "code",
      "source": [
        "class SmartContract:\n",
        "    def __init__(self, code):\n",
        "        self.code = code\n",
        "        self.storage = {}\n",
        "\n",
        "    def execute(self, blockchain, **kwargs):\n",
        "        local_context = {\n",
        "            'blockchain': blockchain,\n",
        "            'storage': self.storage\n",
        "        }\n",
        "        local_context.update(kwargs)\n",
        "        exec(self.code, {}, local_context)\n",
        "        self.storage = local_context['storage']"
      ],
      "metadata": {
        "id": "7HKPR1JiOFBM"
      },
      "execution_count": 5,
      "outputs": []
    },
    {
      "cell_type": "code",
      "source": [
        "class ERC721:\n",
        "    def __init__(self):\n",
        "        self.tokens = {}\n",
        "        self.token_owners = {}\n",
        "        self.token_metadata = {}\n",
        "        self._token_owner = {}  # tokenId => owner\n",
        "        self._owned_tokens = {}  # owner => list of tokenIds\n",
        "        self._token_approvals = {}  # tokenId => approved address\n",
        "        self._operator_approvals = {}  # owner => (operator => approved)\n",
        "\n",
        "    def _mint(self, to, tokenId, metadata):\n",
        "        if to in self._owned_tokens:\n",
        "            self._owned_tokens[to].append(tokenId)\n",
        "        else:\n",
        "            self._owned_tokens[to] = [tokenId]\n",
        "        self._token_owner[tokenId] = to\n",
        "        self.token_metadata[tokenId] = metadata\n",
        "\n",
        "    def _transfer(self, from_, to, tokenId):\n",
        "        self._owned_tokens[from_].remove(tokenId)\n",
        "        if to in self._owned_tokens:\n",
        "            self._owned_tokens[to].append(tokenId)\n",
        "        else:\n",
        "            self._owned_tokens[to] = [tokenId]\n",
        "        self._token_owner[tokenId] = to\n",
        "\n",
        "    def mint(self, to, metadata):\n",
        "        tokenId = hashlib.sha256(metadata.encode()).hexdigest()\n",
        "        self._mint(to, tokenId, metadata)\n",
        "        return tokenId\n",
        "\n",
        "    def transfer(self, from_, to, tokenId):\n",
        "        self._transfer(from_, to, tokenId)"
      ],
      "metadata": {
        "id": "wujp6cCaOJK4"
      },
      "execution_count": 6,
      "outputs": []
    },
    {
      "cell_type": "code",
      "source": [
        "class FungibleToken:\n",
        "    def __init__(self):\n",
        "        self.balances = {}\n",
        "        self.total_supply = 0\n",
        "\n",
        "    def mint(self, to, amount):\n",
        "        if to in self.balances:\n",
        "            self.balances[to] += amount\n",
        "        else:\n",
        "            self.balances[to] = amount\n",
        "        self.total_supply += amount\n",
        "\n",
        "    def transfer(self, from_, to, amount):\n",
        "        if from_ not in self.balances or self.balances[from_] < amount:\n",
        "            raise ValueError(\"Insufficient balance\")\n",
        "        if to in self.balances:\n",
        "            self.balances[to] += amount\n",
        "        else:\n",
        "            self.balances[to] = amount\n",
        "        self.balances[from_] -= amount\n",
        "\n",
        "    def balance_of(self, address):\n",
        "        return self.balances.get(address, 0)"
      ],
      "metadata": {
        "id": "eRQQ6S1uOP6h"
      },
      "execution_count": 7,
      "outputs": []
    },
    {
      "cell_type": "code",
      "source": [
        "class MyBlockchain(Blockchain):\n",
        "    def __init__(self):\n",
        "        super().__init__()\n",
        "        self.smart_contracts = {}\n",
        "        self.nft_contract = ERC721()\n",
        "        self.fungible_token_contract = FungibleToken()\n",
        "\n",
        "    def store_smart_contract(self, code):\n",
        "        latest_block = self.get_latest_block()\n",
        "        index = latest_block.index + 1\n",
        "        timestamp = int(time.time())\n",
        "        previous_hash = latest_block.hash\n",
        "        smart_contract = SmartContract(code)\n",
        "        new_block = Block(index, previous_hash, timestamp, code, \"\")\n",
        "        validator = self.pos.select_validator()\n",
        "        print(f\"Smart Contract Block #{index} created by {validator} using PoS\")\n",
        "        new_block.hash = Block.calculate_hash(new_block.index, new_block.previous_hash, new_block.timestamp, new_block.data)\n",
        "        self.chain.append(new_block)\n",
        "        block_hash = new_block.hash\n",
        "        self.smart_contracts[block_hash] = smart_contract\n",
        "        return block_hash\n",
        "\n",
        "    def execute_smart_contract_from_block(self, block_hash, **kwargs):\n",
        "        if block_hash in self.smart_contracts:\n",
        "            smart_contract = self.smart_contracts[block_hash]\n",
        "            smart_contract.execute(self, **kwargs)\n",
        "        else:\n",
        "            print(\"Smart contract not found in blockchain\")\n",
        "\n",
        "    def mint_nft(self, owner, metadata):\n",
        "        tokenId = self.nft_contract.mint(owner, metadata)\n",
        "        data = json.dumps({\n",
        "            \"type\": \"mint\",\n",
        "            \"owner\": owner,\n",
        "            \"tokenId\": tokenId,\n",
        "            \"metadata\": metadata\n",
        "        })\n",
        "        self.add_block(data)\n",
        "        return self.get_latest_block().hash\n",
        "\n",
        "    def transfer_nft(self, from_, to, tokenId):\n",
        "        self.nft_contract.transfer(from_, to, tokenId)\n",
        "        data = json.dumps({\n",
        "            \"type\": \"transfer\",\n",
        "            \"from\": from_,\n",
        "            \"to\": to,\n",
        "            \"tokenId\": tokenId\n",
        "        })\n",
        "        self.add_block(data)\n",
        "        return self.get_latest_block().hash\n",
        "\n",
        "    def mint_fungible_token(self, to, amount):\n",
        "        self.fungible_token_contract.mint(to, amount)\n",
        "        data = json.dumps({\n",
        "            \"type\": \"mint_fungible\",\n",
        "            \"to\": to,\n",
        "            \"amount\": amount\n",
        "        })\n",
        "        self.add_block(data)\n",
        "        return self.get_latest_block().hash\n",
        "\n",
        "    def transfer_fungible_token(self, from_, to, amount):\n",
        "        self.fungible_token_contract.transfer(from_, to, amount)\n",
        "        data = json.dumps({\n",
        "            \"type\": \"transfer_fungible\",\n",
        "            \"from\": from_,\n",
        "            \"to\": to,\n",
        "            \"amount\": amount\n",
        "        })\n",
        "        self.add_block(data)\n",
        "        return self.get_latest_block().hash"
      ],
      "metadata": {
        "id": "WL99gI7mOUAo"
      },
      "execution_count": 8,
      "outputs": []
    },
    {
      "cell_type": "code",
      "source": [
        "# Contoh Penggunaan\n",
        "my_blockchain = MyBlockchain()"
      ],
      "metadata": {
        "id": "ixhsicOHOZ8t"
      },
      "execution_count": 9,
      "outputs": []
    },
    {
      "cell_type": "code",
      "source": [
        "my_blockchain.add_stakeholder('Alice', 10)\n",
        "my_blockchain.add_stakeholder('Bob', 20)\n",
        "my_blockchain.add_stakeholder('Charlie', 30)"
      ],
      "metadata": {
        "id": "fuvFHPstOeli"
      },
      "execution_count": 10,
      "outputs": []
    },
    {
      "cell_type": "code",
      "source": [
        "# Menambahkan blok biasa\n",
        "my_blockchain.add_block('Block 1 Data')\n",
        "my_blockchain.add_block('Block 2 Data')"
      ],
      "metadata": {
        "colab": {
          "base_uri": "https://localhost:8080/"
        },
        "id": "VOt1PL8aOhic",
        "outputId": "099cb725-5baa-4c33-a597-2b51579aebc9"
      },
      "execution_count": 11,
      "outputs": [
        {
          "output_type": "stream",
          "name": "stdout",
          "text": [
            "Block #1 created by Bob using PoS\n",
            "Block #2 created by Charlie using PoS\n"
          ]
        }
      ]
    },
    {
      "cell_type": "code",
      "source": [
        "# Menambahkan smart contract\n",
        "smart_contract_code = \"\"\"\n",
        "def contract_function(storage):\n",
        "    storage['counter'] = storage.get('counter', 0) + 1\n",
        "    print(f\"Counter value: {storage['counter']}\")\n",
        "contract_function(storage)\n",
        "\"\"\""
      ],
      "metadata": {
        "id": "kfMqPDVYOlkW"
      },
      "execution_count": 12,
      "outputs": []
    },
    {
      "cell_type": "code",
      "source": [
        "block_hash = my_blockchain.store_smart_contract(smart_contract_code)\n",
        "print(f\"Smart contract stored in block with hash: {block_hash}\")"
      ],
      "metadata": {
        "colab": {
          "base_uri": "https://localhost:8080/"
        },
        "id": "wPJhdNz2Oopx",
        "outputId": "373b2713-d7eb-49df-b426-4199d6bbef2d"
      },
      "execution_count": 13,
      "outputs": [
        {
          "output_type": "stream",
          "name": "stdout",
          "text": [
            "Smart Contract Block #3 created by Bob using PoS\n",
            "Smart contract stored in block with hash: 23d77737c0680aa6bef4b615710282cd11b04873d555fefa762d05a3957f9854\n"
          ]
        }
      ]
    },
    {
      "cell_type": "code",
      "source": [
        "# Menjalankan smart contract dari blockchain\n",
        "my_blockchain.execute_smart_contract_from_block(block_hash)"
      ],
      "metadata": {
        "colab": {
          "base_uri": "https://localhost:8080/"
        },
        "id": "NLEZDH2EOsyB",
        "outputId": "80d041ec-f64c-4550-919c-dc662c9af618"
      },
      "execution_count": 14,
      "outputs": [
        {
          "output_type": "stream",
          "name": "stdout",
          "text": [
            "Counter value: 1\n"
          ]
        }
      ]
    },
    {
      "cell_type": "code",
      "source": [
        "# Menjalankan kembali smart contract untuk melihat perubahan state\n",
        "my_blockchain.execute_smart_contract_from_block(block_hash)"
      ],
      "metadata": {
        "colab": {
          "base_uri": "https://localhost:8080/"
        },
        "id": "PpiUGV_5OxMA",
        "outputId": "18936389-f24c-4138-9613-c4095475afd7"
      },
      "execution_count": 15,
      "outputs": [
        {
          "output_type": "stream",
          "name": "stdout",
          "text": [
            "Counter value: 2\n"
          ]
        }
      ]
    },
    {
      "cell_type": "code",
      "source": [
        "# Mencetak isi blockchain dalam format JSON\n",
        "print(\"Blockchain content in JSON:\")\n",
        "print(my_blockchain.to_json())"
      ],
      "metadata": {
        "colab": {
          "base_uri": "https://localhost:8080/"
        },
        "id": "qb1AuUciOz6L",
        "outputId": "84e01f43-3fc6-4bbe-c2c0-4637679f9b07"
      },
      "execution_count": 16,
      "outputs": [
        {
          "output_type": "stream",
          "name": "stdout",
          "text": [
            "Blockchain content in JSON:\n",
            "[\n",
            "    {\n",
            "        \"index\": 0,\n",
            "        \"previous_hash\": \"0\",\n",
            "        \"timestamp\": 1718695603,\n",
            "        \"data\": \"Genesis Block\",\n",
            "        \"hash\": \"61a5f68d6c6a9a6c0173e99551c552c01205fe52afa466555489af972d2bbe97\"\n",
            "    },\n",
            "    {\n",
            "        \"index\": 1,\n",
            "        \"previous_hash\": \"61a5f68d6c6a9a6c0173e99551c552c01205fe52afa466555489af972d2bbe97\",\n",
            "        \"timestamp\": 1718695608,\n",
            "        \"data\": \"Block 1 Data\",\n",
            "        \"hash\": \"e63a328247b866ba94cab3c88ea6357608236cf842958e1973d5899b29e6c62d\"\n",
            "    },\n",
            "    {\n",
            "        \"index\": 2,\n",
            "        \"previous_hash\": \"e63a328247b866ba94cab3c88ea6357608236cf842958e1973d5899b29e6c62d\",\n",
            "        \"timestamp\": 1718695608,\n",
            "        \"data\": \"Block 2 Data\",\n",
            "        \"hash\": \"1fddadbcd6c1b1ae35d41003d4eb2dd0478aafb9ff5596e6436117b24adec000\"\n",
            "    },\n",
            "    {\n",
            "        \"index\": 3,\n",
            "        \"previous_hash\": \"1fddadbcd6c1b1ae35d41003d4eb2dd0478aafb9ff5596e6436117b24adec000\",\n",
            "        \"timestamp\": 1718695616,\n",
            "        \"data\": \"\\ndef contract_function(storage):\\n    storage['counter'] = storage.get('counter', 0) + 1\\n    print(f\\\"Counter value: {storage['counter']}\\\")\\ncontract_function(storage)\\n\",\n",
            "        \"hash\": \"23d77737c0680aa6bef4b615710282cd11b04873d555fefa762d05a3957f9854\"\n",
            "    }\n",
            "]\n"
          ]
        }
      ]
    },
    {
      "cell_type": "code",
      "source": [
        "# Membuat NFT baru\n",
        "owner_address = \"0xfeedfacefeedfacefeedfacefeedfacefeedface\"\n",
        "asset_uri = \"https://example2.co.id\"\n",
        "mint_block_hash = my_blockchain.mint_nft(owner_address, asset_uri)\n",
        "print(f\"NFT minted in block with hash: {mint_block_hash}\")"
      ],
      "metadata": {
        "colab": {
          "base_uri": "https://localhost:8080/"
        },
        "id": "nvdMxqpOO2q6",
        "outputId": "7e5637d6-4140-4023-a9bd-68c10f344ddc"
      },
      "execution_count": 17,
      "outputs": [
        {
          "output_type": "stream",
          "name": "stdout",
          "text": [
            "Block #4 created by Bob using PoS\n",
            "NFT minted in block with hash: f09dcd3b2e8d87407c6b7d2216028c2766e733accf17f32cf7f3218ac9e745f4\n"
          ]
        }
      ]
    },
    {
      "cell_type": "code",
      "source": [
        "# Transfer NFT\n",
        "new_owner_address = \"0xbadc0ffeebadc0ffeebadc0ffeebadc0ffeebadc\"\n",
        "token_id = hashlib.sha256(asset_uri.encode()).hexdigest()\n",
        "transfer_block_hash = my_blockchain.transfer_nft(owner_address, new_owner_address, token_id)\n",
        "print(f\"NFT transferred in block with hash: {transfer_block_hash}\")"
      ],
      "metadata": {
        "colab": {
          "base_uri": "https://localhost:8080/"
        },
        "id": "_iqCNrexO8Uh",
        "outputId": "7618eae1-0f34-4ba0-9ba5-eba4cf0c568e"
      },
      "execution_count": 18,
      "outputs": [
        {
          "output_type": "stream",
          "name": "stdout",
          "text": [
            "Block #5 created by Bob using PoS\n",
            "NFT transferred in block with hash: 4a917036fe82eb3c01e158e9cdbc0dc1d1efb025a00bcbcacbcaff73a449ed95\n"
          ]
        }
      ]
    },
    {
      "cell_type": "code",
      "source": [
        "# Mencetak isi blockchain dalam format JSON\n",
        "print(\"Blockchain content in JSON:\")\n",
        "print(my_blockchain.to_json())"
      ],
      "metadata": {
        "colab": {
          "base_uri": "https://localhost:8080/"
        },
        "id": "bDJLJYSiO-zm",
        "outputId": "d6210f2a-dfd8-420a-f7d0-623b2769a43b"
      },
      "execution_count": 19,
      "outputs": [
        {
          "output_type": "stream",
          "name": "stdout",
          "text": [
            "Blockchain content in JSON:\n",
            "[\n",
            "    {\n",
            "        \"index\": 0,\n",
            "        \"previous_hash\": \"0\",\n",
            "        \"timestamp\": 1718695603,\n",
            "        \"data\": \"Genesis Block\",\n",
            "        \"hash\": \"61a5f68d6c6a9a6c0173e99551c552c01205fe52afa466555489af972d2bbe97\"\n",
            "    },\n",
            "    {\n",
            "        \"index\": 1,\n",
            "        \"previous_hash\": \"61a5f68d6c6a9a6c0173e99551c552c01205fe52afa466555489af972d2bbe97\",\n",
            "        \"timestamp\": 1718695608,\n",
            "        \"data\": \"Block 1 Data\",\n",
            "        \"hash\": \"e63a328247b866ba94cab3c88ea6357608236cf842958e1973d5899b29e6c62d\"\n",
            "    },\n",
            "    {\n",
            "        \"index\": 2,\n",
            "        \"previous_hash\": \"e63a328247b866ba94cab3c88ea6357608236cf842958e1973d5899b29e6c62d\",\n",
            "        \"timestamp\": 1718695608,\n",
            "        \"data\": \"Block 2 Data\",\n",
            "        \"hash\": \"1fddadbcd6c1b1ae35d41003d4eb2dd0478aafb9ff5596e6436117b24adec000\"\n",
            "    },\n",
            "    {\n",
            "        \"index\": 3,\n",
            "        \"previous_hash\": \"1fddadbcd6c1b1ae35d41003d4eb2dd0478aafb9ff5596e6436117b24adec000\",\n",
            "        \"timestamp\": 1718695616,\n",
            "        \"data\": \"\\ndef contract_function(storage):\\n    storage['counter'] = storage.get('counter', 0) + 1\\n    print(f\\\"Counter value: {storage['counter']}\\\")\\ncontract_function(storage)\\n\",\n",
            "        \"hash\": \"23d77737c0680aa6bef4b615710282cd11b04873d555fefa762d05a3957f9854\"\n",
            "    },\n",
            "    {\n",
            "        \"index\": 4,\n",
            "        \"previous_hash\": \"23d77737c0680aa6bef4b615710282cd11b04873d555fefa762d05a3957f9854\",\n",
            "        \"timestamp\": 1718695637,\n",
            "        \"data\": \"{\\\"type\\\": \\\"mint\\\", \\\"owner\\\": \\\"0xfeedfacefeedfacefeedfacefeedfacefeedface\\\", \\\"tokenId\\\": \\\"8b77fa5c5a4ba9119bd9258672bc9f59884b884ff9f187002d635b1d1a773aa8\\\", \\\"metadata\\\": \\\"https://example2.co.id\\\"}\",\n",
            "        \"hash\": \"f09dcd3b2e8d87407c6b7d2216028c2766e733accf17f32cf7f3218ac9e745f4\"\n",
            "    },\n",
            "    {\n",
            "        \"index\": 5,\n",
            "        \"previous_hash\": \"f09dcd3b2e8d87407c6b7d2216028c2766e733accf17f32cf7f3218ac9e745f4\",\n",
            "        \"timestamp\": 1718695641,\n",
            "        \"data\": \"{\\\"type\\\": \\\"transfer\\\", \\\"from\\\": \\\"0xfeedfacefeedfacefeedfacefeedfacefeedface\\\", \\\"to\\\": \\\"0xbadc0ffeebadc0ffeebadc0ffeebadc0ffeebadc\\\", \\\"tokenId\\\": \\\"8b77fa5c5a4ba9119bd9258672bc9f59884b884ff9f187002d635b1d1a773aa8\\\"}\",\n",
            "        \"hash\": \"4a917036fe82eb3c01e158e9cdbc0dc1d1efb025a00bcbcacbcaff73a449ed95\"\n",
            "    }\n",
            "]\n"
          ]
        }
      ]
    },
    {
      "cell_type": "code",
      "source": [
        "# Demonstrasi Token Fungible (ERC20)\n",
        "my_blockchain.mint_fungible_token(\"0xabc\", 1000)\n",
        "my_blockchain.mint_fungible_token(\"0xdef\", 500)"
      ],
      "metadata": {
        "colab": {
          "base_uri": "https://localhost:8080/",
          "height": 70
        },
        "id": "nSEQjGcJPA_G",
        "outputId": "4b926c61-cd81-402d-ee22-bf9fdc76f3b1"
      },
      "execution_count": 20,
      "outputs": [
        {
          "output_type": "stream",
          "name": "stdout",
          "text": [
            "Block #6 created by Bob using PoS\n",
            "Block #7 created by Charlie using PoS\n"
          ]
        },
        {
          "output_type": "execute_result",
          "data": {
            "text/plain": [
              "'1e5ae86081a7e9c89022d3ba9e9d29d3313afe9f68928293a604cdc06e373b0b'"
            ],
            "application/vnd.google.colaboratory.intrinsic+json": {
              "type": "string"
            }
          },
          "metadata": {},
          "execution_count": 20
        }
      ]
    },
    {
      "cell_type": "code",
      "source": [
        "print(\"Balance of 0xabc:\", my_blockchain.fungible_token_contract.balance_of(\"0xabc\"))\n",
        "print(\"Balance of 0xdef:\", my_blockchain.fungible_token_contract.balance_of(\"0xdef\"))"
      ],
      "metadata": {
        "colab": {
          "base_uri": "https://localhost:8080/"
        },
        "id": "M6tJE8FiPD3k",
        "outputId": "d055a216-feb9-4bd0-e0fb-952f26c9a7f7"
      },
      "execution_count": 21,
      "outputs": [
        {
          "output_type": "stream",
          "name": "stdout",
          "text": [
            "Balance of 0xabc: 1000\n",
            "Balance of 0xdef: 500\n"
          ]
        }
      ]
    },
    {
      "cell_type": "code",
      "source": [
        "my_blockchain.transfer_fungible_token(\"0xabc\", \"0xdef\", 200)"
      ],
      "metadata": {
        "colab": {
          "base_uri": "https://localhost:8080/",
          "height": 53
        },
        "id": "HLZDRUDDPGsy",
        "outputId": "5d435cab-59e5-47dd-a7b5-a77567e05704"
      },
      "execution_count": 22,
      "outputs": [
        {
          "output_type": "stream",
          "name": "stdout",
          "text": [
            "Block #8 created by Charlie using PoS\n"
          ]
        },
        {
          "output_type": "execute_result",
          "data": {
            "text/plain": [
              "'9947fde0f6639c89889bda1a111d605def8ca06755ca2711cd9502b93094cd0b'"
            ],
            "application/vnd.google.colaboratory.intrinsic+json": {
              "type": "string"
            }
          },
          "metadata": {},
          "execution_count": 22
        }
      ]
    },
    {
      "cell_type": "code",
      "source": [
        "print(\"Balance of 0xabc after transfer:\", my_blockchain.fungible_token_contract.balance_of(\"0xabc\"))\n",
        "print(\"Balance of 0xdef after transfer:\", my_blockchain.fungible_token_contract.balance_of(\"0xdef\"))"
      ],
      "metadata": {
        "colab": {
          "base_uri": "https://localhost:8080/"
        },
        "id": "g7mUVou0PHwg",
        "outputId": "8ce2ac40-5979-4f65-e6b7-2c76ed75b7a9"
      },
      "execution_count": 23,
      "outputs": [
        {
          "output_type": "stream",
          "name": "stdout",
          "text": [
            "Balance of 0xabc after transfer: 800\n",
            "Balance of 0xdef after transfer: 700\n"
          ]
        }
      ]
    },
    {
      "cell_type": "code",
      "source": [
        "# Mencetak isi blockchain dalam format JSON\n",
        "print(\"Blockchain content in JSON:\")\n",
        "print(my_blockchain.to_json())"
      ],
      "metadata": {
        "colab": {
          "base_uri": "https://localhost:8080/"
        },
        "id": "uiZLt1NcPJyi",
        "outputId": "5864eaca-f18d-49fb-8d33-219da4d5396e"
      },
      "execution_count": 24,
      "outputs": [
        {
          "output_type": "stream",
          "name": "stdout",
          "text": [
            "Blockchain content in JSON:\n",
            "[\n",
            "    {\n",
            "        \"index\": 0,\n",
            "        \"previous_hash\": \"0\",\n",
            "        \"timestamp\": 1718695603,\n",
            "        \"data\": \"Genesis Block\",\n",
            "        \"hash\": \"61a5f68d6c6a9a6c0173e99551c552c01205fe52afa466555489af972d2bbe97\"\n",
            "    },\n",
            "    {\n",
            "        \"index\": 1,\n",
            "        \"previous_hash\": \"61a5f68d6c6a9a6c0173e99551c552c01205fe52afa466555489af972d2bbe97\",\n",
            "        \"timestamp\": 1718695608,\n",
            "        \"data\": \"Block 1 Data\",\n",
            "        \"hash\": \"e63a328247b866ba94cab3c88ea6357608236cf842958e1973d5899b29e6c62d\"\n",
            "    },\n",
            "    {\n",
            "        \"index\": 2,\n",
            "        \"previous_hash\": \"e63a328247b866ba94cab3c88ea6357608236cf842958e1973d5899b29e6c62d\",\n",
            "        \"timestamp\": 1718695608,\n",
            "        \"data\": \"Block 2 Data\",\n",
            "        \"hash\": \"1fddadbcd6c1b1ae35d41003d4eb2dd0478aafb9ff5596e6436117b24adec000\"\n",
            "    },\n",
            "    {\n",
            "        \"index\": 3,\n",
            "        \"previous_hash\": \"1fddadbcd6c1b1ae35d41003d4eb2dd0478aafb9ff5596e6436117b24adec000\",\n",
            "        \"timestamp\": 1718695616,\n",
            "        \"data\": \"\\ndef contract_function(storage):\\n    storage['counter'] = storage.get('counter', 0) + 1\\n    print(f\\\"Counter value: {storage['counter']}\\\")\\ncontract_function(storage)\\n\",\n",
            "        \"hash\": \"23d77737c0680aa6bef4b615710282cd11b04873d555fefa762d05a3957f9854\"\n",
            "    },\n",
            "    {\n",
            "        \"index\": 4,\n",
            "        \"previous_hash\": \"23d77737c0680aa6bef4b615710282cd11b04873d555fefa762d05a3957f9854\",\n",
            "        \"timestamp\": 1718695637,\n",
            "        \"data\": \"{\\\"type\\\": \\\"mint\\\", \\\"owner\\\": \\\"0xfeedfacefeedfacefeedfacefeedfacefeedface\\\", \\\"tokenId\\\": \\\"8b77fa5c5a4ba9119bd9258672bc9f59884b884ff9f187002d635b1d1a773aa8\\\", \\\"metadata\\\": \\\"https://example2.co.id\\\"}\",\n",
            "        \"hash\": \"f09dcd3b2e8d87407c6b7d2216028c2766e733accf17f32cf7f3218ac9e745f4\"\n",
            "    },\n",
            "    {\n",
            "        \"index\": 5,\n",
            "        \"previous_hash\": \"f09dcd3b2e8d87407c6b7d2216028c2766e733accf17f32cf7f3218ac9e745f4\",\n",
            "        \"timestamp\": 1718695641,\n",
            "        \"data\": \"{\\\"type\\\": \\\"transfer\\\", \\\"from\\\": \\\"0xfeedfacefeedfacefeedfacefeedfacefeedface\\\", \\\"to\\\": \\\"0xbadc0ffeebadc0ffeebadc0ffeebadc0ffeebadc\\\", \\\"tokenId\\\": \\\"8b77fa5c5a4ba9119bd9258672bc9f59884b884ff9f187002d635b1d1a773aa8\\\"}\",\n",
            "        \"hash\": \"4a917036fe82eb3c01e158e9cdbc0dc1d1efb025a00bcbcacbcaff73a449ed95\"\n",
            "    },\n",
            "    {\n",
            "        \"index\": 6,\n",
            "        \"previous_hash\": \"4a917036fe82eb3c01e158e9cdbc0dc1d1efb025a00bcbcacbcaff73a449ed95\",\n",
            "        \"timestamp\": 1718695651,\n",
            "        \"data\": \"{\\\"type\\\": \\\"mint_fungible\\\", \\\"to\\\": \\\"0xabc\\\", \\\"amount\\\": 1000}\",\n",
            "        \"hash\": \"82bffeff2ffec566efc935680a8a72bd112bb4632439df10bf6a50749beaf82d\"\n",
            "    },\n",
            "    {\n",
            "        \"index\": 7,\n",
            "        \"previous_hash\": \"82bffeff2ffec566efc935680a8a72bd112bb4632439df10bf6a50749beaf82d\",\n",
            "        \"timestamp\": 1718695651,\n",
            "        \"data\": \"{\\\"type\\\": \\\"mint_fungible\\\", \\\"to\\\": \\\"0xdef\\\", \\\"amount\\\": 500}\",\n",
            "        \"hash\": \"1e5ae86081a7e9c89022d3ba9e9d29d3313afe9f68928293a604cdc06e373b0b\"\n",
            "    },\n",
            "    {\n",
            "        \"index\": 8,\n",
            "        \"previous_hash\": \"1e5ae86081a7e9c89022d3ba9e9d29d3313afe9f68928293a604cdc06e373b0b\",\n",
            "        \"timestamp\": 1718695658,\n",
            "        \"data\": \"{\\\"type\\\": \\\"transfer_fungible\\\", \\\"from\\\": \\\"0xabc\\\", \\\"to\\\": \\\"0xdef\\\", \\\"amount\\\": 200}\",\n",
            "        \"hash\": \"9947fde0f6639c89889bda1a111d605def8ca06755ca2711cd9502b93094cd0b\"\n",
            "    }\n",
            "]\n"
          ]
        }
      ]
    }
  ]
}