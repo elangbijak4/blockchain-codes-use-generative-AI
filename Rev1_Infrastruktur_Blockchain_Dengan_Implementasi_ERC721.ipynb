{
  "nbformat": 4,
  "nbformat_minor": 0,
  "metadata": {
    "colab": {
      "provenance": [],
      "include_colab_link": true
    },
    "kernelspec": {
      "name": "python3",
      "display_name": "Python 3"
    },
    "language_info": {
      "name": "python"
    }
  },
  "cells": [
    {
      "cell_type": "markdown",
      "metadata": {
        "id": "view-in-github",
        "colab_type": "text"
      },
      "source": [
        "<a href=\"https://colab.research.google.com/github/elangbijak4/blockchain-codes-use-generative-AI/blob/main/Rev1_Infrastruktur_Blockchain_Dengan_Implementasi_ERC721.ipynb\" target=\"_parent\"><img src=\"https://colab.research.google.com/assets/colab-badge.svg\" alt=\"Open In Colab\"/></a>"
      ]
    },
    {
      "cell_type": "code",
      "source": [
        "import hashlib\n",
        "import time\n",
        "import json"
      ],
      "metadata": {
        "id": "oJulfZ-Q5vVz"
      },
      "execution_count": 17,
      "outputs": []
    },
    {
      "cell_type": "markdown",
      "source": [
        "## Kelas Block"
      ],
      "metadata": {
        "id": "J2ZhMvX850qn"
      }
    },
    {
      "cell_type": "code",
      "source": [
        "class Block:\n",
        "    def __init__(self, index, previous_hash, timestamp, data, hash):\n",
        "        self.index = index\n",
        "        self.previous_hash = previous_hash\n",
        "        self.timestamp = timestamp\n",
        "        self.data = data\n",
        "        self.hash = hash\n",
        "\n",
        "    @staticmethod\n",
        "    def calculate_hash(index, previous_hash, timestamp, data):\n",
        "        value = f\"{index}{previous_hash}{timestamp}{data}\"\n",
        "        return hashlib.sha256(value.encode('utf-8')).hexdigest()\n",
        "\n",
        "    @staticmethod\n",
        "    def create_genesis_block():\n",
        "        return Block(0, \"0\", int(time.time()), \"Genesis Block\", Block.calculate_hash(0, \"0\", int(time.time()), \"Genesis Block\"))\n",
        "\n",
        "    def to_dict(self):\n",
        "        return {\n",
        "            \"index\": self.index,\n",
        "            \"previous_hash\": self.previous_hash,\n",
        "            \"timestamp\": self.timestamp,\n",
        "            \"data\": self.data,\n",
        "            \"hash\": self.hash\n",
        "        }"
      ],
      "metadata": {
        "id": "kr6-36Yw5xz_"
      },
      "execution_count": 18,
      "outputs": []
    },
    {
      "cell_type": "markdown",
      "source": [
        "## Kelas Smart Contract"
      ],
      "metadata": {
        "id": "ygiPIKCL6C-4"
      }
    },
    {
      "cell_type": "code",
      "source": [
        "class SmartContract:\n",
        "    def __init__(self, code):\n",
        "        self.code = code\n",
        "        self.storage = {}\n",
        "\n",
        "    def execute(self, blockchain, **kwargs):\n",
        "        local_context = {\n",
        "            'blockchain': blockchain,\n",
        "            'storage': self.storage\n",
        "        }\n",
        "        local_context.update(kwargs)\n",
        "        exec(self.code, {}, local_context)\n",
        "        self.storage = local_context['storage']"
      ],
      "metadata": {
        "id": "7DbWDdqP56ut"
      },
      "execution_count": 19,
      "outputs": []
    },
    {
      "cell_type": "markdown",
      "source": [
        "Implementasi ERC721 ke dalam Kelas ERC721"
      ],
      "metadata": {
        "id": "zOqpUdKt5fOz"
      }
    },
    {
      "cell_type": "code",
      "execution_count": 20,
      "metadata": {
        "id": "0MnP4hWA4zVs"
      },
      "outputs": [],
      "source": [
        "class ERC721:\n",
        "    def __init__(self):\n",
        "        self._token_owner = {}  # tokenId => owner\n",
        "        self._owned_tokens = {}  # owner => list of tokenIds\n",
        "        self._token_approvals = {}  # tokenId => approved address\n",
        "        self._operator_approvals = {}  # owner => (operator => approved)\n",
        "\n",
        "    def balance_of(self, owner):\n",
        "        if owner in self._owned_tokens:\n",
        "            return len(self._owned_tokens[owner])\n",
        "        return 0\n",
        "\n",
        "    def owner_of(self, tokenId):\n",
        "        return self._token_owner.get(tokenId, None)\n",
        "\n",
        "    def transfer_from(self, from_address, to_address, tokenId):\n",
        "        if self._is_approved_or_owner(from_address, tokenId):\n",
        "            self._transfer(from_address, to_address, tokenId)\n",
        "\n",
        "    def approve(self, to, tokenId):\n",
        "        owner = self.owner_of(tokenId)\n",
        "        if owner:\n",
        "            self._token_approvals[tokenId] = to\n",
        "\n",
        "    def set_approval_for_all(self, owner, operator, approved):\n",
        "        if owner in self._operator_approvals:\n",
        "            self._operator_approvals[owner][operator] = approved\n",
        "        else:\n",
        "            self._operator_approvals[owner] = {operator: approved}\n",
        "\n",
        "    def is_approved_for_all(self, owner, operator):\n",
        "        return self._operator_approvals.get(owner, {}).get(operator, False)\n",
        "\n",
        "    def _is_approved_or_owner(self, spender, tokenId):\n",
        "        owner = self.owner_of(tokenId)\n",
        "        return spender == owner or \\\n",
        "               self._token_approvals.get(tokenId) == spender or \\\n",
        "               self.is_approved_for_all(owner, spender)\n",
        "\n",
        "    def _transfer(self, from_address, to_address, tokenId):\n",
        "        # Remove token from the current owner's list\n",
        "        if from_address in self._owned_tokens:\n",
        "            self._owned_tokens[from_address].remove(tokenId)\n",
        "\n",
        "        # Add token to the new owner's list\n",
        "        if to_address in self._owned_tokens:\n",
        "            self._owned_tokens[to_address].append(tokenId)\n",
        "        else:\n",
        "            self._owned_tokens[to_address] = [tokenId]\n",
        "\n",
        "        # Change token owner\n",
        "        self._token_owner[tokenId] = to_address\n",
        "\n",
        "        # Clear approval\n",
        "        if tokenId in self._token_approvals:\n",
        "            del self._token_approvals[tokenId]\n",
        "\n",
        "    def mint(self, to, tokenId):\n",
        "        if tokenId not in self._token_owner:\n",
        "            self._token_owner[tokenId] = to\n",
        "            if to in self._owned_tokens:\n",
        "                self._owned_tokens[to].append(tokenId)\n",
        "            else:\n",
        "                self._owned_tokens[to] = [tokenId]\n",
        "\n",
        "    def burn(self, tokenId):\n",
        "        owner = self.owner_of(tokenId)\n",
        "        if owner:\n",
        "            self._owned_tokens[owner].remove(tokenId)\n",
        "            del self._token_owner[tokenId]\n",
        "            if tokenId in self._token_approvals:\n",
        "                del self._token_approvals[tokenId]\n"
      ]
    },
    {
      "cell_type": "markdown",
      "source": [
        "### Integrasi ERC721 dengan Blockchain"
      ],
      "metadata": {
        "id": "QKBL_L4C5YgO"
      }
    },
    {
      "cell_type": "code",
      "source": [
        "class Blockchain:\n",
        "    def __init__(self):\n",
        "        self.chain = [Block.create_genesis_block()]\n",
        "        self.erc721 = ERC721()  # Tambahkan inisialisasi ERC721\n",
        "        self.smart_contracts = {}  # Menyimpan alamat blok dan smart contract code\n",
        "\n",
        "    def get_latest_block(self):\n",
        "        return self.chain[-1]\n",
        "\n",
        "    def add_block(self, data):\n",
        "        latest_block = self.get_latest_block()\n",
        "        new_index = latest_block.index + 1\n",
        "        new_timestamp = int(time.time())\n",
        "        new_hash = Block.calculate_hash(new_index, latest_block.hash, new_timestamp, data)\n",
        "        new_block = Block(new_index, latest_block.hash, new_timestamp, data, new_hash)\n",
        "        self.chain.append(new_block)\n",
        "        return new_block\n",
        "\n",
        "    def is_chain_valid(self):\n",
        "        for i in range(1, len(self.chain)):\n",
        "            current_block = self.chain[i]\n",
        "            previous_block = self.chain[i-1]\n",
        "\n",
        "            if current_block.hash != Block.calculate_hash(current_block.index, current_block.previous_hash, current_block.timestamp, current_block.data):\n",
        "                return False\n",
        "\n",
        "            if current_block.previous_hash != previous_block.hash:\n",
        "                return False\n",
        "\n",
        "        return True\n",
        "\n",
        "    def mint_nft(self, to, tokenId):\n",
        "        self.erc721.mint(to, tokenId)\n",
        "        block = self.add_block(f\"Minted NFT {tokenId} to {to}\")\n",
        "        return block.hash\n",
        "\n",
        "    def transfer_nft(self, from_address, to_address, tokenId):\n",
        "        self.erc721.transfer_from(from_address, to_address, tokenId)\n",
        "        block = self.add_block(f\"Transferred NFT {tokenId} from {from_address} to {to_address}\")\n",
        "        return block.hash\n",
        "\n",
        "    def store_smart_contract(self, code):\n",
        "        contract = SmartContract(code)\n",
        "        block = self.add_block(f\"Smart contract stored\")\n",
        "        self.smart_contracts[block.hash] = contract\n",
        "        return block.hash\n",
        "\n",
        "    def execute_smart_contract_from_block(self, block_hash, **kwargs):\n",
        "        if block_hash in self.smart_contracts:\n",
        "            contract = self.smart_contracts[block_hash]\n",
        "            contract.execute(self, **kwargs)\n",
        "        else:\n",
        "            print(\"Smart contract not found in the specified block\")\n",
        "\n",
        "    def to_json(self):\n",
        "        return json.dumps([block.to_dict() for block in self.chain], indent=4)\n"
      ],
      "metadata": {
        "id": "m1aj4CDK5SzF"
      },
      "execution_count": 21,
      "outputs": []
    },
    {
      "cell_type": "markdown",
      "source": [
        "## Demo Pembuatan Smart Contract"
      ],
      "metadata": {
        "id": "w-etVpRM6KIk"
      }
    },
    {
      "cell_type": "code",
      "source": [
        "if __name__ == \"__main__\":\n",
        "    # Membuat blockchain baru\n",
        "    my_blockchain = Blockchain()\n",
        "\n",
        "    # Menambahkan blok baru\n",
        "    my_blockchain.add_block(\"Block 1 Data\")\n",
        "    my_blockchain.add_block(\"Block 2 Data\")\n",
        "\n",
        "    print(\"Blockchain valid:\", my_blockchain.is_chain_valid())\n",
        "\n",
        "    # Membuat smart contract sederhana\n",
        "    smart_contract_code = \"\"\"\n",
        "def contract_function(storage):\n",
        "    storage['counter'] = storage.get('counter', 0) + 1\n",
        "    print(f\"Counter value: {storage['counter']}\")\n",
        "\n",
        "contract_function(storage)\n",
        "\"\"\"\n",
        "\n",
        "    # Menyimpan smart contract ke blockchain\n",
        "    block_hash = my_blockchain.store_smart_contract(smart_contract_code)\n",
        "    print(f\"Smart contract stored in block with hash: {block_hash}\")\n",
        "\n",
        "    # Menjalankan smart contract dari blockchain\n",
        "    my_blockchain.execute_smart_contract_from_block(block_hash)\n",
        "\n",
        "    # Menjalankan kembali smart contract untuk melihat perubahan state\n",
        "    my_blockchain.execute_smart_contract_from_block(block_hash)\n",
        "\n",
        "    # Mencetak isi blockchain dalam format JSON\n",
        "    print(\"Blockchain content in JSON:\")\n",
        "    print(my_blockchain.to_json())"
      ],
      "metadata": {
        "colab": {
          "base_uri": "https://localhost:8080/"
        },
        "id": "tha-Dbpf6LRn",
        "outputId": "c589de77-209e-47a4-8702-47bbb552bcca"
      },
      "execution_count": 22,
      "outputs": [
        {
          "output_type": "stream",
          "name": "stdout",
          "text": [
            "Blockchain valid: True\n",
            "Smart contract stored in block with hash: 71e50808364269860b7fd8d9e5aa5a6792f28a27d145bebe141da53e8d2a1593\n",
            "Counter value: 1\n",
            "Counter value: 2\n",
            "Blockchain content in JSON:\n",
            "[\n",
            "    {\n",
            "        \"index\": 0,\n",
            "        \"previous_hash\": \"0\",\n",
            "        \"timestamp\": 1716914920,\n",
            "        \"data\": \"Genesis Block\",\n",
            "        \"hash\": \"24213dcb4ebffac9c8612b3c634127b0799eb863c51e88e84d38c817f10009c5\"\n",
            "    },\n",
            "    {\n",
            "        \"index\": 1,\n",
            "        \"previous_hash\": \"24213dcb4ebffac9c8612b3c634127b0799eb863c51e88e84d38c817f10009c5\",\n",
            "        \"timestamp\": 1716914920,\n",
            "        \"data\": \"Block 1 Data\",\n",
            "        \"hash\": \"89124417509103534468cecc5aa14a1773e9ac023d0ca0b18af1a98d195175ed\"\n",
            "    },\n",
            "    {\n",
            "        \"index\": 2,\n",
            "        \"previous_hash\": \"89124417509103534468cecc5aa14a1773e9ac023d0ca0b18af1a98d195175ed\",\n",
            "        \"timestamp\": 1716914920,\n",
            "        \"data\": \"Block 2 Data\",\n",
            "        \"hash\": \"3b3a9857d6a83e8963884ebe2f1921900bcdeea643addd09fb9757146b2b21db\"\n",
            "    },\n",
            "    {\n",
            "        \"index\": 3,\n",
            "        \"previous_hash\": \"3b3a9857d6a83e8963884ebe2f1921900bcdeea643addd09fb9757146b2b21db\",\n",
            "        \"timestamp\": 1716914920,\n",
            "        \"data\": \"Smart contract stored\",\n",
            "        \"hash\": \"71e50808364269860b7fd8d9e5aa5a6792f28a27d145bebe141da53e8d2a1593\"\n",
            "    }\n",
            "]\n"
          ]
        }
      ]
    },
    {
      "cell_type": "markdown",
      "source": [
        "## Demo Penggunaan ERC-721"
      ],
      "metadata": {
        "id": "DMQUVoj35nsa"
      }
    },
    {
      "cell_type": "code",
      "source": [
        "if __name__ == \"__main__\":\n",
        "    # Membuat blockchain baru\n",
        "    my_blockchain = Blockchain()\n",
        "\n",
        "    # Mint NFT baru\n",
        "    my_blockchain.mint_nft(\"0x123\", 1)\n",
        "    my_blockchain.mint_nft(\"0x456\", 2)\n",
        "\n",
        "    # Transfer NFT\n",
        "    my_blockchain.transfer_nft(\"0x123\", \"0x789\", 1)\n",
        "\n",
        "    # Periksa kepemilikan NFT\n",
        "    print(\"Owner of NFT 1:\", my_blockchain.erc721.owner_of(1))\n",
        "    print(\"Owner of NFT 2:\", my_blockchain.erc721.owner_of(2))\n",
        "\n",
        "    # Validasi blockchain\n",
        "    print(\"Blockchain valid:\", my_blockchain.is_chain_valid())\n",
        "\n",
        "    # Menampilkan isi blockchain dalam format JSON\n",
        "    print(\"Blockchain content in JSON:\")\n",
        "    print(my_blockchain.to_json())"
      ],
      "metadata": {
        "colab": {
          "base_uri": "https://localhost:8080/"
        },
        "id": "f9vS7Nfy5Uq1",
        "outputId": "b86cf8e4-326d-4aa3-b5f8-b363f6a64a74"
      },
      "execution_count": 23,
      "outputs": [
        {
          "output_type": "stream",
          "name": "stdout",
          "text": [
            "Owner of NFT 1: 0x789\n",
            "Owner of NFT 2: 0x456\n",
            "Blockchain valid: True\n",
            "Blockchain content in JSON:\n",
            "[\n",
            "    {\n",
            "        \"index\": 0,\n",
            "        \"previous_hash\": \"0\",\n",
            "        \"timestamp\": 1716914990,\n",
            "        \"data\": \"Genesis Block\",\n",
            "        \"hash\": \"2ac8a3da35e81f40967b898e19ad634a07a70e3149a08117192d0244be3ee4ec\"\n",
            "    },\n",
            "    {\n",
            "        \"index\": 1,\n",
            "        \"previous_hash\": \"2ac8a3da35e81f40967b898e19ad634a07a70e3149a08117192d0244be3ee4ec\",\n",
            "        \"timestamp\": 1716914990,\n",
            "        \"data\": \"Minted NFT 1 to 0x123\",\n",
            "        \"hash\": \"dd003a3c9e2c8a0c25db2c14278bd9e60b0f2441f438a84c6535cf141f4438e2\"\n",
            "    },\n",
            "    {\n",
            "        \"index\": 2,\n",
            "        \"previous_hash\": \"dd003a3c9e2c8a0c25db2c14278bd9e60b0f2441f438a84c6535cf141f4438e2\",\n",
            "        \"timestamp\": 1716914990,\n",
            "        \"data\": \"Minted NFT 2 to 0x456\",\n",
            "        \"hash\": \"a155185f6d6bb51da8f34c20dac6f12086077da87e4a9e4b9d3b3e58d8f1e47a\"\n",
            "    },\n",
            "    {\n",
            "        \"index\": 3,\n",
            "        \"previous_hash\": \"a155185f6d6bb51da8f34c20dac6f12086077da87e4a9e4b9d3b3e58d8f1e47a\",\n",
            "        \"timestamp\": 1716914990,\n",
            "        \"data\": \"Transferred NFT 1 from 0x123 to 0x789\",\n",
            "        \"hash\": \"eb04d2170875306af474f0c14f62feed7de89bd98c00908ccadb924acea40371\"\n",
            "    }\n",
            "]\n"
          ]
        }
      ]
    }
  ]
}