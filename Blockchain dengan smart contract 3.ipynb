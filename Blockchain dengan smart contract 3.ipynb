{
  "nbformat": 4,
  "nbformat_minor": 0,
  "metadata": {
    "colab": {
      "provenance": []
    },
    "kernelspec": {
      "name": "python3",
      "display_name": "Python 3"
    },
    "language_info": {
      "name": "python"
    }
  },
  "cells": [
    {
      "cell_type": "code",
      "execution_count": 1,
      "metadata": {
        "id": "lq1SkvI5C8U0"
      },
      "outputs": [],
      "source": [
        "import json\n",
        "import hashlib\n",
        "import datetime"
      ]
    },
    {
      "cell_type": "code",
      "source": [
        "class Block:\n",
        "    def __init__(self, index, timestamp, transactions, previous_hash, smart_contract=None, contract_result=None):\n",
        "        self.index = index\n",
        "        self.timestamp = timestamp\n",
        "        self.transactions = transactions\n",
        "        self.previous_hash = previous_hash\n",
        "        self.smart_contract = smart_contract\n",
        "        self.contract_result = contract_result\n",
        "        self.nonce = 0\n",
        "        self.hash = self.calculate_hash()\n",
        "\n",
        "    def calculate_hash(self):\n",
        "        return hashlib.sha256((str(self.index) + str(self.timestamp) + str(self.transactions) + str(self.previous_hash) + str(self.smart_contract) + str(self.contract_result) + str(self.nonce)).encode('utf-8')).hexdigest()"
      ],
      "metadata": {
        "id": "YxL62tKjDEEH"
      },
      "execution_count": 2,
      "outputs": []
    },
    {
      "cell_type": "code",
      "source": [
        "class Blockchain:\n",
        "    def __init__(self):\n",
        "        self.chain = [self.create_genesis_block()]\n",
        "        self.difficulty = 4  # Tingkat kesulitan penambangan\n",
        "\n",
        "    def create_genesis_block(self):\n",
        "        return Block(0, datetime.datetime.now(), [], \"0\")\n",
        "\n",
        "    def get_latest_block(self):\n",
        "        return self.chain[-1]\n",
        "\n",
        "    def add_block(self, new_block):\n",
        "        new_block.previous_hash = self.get_latest_block().hash\n",
        "        new_block.hash = self.proof_of_work(new_block)\n",
        "        self.chain.append(new_block)\n",
        "\n",
        "    def add_transaction(self, transaction):\n",
        "        latest_block = self.get_latest_block()\n",
        "        if len(latest_block.transactions) >= 2:  # Maksimum 2 transaksi per blok\n",
        "            self.add_block(Block(len(self.chain), datetime.datetime.now(), [transaction], \"\"))\n",
        "        else:\n",
        "            latest_block.transactions.append(transaction)\n",
        "        print(\"Transaction added successfully.\")\n",
        "\n",
        "    def execute_smart_contract(self, smart_contract):\n",
        "        latest_block = self.get_latest_block()\n",
        "        latest_block.smart_contract = smart_contract\n",
        "        # Disini Anda bisa menambahkan logika untuk mengeksekusi smart contract\n",
        "        # Dalam contoh ini, kita hanya menyimpan hasilnya sebagai teks\n",
        "        latest_block.contract_result = \"Smart contract executed successfully.\"\n",
        "        print(\"Smart contract executed successfully.\")\n",
        "\n",
        "    def store_smart_contract(self, smart_contract):\n",
        "        latest_block = self.get_latest_block()\n",
        "        latest_block.smart_contract = smart_contract\n",
        "        print(\"Smart contract stored in block.\")\n",
        "\n",
        "    def proof_of_work(self, block):\n",
        "        block.nonce = 0\n",
        "        computed_hash = block.calculate_hash()\n",
        "        while not computed_hash.startswith('0' * self.difficulty):\n",
        "            block.nonce += 1\n",
        "            computed_hash = block.calculate_hash()\n",
        "        return computed_hash\n",
        "\n",
        "    def to_json(self):\n",
        "        chain_json = []\n",
        "        for block in self.chain:\n",
        "            block_json = {\n",
        "                'index': block.index,\n",
        "                'timestamp': str(block.timestamp),\n",
        "                'transactions': block.transactions,\n",
        "                'previous_hash': block.previous_hash,\n",
        "                'smart_contract': block.smart_contract,\n",
        "                'contract_result': block.contract_result,\n",
        "                'nonce': block.nonce,\n",
        "                'hash': block.hash\n",
        "            }\n",
        "            chain_json.append(block_json)\n",
        "        return chain_json"
      ],
      "metadata": {
        "id": "xcdBP__5DIYX"
      },
      "execution_count": 3,
      "outputs": []
    },
    {
      "cell_type": "code",
      "source": [
        "class SimpleApp:\n",
        "    def __init__(self, blockchain):\n",
        "        self.blockchain = blockchain\n",
        "\n",
        "    def add_transaction(self, transaction):\n",
        "        self.blockchain.add_transaction(transaction)\n",
        "\n",
        "    def execute_smart_contract(self, smart_contract_code):\n",
        "        self.blockchain.execute_smart_contract(smart_contract_code)\n",
        "\n",
        "    def store_smart_contract(self, smart_contract_code):\n",
        "        self.blockchain.store_smart_contract(smart_contract_code)\n",
        "\n",
        "    def read_smart_contract_from_block(self, block_index):\n",
        "        block = self.blockchain.chain[block_index]\n",
        "        return block.smart_contract\n",
        "\n",
        "    def show_blockchain(self):\n",
        "        blockchain_json = self.blockchain.to_json()\n",
        "        print(json.dumps(blockchain_json, indent=4))"
      ],
      "metadata": {
        "id": "YRrbdFeJDOmG"
      },
      "execution_count": 4,
      "outputs": []
    },
    {
      "cell_type": "code",
      "source": [
        "# Contoh penggunaan aplikasi dengan skenario yang diberikan\n",
        "my_blockchain = Blockchain()\n",
        "my_app = SimpleApp(my_blockchain)"
      ],
      "metadata": {
        "id": "wkd2vzwhDSvB"
      },
      "execution_count": 5,
      "outputs": []
    },
    {
      "cell_type": "code",
      "source": [
        "# Menambahkan beberapa transaksi\n",
        "my_app.add_transaction(\"Transaction 3\")\n",
        "my_app.add_transaction(\"Transaction 4\")"
      ],
      "metadata": {
        "colab": {
          "base_uri": "https://localhost:8080/"
        },
        "id": "HtrdfXzlDVQ6",
        "outputId": "70e8aa63-d4f4-4363-a686-d14fa9a6cfb6"
      },
      "execution_count": 10,
      "outputs": [
        {
          "output_type": "stream",
          "name": "stdout",
          "text": [
            "Transaction added successfully.\n",
            "Transaction added successfully.\n"
          ]
        }
      ]
    },
    {
      "cell_type": "code",
      "source": [
        "# Menyimpan smart contract di dalam blok\n",
        "smart_contract_code = \"\"\"\n",
        "def add(a, b):\n",
        "    return a + b\n",
        "\"\"\"\n",
        "my_app.store_smart_contract(smart_contract_code)"
      ],
      "metadata": {
        "colab": {
          "base_uri": "https://localhost:8080/"
        },
        "id": "uiUbETrzDYOw",
        "outputId": "9276dd8a-30ee-4f11-8e62-a8ec63b15d3b"
      },
      "execution_count": 11,
      "outputs": [
        {
          "output_type": "stream",
          "name": "stdout",
          "text": [
            "Smart contract stored in block.\n"
          ]
        }
      ]
    },
    {
      "cell_type": "code",
      "source": [
        "# Menjalankan smart contract\n",
        "my_app.execute_smart_contract(smart_contract_code)"
      ],
      "metadata": {
        "colab": {
          "base_uri": "https://localhost:8080/"
        },
        "id": "KzGF93JTDbx4",
        "outputId": "d4becbe0-3cc6-4e13-f1ca-1257a875d5de"
      },
      "execution_count": 12,
      "outputs": [
        {
          "output_type": "stream",
          "name": "stdout",
          "text": [
            "Smart contract executed successfully.\n"
          ]
        }
      ]
    },
    {
      "cell_type": "code",
      "source": [
        "# Menampilkan blockchain\n",
        "my_app.show_blockchain()"
      ],
      "metadata": {
        "colab": {
          "base_uri": "https://localhost:8080/"
        },
        "id": "v9rUQOgkDei4",
        "outputId": "30bf6c7e-c6cd-4a71-fb5f-41df55bfda52"
      },
      "execution_count": 13,
      "outputs": [
        {
          "output_type": "stream",
          "name": "stdout",
          "text": [
            "[\n",
            "    {\n",
            "        \"index\": 0,\n",
            "        \"timestamp\": \"2024-04-25 16:18:40.860065\",\n",
            "        \"transactions\": [\n",
            "            \"Transaction 1\",\n",
            "            \"Transaction 2\"\n",
            "        ],\n",
            "        \"previous_hash\": \"0\",\n",
            "        \"smart_contract\": \"\\ndef add(a, b):\\n    return a + b\\n\",\n",
            "        \"contract_result\": \"Smart contract executed successfully.\",\n",
            "        \"nonce\": 0,\n",
            "        \"hash\": \"d2e3b625e8628667c31db65efea6640b053375f0a333735b3081efabda326478\"\n",
            "    },\n",
            "    {\n",
            "        \"index\": 1,\n",
            "        \"timestamp\": \"2024-04-25 16:19:47.630094\",\n",
            "        \"transactions\": [\n",
            "            \"Transaction 3\",\n",
            "            \"Transaction 4\"\n",
            "        ],\n",
            "        \"previous_hash\": \"d2e3b625e8628667c31db65efea6640b053375f0a333735b3081efabda326478\",\n",
            "        \"smart_contract\": \"\\ndef add(a, b):\\n    return a + b\\n\",\n",
            "        \"contract_result\": \"Smart contract executed successfully.\",\n",
            "        \"nonce\": 6334,\n",
            "        \"hash\": \"0000aaf9114254f2be333676a416eed23cccd2a1618878e2e2230a039ed9cf08\"\n",
            "    }\n",
            "]\n"
          ]
        }
      ]
    }
  ]
}