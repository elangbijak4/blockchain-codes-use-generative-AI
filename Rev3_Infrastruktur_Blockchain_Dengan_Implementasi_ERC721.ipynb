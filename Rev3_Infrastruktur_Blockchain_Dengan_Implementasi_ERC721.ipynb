{
  "nbformat": 4,
  "nbformat_minor": 0,
  "metadata": {
    "colab": {
      "provenance": [],
      "include_colab_link": true
    },
    "kernelspec": {
      "name": "python3",
      "display_name": "Python 3"
    },
    "language_info": {
      "name": "python"
    }
  },
  "cells": [
    {
      "cell_type": "markdown",
      "metadata": {
        "id": "view-in-github",
        "colab_type": "text"
      },
      "source": [
        "<a href=\"https://colab.research.google.com/github/elangbijak4/blockchain-codes-use-generative-AI/blob/main/Rev3_Infrastruktur_Blockchain_Dengan_Implementasi_ERC721.ipynb\" target=\"_parent\"><img src=\"https://colab.research.google.com/assets/colab-badge.svg\" alt=\"Open In Colab\"/></a>"
      ]
    },
    {
      "cell_type": "code",
      "source": [
        "import hashlib\n",
        "import time\n",
        "import json\n",
        "import os"
      ],
      "metadata": {
        "id": "oJulfZ-Q5vVz"
      },
      "execution_count": 29,
      "outputs": []
    },
    {
      "cell_type": "markdown",
      "source": [
        "## Kelas Block"
      ],
      "metadata": {
        "id": "J2ZhMvX850qn"
      }
    },
    {
      "cell_type": "code",
      "source": [
        "class Block:\n",
        "    def __init__(self, index, previous_hash, timestamp, data, hash):\n",
        "        self.index = index\n",
        "        self.previous_hash = previous_hash\n",
        "        self.timestamp = timestamp\n",
        "        self.data = data\n",
        "        self.hash = hash\n",
        "\n",
        "    @staticmethod\n",
        "    def calculate_hash(index, previous_hash, timestamp, data):\n",
        "        value = f\"{index}{previous_hash}{timestamp}{data}\"\n",
        "        return hashlib.sha256(value.encode('utf-8')).hexdigest()\n",
        "\n",
        "    @staticmethod\n",
        "    def create_genesis_block():\n",
        "        return Block(0, \"0\", int(time.time()), \"Genesis Block\", Block.calculate_hash(0, \"0\", int(time.time()), \"Genesis Block\"))\n",
        "\n",
        "    def to_dict(self):\n",
        "        return {\n",
        "            \"index\": self.index,\n",
        "            \"previous_hash\": self.previous_hash,\n",
        "            \"timestamp\": self.timestamp,\n",
        "            \"data\": self.data,\n",
        "            \"hash\": self.hash\n",
        "        }"
      ],
      "metadata": {
        "id": "kr6-36Yw5xz_"
      },
      "execution_count": 30,
      "outputs": []
    },
    {
      "cell_type": "markdown",
      "source": [
        "## Kelas Smart Contract"
      ],
      "metadata": {
        "id": "ygiPIKCL6C-4"
      }
    },
    {
      "cell_type": "code",
      "source": [
        "class SmartContract:\n",
        "    def __init__(self, code):\n",
        "        self.code = code\n",
        "        self.storage = {}\n",
        "\n",
        "    def execute(self, blockchain, **kwargs):\n",
        "        local_context = {\n",
        "            'blockchain': blockchain,\n",
        "            'storage': self.storage\n",
        "        }\n",
        "        local_context.update(kwargs)\n",
        "        exec(self.code, {}, local_context)\n",
        "        self.storage = local_context['storage']"
      ],
      "metadata": {
        "id": "7DbWDdqP56ut"
      },
      "execution_count": 31,
      "outputs": []
    },
    {
      "cell_type": "markdown",
      "source": [
        "Implementasi ERC721 ke dalam Kelas ERC721"
      ],
      "metadata": {
        "id": "zOqpUdKt5fOz"
      }
    },
    {
      "cell_type": "code",
      "execution_count": 32,
      "metadata": {
        "id": "0MnP4hWA4zVs"
      },
      "outputs": [],
      "source": [
        "class ERC721:\n",
        "    def __init__(self):\n",
        "        self.tokens = {}\n",
        "        self.token_owners = {}\n",
        "        self.token_metadata = {}\n",
        "        self._token_owner = {}  # tokenId => owner\n",
        "        self._owned_tokens = {}  # owner => list of tokenIds\n",
        "        self._token_approvals = {}  # tokenId => approved address\n",
        "        self._operator_approvals = {}  # owner => (operator => approved)\n",
        "\n",
        "    def balance_of(self, owner):\n",
        "        if owner in self._owned_tokens:\n",
        "            return len(self._owned_tokens[owner])\n",
        "        return 0\n",
        "\n",
        "    def owner_of(self, tokenId):\n",
        "        return self._token_owner.get(tokenId, None)\n",
        "\n",
        "    def transfer_from(self, from_address, to_address, tokenId):\n",
        "        if tokenId not in self.tokens or self.tokens[tokenId][\"owner\"] != from_address:\n",
        "            raise Exception(\"Transfer not allowed\")\n",
        "        self.tokens[tokenId][\"owner\"] = to_address\n",
        "        self.token_owners[from_address].remove(tokenId)\n",
        "        if to_address in self.token_owners:\n",
        "            self.token_owners[to_address].append(tokenId)\n",
        "        else:\n",
        "            self.token_owners[to_address] = [tokenId]\n",
        "\n",
        "    def approve(self, to, tokenId):\n",
        "        owner = self.owner_of(tokenId)\n",
        "        if owner:\n",
        "            self._token_approvals[tokenId] = to\n",
        "\n",
        "    def set_approval_for_all(self, owner, operator, approved):\n",
        "        if owner in self._operator_approvals:\n",
        "            self._operator_approvals[owner][operator] = approved\n",
        "        else:\n",
        "            self._operator_approvals[owner] = {operator: approved}\n",
        "\n",
        "    def is_approved_for_all(self, owner, operator):\n",
        "        return self._operator_approvals.get(owner, {}).get(operator, False)\n",
        "\n",
        "    def _is_approved_or_owner(self, spender, tokenId):\n",
        "        owner = self.owner_of(tokenId)\n",
        "        return spender == owner or \\\n",
        "               self._token_approvals.get(tokenId) == spender or \\\n",
        "               self.is_approved_for_all(owner, spender)\n",
        "\n",
        "    def _transfer(self, from_address, to_address, tokenId):\n",
        "        # Remove token from the current owner's list\n",
        "        if from_address in self._owned_tokens:\n",
        "            self._owned_tokens[from_address].remove(tokenId)\n",
        "\n",
        "        # Add token to the new owner's list\n",
        "        if to_address in self._owned_tokens:\n",
        "            self._owned_tokens[to_address].append(tokenId)\n",
        "        else:\n",
        "            self._owned_tokens[to_address] = [tokenId]\n",
        "\n",
        "        # Change token owner\n",
        "        self._token_owner[tokenId] = to_address\n",
        "\n",
        "        # Clear approval\n",
        "        if tokenId in self._token_approvals:\n",
        "            del self._token_approvals[tokenId]\n",
        "\n",
        "    def mint(self, to, tokenId, contract_address, uri):\n",
        "        if tokenId in self.tokens:\n",
        "            raise Exception(\"Token already exists\")\n",
        "        self.tokens[tokenId] = {\n",
        "            \"tokenId\": tokenId,\n",
        "            \"owner\": to,\n",
        "            \"contract_address\": contract_address,\n",
        "            \"uri\": uri\n",
        "        }\n",
        "        self.token_owners[to] = self.token_owners.get(to, []) + [tokenId]\n",
        "        self.token_metadata[tokenId] = {\n",
        "            \"owner\": to,\n",
        "            \"contract_address\": contract_address,\n",
        "            \"uri\": uri\n",
        "        }\n",
        "\n",
        "    def burn(self, tokenId):\n",
        "        owner = self.owner_of(tokenId)\n",
        "        if owner:\n",
        "            self._owned_tokens[owner].remove(tokenId)\n",
        "            del self._token_owner[tokenId]\n",
        "            if tokenId in self._token_approvals:\n",
        "                del self._token_approvals[tokenId]\n",
        "\n",
        "    def get_token_metadata(self, tokenId):\n",
        "        return self.token_metadata.get(tokenId, None)"
      ]
    },
    {
      "cell_type": "markdown",
      "source": [
        "### Integrasi ERC721 dengan Blockchain"
      ],
      "metadata": {
        "id": "QKBL_L4C5YgO"
      }
    },
    {
      "cell_type": "code",
      "source": [
        "class Blockchain:\n",
        "    def __init__(self):\n",
        "        self.chain = [Block.create_genesis_block()]\n",
        "        self.erc721 = ERC721()  # Tambahkan inisialisasi ERC721\n",
        "        self.smart_contracts = self.load_smart_contracts()  # Load smart contracts from file\n",
        "\n",
        "    def get_latest_block(self):\n",
        "        return self.chain[-1]\n",
        "\n",
        "    def add_block(self, data):\n",
        "        latest_block = self.get_latest_block()\n",
        "        new_index = latest_block.index + 1\n",
        "        new_timestamp = int(time.time())\n",
        "        new_hash = Block.calculate_hash(new_index, latest_block.hash, new_timestamp, data)\n",
        "        new_block = Block(new_index, latest_block.hash, new_timestamp, data, new_hash)\n",
        "        self.chain.append(new_block)\n",
        "        return new_block\n",
        "\n",
        "    def is_chain_valid(self):\n",
        "        for i in range(1, len(self.chain)):\n",
        "            current_block = self.chain[i]\n",
        "            previous_block = self.chain[i-1]\n",
        "\n",
        "            if current_block.hash != Block.calculate_hash(current_block.index, current_block.previous_hash, current_block.timestamp, current_block.data):\n",
        "                return False\n",
        "\n",
        "            if current_block.previous_hash != previous_block.hash:\n",
        "                return False\n",
        "\n",
        "        return True\n",
        "\n",
        "    def mint_nft(self, to, uri):\n",
        "        tokenId = hashlib.sha256(uri.encode()).hexdigest()  # Generate tokenId from URI\n",
        "        contract_address = self.store_smart_contract(\"ERC721 Contract Code\")\n",
        "        self.erc721.mint(to, tokenId, contract_address, uri)\n",
        "        block = self.add_block(f\"Minted NFT {tokenId} to {to}, contract {contract_address}, uri {uri}\")\n",
        "        return block.hash\n",
        "\n",
        "    def transfer_nft(self, from_address, to_address, tokenId):\n",
        "        self.erc721.transfer_from(from_address, to_address, tokenId)\n",
        "        block = self.add_block(f\"Transferred NFT {tokenId} from {from_address} to {to_address}\")\n",
        "        return block.hash\n",
        "\n",
        "    def store_smart_contract(self, code):\n",
        "        contract = SmartContract(code)\n",
        "        block = self.add_block(f\"Smart contract code: {code}\")\n",
        "        self.smart_contracts[block.hash] = code  # Store code directly\n",
        "        self.save_smart_contracts()\n",
        "        return block.hash\n",
        "\n",
        "    def execute_smart_contract_from_block(self, block_hash, **kwargs):\n",
        "        # Temukan blok berdasarkan hash\n",
        "        block = next((blk for blk in self.chain if blk.hash == block_hash), None)\n",
        "        if block and block.data.startswith(\"Smart contract code:\"):\n",
        "            # Ekstrak kode smart contract dari data blok\n",
        "            code = block.data[len(\"Smart contract code: \"):]\n",
        "            contract = SmartContract(code)\n",
        "            contract.execute(self, **kwargs)\n",
        "        else:\n",
        "            print(\"Smart contract not found in the specified block\")\n",
        "\n",
        "    def load_smart_contracts(self):\n",
        "        if os.path.exists('smart_contracts.json'):\n",
        "            with open('smart_contracts.json', 'r') as f:\n",
        "                return json.load(f)\n",
        "        return {}\n",
        "\n",
        "    def save_smart_contracts(self):\n",
        "        with open('smart_contracts.json', 'w') as f:\n",
        "            json.dump(self.smart_contracts, f)\n",
        "\n",
        "    def to_json(self):\n",
        "        return json.dumps([block.to_dict() for block in self.chain], indent=4)\n"
      ],
      "metadata": {
        "id": "m1aj4CDK5SzF"
      },
      "execution_count": 34,
      "outputs": []
    },
    {
      "cell_type": "markdown",
      "source": [
        "## Demo Pembuatan Smart Contract"
      ],
      "metadata": {
        "id": "w-etVpRM6KIk"
      }
    },
    {
      "cell_type": "code",
      "source": [
        "if __name__ == \"__main__\":\n",
        "    # Membuat blockchain baru\n",
        "    my_blockchain = Blockchain()\n",
        "\n",
        "    # Menambahkan blok baru\n",
        "    my_blockchain.add_block(\"Block 1 Data\")\n",
        "    my_blockchain.add_block(\"Block 2 Data\")\n",
        "\n",
        "    print(\"Blockchain valid:\", my_blockchain.is_chain_valid())\n",
        "\n",
        "    # Membuat smart contract sederhana\n",
        "    smart_contract_code = \"\"\"\n",
        "def contract_function(storage):\n",
        "    storage['counter'] = storage.get('counter', 0) + 1\n",
        "    print(f\"Counter value: {storage['counter']}\")\n",
        "contract_function(storage)\n",
        "\"\"\"\n",
        "\n",
        "    # Menyimpan smart contract ke blockchain\n",
        "    block_hash = my_blockchain.store_smart_contract(smart_contract_code)\n",
        "    print(f\"Smart contract stored in block with hash: {block_hash}\")\n",
        "\n",
        "    # Menjalankan smart contract dari blockchain\n",
        "    my_blockchain.execute_smart_contract_from_block(block_hash)\n",
        "\n",
        "    # Menjalankan kembali smart contract untuk melihat perubahan state\n",
        "    my_blockchain.execute_smart_contract_from_block(block_hash)\n",
        "\n",
        "    # Mencetak isi blockchain dalam format JSON\n",
        "    print(\"Blockchain content in JSON:\")\n",
        "    print(my_blockchain.to_json())"
      ],
      "metadata": {
        "colab": {
          "base_uri": "https://localhost:8080/"
        },
        "id": "tha-Dbpf6LRn",
        "outputId": "5b78fe3e-53cd-49e7-d153-97f337a77692"
      },
      "execution_count": 37,
      "outputs": [
        {
          "output_type": "stream",
          "name": "stdout",
          "text": [
            "Blockchain valid: True\n",
            "Smart contract stored in block with hash: b35d347111914447d20187e1c3010ec01f25d953c758dfefb3424926e15e494c\n",
            "Counter value: 1\n",
            "Counter value: 1\n",
            "Blockchain content in JSON:\n",
            "[\n",
            "    {\n",
            "        \"index\": 0,\n",
            "        \"previous_hash\": \"0\",\n",
            "        \"timestamp\": 1716916868,\n",
            "        \"data\": \"Genesis Block\",\n",
            "        \"hash\": \"4e700c5f8f2916d78f83b1383590fd9f55a3fcc90e80279815539aac15283a0f\"\n",
            "    },\n",
            "    {\n",
            "        \"index\": 1,\n",
            "        \"previous_hash\": \"4e700c5f8f2916d78f83b1383590fd9f55a3fcc90e80279815539aac15283a0f\",\n",
            "        \"timestamp\": 1716916868,\n",
            "        \"data\": \"Block 1 Data\",\n",
            "        \"hash\": \"38f7d490495e0aa70df27b3c2cbefd115913f082db810e12792dcc3b0d1f67c7\"\n",
            "    },\n",
            "    {\n",
            "        \"index\": 2,\n",
            "        \"previous_hash\": \"38f7d490495e0aa70df27b3c2cbefd115913f082db810e12792dcc3b0d1f67c7\",\n",
            "        \"timestamp\": 1716916868,\n",
            "        \"data\": \"Block 2 Data\",\n",
            "        \"hash\": \"db5809f6f4ba20e480486292774f83b94064f2f05dbb2cda8af7454e29c809e2\"\n",
            "    },\n",
            "    {\n",
            "        \"index\": 3,\n",
            "        \"previous_hash\": \"db5809f6f4ba20e480486292774f83b94064f2f05dbb2cda8af7454e29c809e2\",\n",
            "        \"timestamp\": 1716916868,\n",
            "        \"data\": \"Smart contract code: \\ndef contract_function(storage):\\n    storage['counter'] = storage.get('counter', 0) + 1\\n    print(f\\\"Counter value: {storage['counter']}\\\")\\ncontract_function(storage)\\n\",\n",
            "        \"hash\": \"b35d347111914447d20187e1c3010ec01f25d953c758dfefb3424926e15e494c\"\n",
            "    }\n",
            "]\n"
          ]
        }
      ]
    },
    {
      "cell_type": "markdown",
      "source": [
        "## Demo Penggunaan ERC-721"
      ],
      "metadata": {
        "id": "DMQUVoj35nsa"
      }
    },
    {
      "cell_type": "code",
      "source": [
        "if __name__ == \"__main__\":\n",
        "    # Membuat blockchain baru\n",
        "    #my_blockchain = Blockchain()\n",
        "\n",
        "    # Menambahkan blok baru\n",
        "    my_blockchain.add_block(\"Block 1 Data\")\n",
        "    my_blockchain.add_block(\"Block 2 Data\")\n",
        "\n",
        "    print(\"Blockchain valid:\", my_blockchain.is_chain_valid())\n",
        "\n",
        "    # Membuat NFT baru\n",
        "    owner_address = \"owner_wallet_address\"\n",
        "    asset_uri = \"http://example.com/my-nft\"\n",
        "    mint_block_hash = my_blockchain.mint_nft(owner_address, asset_uri)\n",
        "    print(f\"NFT minted in block with hash: {mint_block_hash}\")\n",
        "\n",
        "    # Transfer NFT\n",
        "    new_owner_address = \"new_owner_wallet_address\"\n",
        "    token_id = hashlib.sha256(asset_uri.encode()).hexdigest()\n",
        "    transfer_block_hash = my_blockchain.transfer_nft(owner_address, new_owner_address, token_id)\n",
        "    print(f\"NFT transferred in block with hash: {transfer_block_hash}\")\n",
        "\n",
        "    # Mencetak isi blockchain dalam format JSON\n",
        "    print(\"Blockchain content in JSON:\")\n",
        "    print(my_blockchain.to_json())\n"
      ],
      "metadata": {
        "colab": {
          "base_uri": "https://localhost:8080/"
        },
        "id": "f9vS7Nfy5Uq1",
        "outputId": "d43d7b75-8b5f-4cc7-def9-bf0b4fb9c3d5"
      },
      "execution_count": 38,
      "outputs": [
        {
          "output_type": "stream",
          "name": "stdout",
          "text": [
            "Blockchain valid: True\n",
            "NFT minted in block with hash: 8166b684241adc2dd3c220dccb3ed84707e6fe7fda6d377d3d095ad723a16cce\n",
            "NFT transferred in block with hash: 1c3ebcb64dac19585fae1d9cdefb028522ce46202ffc350912b607453a045272\n",
            "Blockchain content in JSON:\n",
            "[\n",
            "    {\n",
            "        \"index\": 0,\n",
            "        \"previous_hash\": \"0\",\n",
            "        \"timestamp\": 1716916868,\n",
            "        \"data\": \"Genesis Block\",\n",
            "        \"hash\": \"4e700c5f8f2916d78f83b1383590fd9f55a3fcc90e80279815539aac15283a0f\"\n",
            "    },\n",
            "    {\n",
            "        \"index\": 1,\n",
            "        \"previous_hash\": \"4e700c5f8f2916d78f83b1383590fd9f55a3fcc90e80279815539aac15283a0f\",\n",
            "        \"timestamp\": 1716916868,\n",
            "        \"data\": \"Block 1 Data\",\n",
            "        \"hash\": \"38f7d490495e0aa70df27b3c2cbefd115913f082db810e12792dcc3b0d1f67c7\"\n",
            "    },\n",
            "    {\n",
            "        \"index\": 2,\n",
            "        \"previous_hash\": \"38f7d490495e0aa70df27b3c2cbefd115913f082db810e12792dcc3b0d1f67c7\",\n",
            "        \"timestamp\": 1716916868,\n",
            "        \"data\": \"Block 2 Data\",\n",
            "        \"hash\": \"db5809f6f4ba20e480486292774f83b94064f2f05dbb2cda8af7454e29c809e2\"\n",
            "    },\n",
            "    {\n",
            "        \"index\": 3,\n",
            "        \"previous_hash\": \"db5809f6f4ba20e480486292774f83b94064f2f05dbb2cda8af7454e29c809e2\",\n",
            "        \"timestamp\": 1716916868,\n",
            "        \"data\": \"Smart contract code: \\ndef contract_function(storage):\\n    storage['counter'] = storage.get('counter', 0) + 1\\n    print(f\\\"Counter value: {storage['counter']}\\\")\\ncontract_function(storage)\\n\",\n",
            "        \"hash\": \"b35d347111914447d20187e1c3010ec01f25d953c758dfefb3424926e15e494c\"\n",
            "    },\n",
            "    {\n",
            "        \"index\": 4,\n",
            "        \"previous_hash\": \"b35d347111914447d20187e1c3010ec01f25d953c758dfefb3424926e15e494c\",\n",
            "        \"timestamp\": 1716916873,\n",
            "        \"data\": \"Block 1 Data\",\n",
            "        \"hash\": \"4deecb5428af19244ddd9887e7468fee1d1ded4b6de52ec9f349b8e4ea0fdfcc\"\n",
            "    },\n",
            "    {\n",
            "        \"index\": 5,\n",
            "        \"previous_hash\": \"4deecb5428af19244ddd9887e7468fee1d1ded4b6de52ec9f349b8e4ea0fdfcc\",\n",
            "        \"timestamp\": 1716916873,\n",
            "        \"data\": \"Block 2 Data\",\n",
            "        \"hash\": \"592df48010fdeb7f86c403d1695f40e8009b009381621bac0867d3125dd54e3f\"\n",
            "    },\n",
            "    {\n",
            "        \"index\": 6,\n",
            "        \"previous_hash\": \"592df48010fdeb7f86c403d1695f40e8009b009381621bac0867d3125dd54e3f\",\n",
            "        \"timestamp\": 1716916873,\n",
            "        \"data\": \"Smart contract code: ERC721 Contract Code\",\n",
            "        \"hash\": \"4bcc90976ee519f81e2b1202b16647655673fe560fa01f20e4f6c61f27db8285\"\n",
            "    },\n",
            "    {\n",
            "        \"index\": 7,\n",
            "        \"previous_hash\": \"4bcc90976ee519f81e2b1202b16647655673fe560fa01f20e4f6c61f27db8285\",\n",
            "        \"timestamp\": 1716916873,\n",
            "        \"data\": \"Minted NFT 0f81521df07b38a74f1423902a343f7df8e4ff977060450c7e7abe46017d0501 to owner_wallet_address, contract 4bcc90976ee519f81e2b1202b16647655673fe560fa01f20e4f6c61f27db8285, uri http://example.com/my-nft\",\n",
            "        \"hash\": \"8166b684241adc2dd3c220dccb3ed84707e6fe7fda6d377d3d095ad723a16cce\"\n",
            "    },\n",
            "    {\n",
            "        \"index\": 8,\n",
            "        \"previous_hash\": \"8166b684241adc2dd3c220dccb3ed84707e6fe7fda6d377d3d095ad723a16cce\",\n",
            "        \"timestamp\": 1716916873,\n",
            "        \"data\": \"Transferred NFT 0f81521df07b38a74f1423902a343f7df8e4ff977060450c7e7abe46017d0501 from owner_wallet_address to new_owner_wallet_address\",\n",
            "        \"hash\": \"1c3ebcb64dac19585fae1d9cdefb028522ce46202ffc350912b607453a045272\"\n",
            "    }\n",
            "]\n"
          ]
        }
      ]
    }
  ]
}