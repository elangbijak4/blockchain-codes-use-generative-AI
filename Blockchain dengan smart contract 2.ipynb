{
  "nbformat": 4,
  "nbformat_minor": 0,
  "metadata": {
    "colab": {
      "provenance": []
    },
    "kernelspec": {
      "name": "python3",
      "display_name": "Python 3"
    },
    "language_info": {
      "name": "python"
    }
  },
  "cells": [
    {
      "cell_type": "code",
      "execution_count": 1,
      "metadata": {
        "id": "U7YrkiR2_rFn"
      },
      "outputs": [],
      "source": [
        "import json\n",
        "import hashlib\n",
        "import datetime"
      ]
    },
    {
      "cell_type": "code",
      "source": [
        "class Block:\n",
        "    def __init__(self, index, timestamp, transactions, previous_hash, smart_contract=None, contract_result=None):\n",
        "        self.index = index\n",
        "        self.timestamp = timestamp\n",
        "        self.transactions = transactions\n",
        "        self.previous_hash = previous_hash\n",
        "        self.smart_contract = smart_contract\n",
        "        self.contract_result = contract_result\n",
        "        self.nonce = 0\n",
        "        self.hash = self.calculate_hash()\n",
        "\n",
        "    def calculate_hash(self):\n",
        "        return hashlib.sha256((str(self.index) + str(self.timestamp) + str(self.transactions) + str(self.previous_hash) + str(self.smart_contract) + str(self.contract_result) + str(self.nonce)).encode('utf-8')).hexdigest()"
      ],
      "metadata": {
        "id": "02ytLGl4_-Km"
      },
      "execution_count": 2,
      "outputs": []
    },
    {
      "cell_type": "code",
      "source": [
        "class Blockchain:\n",
        "    def __init__(self):\n",
        "        self.chain = [self.create_genesis_block()]\n",
        "\n",
        "    def create_genesis_block(self):\n",
        "        return Block(0, datetime.datetime.now(), [], \"0\")\n",
        "\n",
        "    def get_latest_block(self):\n",
        "        return self.chain[-1]\n",
        "\n",
        "    def add_block(self, new_block):\n",
        "        new_block.previous_hash = self.get_latest_block().hash\n",
        "        new_block.hash = new_block.calculate_hash()\n",
        "        self.chain.append(new_block)\n",
        "\n",
        "    def add_transaction(self, transaction):\n",
        "        self.get_latest_block().transactions.append(transaction)\n",
        "        print(\"Transaction added successfully.\")\n",
        "\n",
        "    def execute_smart_contract(self, smart_contract):\n",
        "        latest_block = self.get_latest_block()\n",
        "        latest_block.smart_contract = smart_contract\n",
        "        # Disini Anda bisa menambahkan logika untuk mengeksekusi smart contract\n",
        "        # Dalam contoh ini, kita hanya menyimpan hasilnya sebagai teks\n",
        "        latest_block.contract_result = \"Smart contract executed successfully.\"\n",
        "        print(\"Smart contract executed successfully.\")\n",
        "\n",
        "    def store_smart_contract(self, smart_contract):\n",
        "        latest_block = self.get_latest_block()\n",
        "        latest_block.smart_contract = smart_contract\n",
        "        print(\"Smart contract stored in block.\")\n",
        "\n",
        "    def to_json(self):\n",
        "        chain_json = []\n",
        "        for block in self.chain:\n",
        "            block_json = {\n",
        "                'index': block.index,\n",
        "                'timestamp': str(block.timestamp),\n",
        "                'transactions': block.transactions,\n",
        "                'previous_hash': block.previous_hash,\n",
        "                'smart_contract': block.smart_contract,\n",
        "                'contract_result': block.contract_result,\n",
        "                'nonce': block.nonce,\n",
        "                'hash': block.hash\n",
        "            }\n",
        "            chain_json.append(block_json)\n",
        "        return chain_json"
      ],
      "metadata": {
        "id": "GMNP3EPGAA_E"
      },
      "execution_count": 3,
      "outputs": []
    },
    {
      "cell_type": "code",
      "source": [
        "class SimpleApp:\n",
        "    def __init__(self, blockchain):\n",
        "        self.blockchain = blockchain\n",
        "\n",
        "    def add_transaction(self, transaction):\n",
        "        self.blockchain.add_transaction(transaction)\n",
        "\n",
        "    def execute_smart_contract(self, smart_contract_code):\n",
        "        self.blockchain.execute_smart_contract(smart_contract_code)\n",
        "\n",
        "    def store_smart_contract(self, smart_contract_code):\n",
        "        self.blockchain.store_smart_contract(smart_contract_code)\n",
        "\n",
        "    def read_smart_contract_from_block(self, block_index):\n",
        "        block = self.blockchain.chain[block_index]\n",
        "        return block.smart_contract\n",
        "\n",
        "    def show_blockchain(self):\n",
        "        blockchain_json = self.blockchain.to_json()\n",
        "        print(json.dumps(blockchain_json, indent=4))"
      ],
      "metadata": {
        "id": "ImmlfKtGALML"
      },
      "execution_count": 4,
      "outputs": []
    },
    {
      "cell_type": "code",
      "source": [
        "# Contoh penggunaan aplikasi dengan skenario yang diberikan\n",
        "my_blockchain = Blockchain()"
      ],
      "metadata": {
        "id": "1ZE7aE8JAPn6"
      },
      "execution_count": 5,
      "outputs": []
    },
    {
      "cell_type": "code",
      "source": [
        "my_app = SimpleApp(my_blockchain)"
      ],
      "metadata": {
        "id": "VKGnDonnASp7"
      },
      "execution_count": 6,
      "outputs": []
    },
    {
      "cell_type": "code",
      "source": [
        "# Menambahkan beberapa transaksi\n",
        "my_app.add_transaction(\"Transaction 1\")\n",
        "my_app.add_transaction(\"Transaction 2\")"
      ],
      "metadata": {
        "colab": {
          "base_uri": "https://localhost:8080/"
        },
        "id": "NYkrcGjDAVBX",
        "outputId": "5df4ae4a-f9d5-4cbf-d5c1-27a30fde2197"
      },
      "execution_count": 22,
      "outputs": [
        {
          "output_type": "stream",
          "name": "stdout",
          "text": [
            "Transaction added successfully.\n",
            "Transaction added successfully.\n"
          ]
        }
      ]
    },
    {
      "cell_type": "code",
      "source": [
        "# Buat kode smart contract\n",
        "smart_contract_code = \"\"\"\n",
        "def add(a, b):\n",
        "    return a + b\n",
        "\"\"\""
      ],
      "metadata": {
        "id": "h6u7jgFpAZEl"
      },
      "execution_count": 23,
      "outputs": []
    },
    {
      "cell_type": "code",
      "source": [
        "# Menyimpan smart contract di dalam blok\n",
        "my_app.store_smart_contract(smart_contract_code)"
      ],
      "metadata": {
        "colab": {
          "base_uri": "https://localhost:8080/"
        },
        "id": "cc21kRvAAdX4",
        "outputId": "03ed0fed-81e0-4e92-b754-328494c46746"
      },
      "execution_count": 24,
      "outputs": [
        {
          "output_type": "stream",
          "name": "stdout",
          "text": [
            "Smart contract stored in block.\n"
          ]
        }
      ]
    },
    {
      "cell_type": "code",
      "source": [
        "# Membaca smart contract dari blok\n",
        "block_index = 0  # Mengambil smart contract dari blok kedua\n",
        "stored_smart_contract = my_app.read_smart_contract_from_block(block_index)\n",
        "print(\"Stored Smart Contract:\")\n",
        "print(stored_smart_contract)"
      ],
      "metadata": {
        "colab": {
          "base_uri": "https://localhost:8080/"
        },
        "id": "VwAM4yNJAuiE",
        "outputId": "44fa1111-ba63-4657-9a1d-d318c69043c4"
      },
      "execution_count": 26,
      "outputs": [
        {
          "output_type": "stream",
          "name": "stdout",
          "text": [
            "Stored Smart Contract:\n",
            "\n",
            "def add(a, b):\n",
            "    return a + b\n",
            "\n"
          ]
        }
      ]
    },
    {
      "cell_type": "code",
      "source": [
        "# Menjalankan smart contract\n",
        "my_app.execute_smart_contract(stored_smart_contract)"
      ],
      "metadata": {
        "colab": {
          "base_uri": "https://localhost:8080/"
        },
        "id": "wk2E8zEEA7Ln",
        "outputId": "57e73025-f61e-4571-a79d-668e26ea6602"
      },
      "execution_count": 20,
      "outputs": [
        {
          "output_type": "stream",
          "name": "stdout",
          "text": [
            "Smart contract executed successfully.\n"
          ]
        }
      ]
    },
    {
      "cell_type": "code",
      "source": [
        "# Menampilkan blockchain\n",
        "my_app.show_blockchain()"
      ],
      "metadata": {
        "colab": {
          "base_uri": "https://localhost:8080/"
        },
        "id": "xdMwZA0bA_FC",
        "outputId": "7b9fa1f2-44fa-484c-dd8f-c559fbc2d385"
      },
      "execution_count": 21,
      "outputs": [
        {
          "output_type": "stream",
          "name": "stdout",
          "text": [
            "[\n",
            "    {\n",
            "        \"index\": 0,\n",
            "        \"timestamp\": \"2024-04-25 16:05:24.200538\",\n",
            "        \"transactions\": [\n",
            "            \"Transaction 1\",\n",
            "            \"Transaction 2\",\n",
            "            \"Transaction 1\",\n",
            "            \"Transaction 2\"\n",
            "        ],\n",
            "        \"previous_hash\": \"0\",\n",
            "        \"smart_contract\": \"\\ndef add(a, b):\\n    return a + b\\n\",\n",
            "        \"contract_result\": \"Smart contract executed successfully.\",\n",
            "        \"nonce\": 0,\n",
            "        \"hash\": \"95f6d46fd56301e6089839b116d8d1890f6ab4563350a697b40f1ef1667c9c80\"\n",
            "    }\n",
            "]\n"
          ]
        }
      ]
    }
  ]
}