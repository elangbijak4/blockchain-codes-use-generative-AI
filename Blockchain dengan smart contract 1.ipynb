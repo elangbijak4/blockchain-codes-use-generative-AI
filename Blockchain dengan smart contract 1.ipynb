{
  "nbformat": 4,
  "nbformat_minor": 0,
  "metadata": {
    "colab": {
      "provenance": []
    },
    "kernelspec": {
      "name": "python3",
      "display_name": "Python 3"
    },
    "language_info": {
      "name": "python"
    }
  },
  "cells": [
    {
      "cell_type": "code",
      "execution_count": 1,
      "metadata": {
        "id": "-B3ra9xp90HA"
      },
      "outputs": [],
      "source": [
        "import json\n",
        "import hashlib\n",
        "import datetime"
      ]
    },
    {
      "cell_type": "code",
      "source": [
        "class Block:\n",
        "    def __init__(self, index, timestamp, transactions, previous_hash, smart_contract=None, contract_result=None):\n",
        "        self.index = index\n",
        "        self.timestamp = timestamp\n",
        "        self.transactions = transactions\n",
        "        self.previous_hash = previous_hash\n",
        "        self.smart_contract = smart_contract\n",
        "        self.contract_result = contract_result\n",
        "        self.nonce = 0\n",
        "        self.hash = self.calculate_hash()\n",
        "\n",
        "    def calculate_hash(self):\n",
        "        return hashlib.sha256((str(self.index) + str(self.timestamp) + str(self.transactions) + str(self.previous_hash) + str(self.smart_contract) + str(self.contract_result) + str(self.nonce)).encode('utf-8')).hexdigest()"
      ],
      "metadata": {
        "id": "5iIsmoj_9743"
      },
      "execution_count": 2,
      "outputs": []
    },
    {
      "cell_type": "code",
      "source": [
        "class Blockchain:\n",
        "    def __init__(self):\n",
        "        self.chain = [self.create_genesis_block()]\n",
        "\n",
        "    def create_genesis_block(self):\n",
        "        return Block(0, datetime.datetime.now(), [], \"0\")\n",
        "\n",
        "    def get_latest_block(self):\n",
        "        return self.chain[-1]\n",
        "\n",
        "    def add_block(self, new_block):\n",
        "        new_block.previous_hash = self.get_latest_block().hash\n",
        "        new_block.hash = new_block.calculate_hash()\n",
        "        self.chain.append(new_block)\n",
        "\n",
        "    def add_transaction(self, transaction):\n",
        "        self.get_latest_block().transactions.append(transaction)\n",
        "\n",
        "    def execute_smart_contract(self, smart_contract):\n",
        "        latest_block = self.get_latest_block()\n",
        "        latest_block.smart_contract = smart_contract\n",
        "        # Disini Anda bisa menambahkan logika untuk mengeksekusi smart contract\n",
        "        # Dalam contoh ini, kita hanya menyimpan hasilnya sebagai teks\n",
        "        latest_block.contract_result = \"Smart contract executed successfully.\"\n",
        "\n",
        "    def to_json(self):\n",
        "        chain_json = []\n",
        "        for block in self.chain:\n",
        "            block_json = {\n",
        "                'index': block.index,\n",
        "                'timestamp': str(block.timestamp),\n",
        "                'transactions': block.transactions,\n",
        "                'previous_hash': block.previous_hash,\n",
        "                'smart_contract': block.smart_contract,\n",
        "                'contract_result': block.contract_result,\n",
        "                'nonce': block.nonce,\n",
        "                'hash': block.hash\n",
        "            }\n",
        "            chain_json.append(block_json)\n",
        "        return chain_json"
      ],
      "metadata": {
        "id": "3ft8O5EA-Cqy"
      },
      "execution_count": 3,
      "outputs": []
    },
    {
      "cell_type": "code",
      "source": [
        "class SimpleApp:\n",
        "    def __init__(self, blockchain):\n",
        "        self.blockchain = blockchain\n",
        "\n",
        "    def add_transaction(self, transaction):\n",
        "        self.blockchain.add_transaction(transaction)\n",
        "        print(\"Transaction added successfully.\")\n",
        "\n",
        "    def execute_smart_contract(self, smart_contract_code):\n",
        "        self.blockchain.execute_smart_contract(smart_contract_code)\n",
        "        print(\"Smart contract executed successfully.\")\n",
        "\n",
        "    def show_blockchain(self):\n",
        "        blockchain_json = self.blockchain.to_json()\n",
        "        print(json.dumps(blockchain_json, indent=4))"
      ],
      "metadata": {
        "id": "1toJzW1I-LnH"
      },
      "execution_count": 4,
      "outputs": []
    },
    {
      "cell_type": "code",
      "source": [
        "# Contoh penggunaan aplikasi\n",
        "my_blockchain = Blockchain()"
      ],
      "metadata": {
        "id": "Q96CtCGg-S0r"
      },
      "execution_count": 6,
      "outputs": []
    },
    {
      "cell_type": "code",
      "source": [
        "my_app = SimpleApp(my_blockchain)"
      ],
      "metadata": {
        "id": "s_O9jruY-XRF"
      },
      "execution_count": 7,
      "outputs": []
    },
    {
      "cell_type": "code",
      "source": [
        "# Menambahkan beberapa transaksi\n",
        "my_app.add_transaction(\"Transaction 1\")\n",
        "my_app.add_transaction(\"Transaction 2\")"
      ],
      "metadata": {
        "colab": {
          "base_uri": "https://localhost:8080/"
        },
        "id": "6zTpFEAK-dW0",
        "outputId": "c391ef41-5d55-4546-d287-b9800cd1e935"
      },
      "execution_count": 8,
      "outputs": [
        {
          "output_type": "stream",
          "name": "stdout",
          "text": [
            "Transaction added successfully.\n",
            "Transaction added successfully.\n"
          ]
        }
      ]
    },
    {
      "cell_type": "code",
      "source": [
        "# Menjalankan smart contract\n",
        "smart_contract_code = \"\"\"\n",
        "def add(a, b):\n",
        "    return a + b\n",
        "\"\"\""
      ],
      "metadata": {
        "id": "ihd5OulE-h0J"
      },
      "execution_count": 9,
      "outputs": []
    },
    {
      "cell_type": "code",
      "source": [
        "my_app.execute_smart_contract(smart_contract_code)"
      ],
      "metadata": {
        "colab": {
          "base_uri": "https://localhost:8080/"
        },
        "id": "vuvr_WQK-pAt",
        "outputId": "ad1bf1cb-f11b-4f46-dc86-267731a56460"
      },
      "execution_count": 10,
      "outputs": [
        {
          "output_type": "stream",
          "name": "stdout",
          "text": [
            "Smart contract executed successfully.\n"
          ]
        }
      ]
    },
    {
      "cell_type": "code",
      "source": [
        "# Menampilkan blockchain\n",
        "my_app.show_blockchain()"
      ],
      "metadata": {
        "colab": {
          "base_uri": "https://localhost:8080/"
        },
        "id": "nZGqtE_t-0Fb",
        "outputId": "9cca4837-34c6-4f34-fb8a-6d4614bd5b17"
      },
      "execution_count": 11,
      "outputs": [
        {
          "output_type": "stream",
          "name": "stdout",
          "text": [
            "[\n",
            "    {\n",
            "        \"index\": 0,\n",
            "        \"timestamp\": \"2024-04-25 15:57:17.302104\",\n",
            "        \"transactions\": [\n",
            "            \"Transaction 1\",\n",
            "            \"Transaction 2\"\n",
            "        ],\n",
            "        \"previous_hash\": \"0\",\n",
            "        \"smart_contract\": \"\\ndef add(a, b):\\n    return a + b\\n\",\n",
            "        \"contract_result\": \"Smart contract executed successfully.\",\n",
            "        \"nonce\": 0,\n",
            "        \"hash\": \"83b0b679d5acb583d9479ec6dfb611b0af11b1afe30d8f70b4b3f9a1d6af6f17\"\n",
            "    }\n",
            "]\n"
          ]
        }
      ]
    }
  ]
}