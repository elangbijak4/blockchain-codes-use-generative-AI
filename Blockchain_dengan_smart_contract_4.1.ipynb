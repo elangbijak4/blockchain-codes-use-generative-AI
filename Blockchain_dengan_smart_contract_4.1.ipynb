{
  "nbformat": 4,
  "nbformat_minor": 0,
  "metadata": {
    "colab": {
      "provenance": []
    },
    "kernelspec": {
      "name": "python3",
      "display_name": "Python 3"
    },
    "language_info": {
      "name": "python"
    }
  },
  "cells": [
    {
      "cell_type": "markdown",
      "source": [
        "# Demonstrasi Kode Blockchain Smart Contract"
      ],
      "metadata": {
        "id": "4Wulogcihn2X"
      }
    },
    {
      "cell_type": "markdown",
      "source": [
        "### Menyiapkan semua perangkat utama"
      ],
      "metadata": {
        "id": "OThtAu3khvXg"
      }
    },
    {
      "cell_type": "code",
      "execution_count": 1,
      "metadata": {
        "id": "lq1SkvI5C8U0"
      },
      "outputs": [],
      "source": [
        "import json\n",
        "import hashlib\n",
        "import datetime"
      ]
    },
    {
      "cell_type": "markdown",
      "source": [
        "### Menyiapkan semua perangkat khusus untuk membangun blockchain smart contract"
      ],
      "metadata": {
        "id": "EK5Ycd1eiBVO"
      }
    },
    {
      "cell_type": "code",
      "source": [
        "class Block:\n",
        "    def __init__(self, index, timestamp, transactions, previous_hash, smart_contract=None, contract_result=None):\n",
        "        self.index = index\n",
        "        self.timestamp = timestamp\n",
        "        self.transactions = transactions\n",
        "        self.previous_hash = previous_hash\n",
        "        self.smart_contract = smart_contract\n",
        "        self.contract_result = contract_result\n",
        "        self.nonce = 0\n",
        "        self.hash = self.calculate_hash()\n",
        "\n",
        "    def calculate_hash(self):\n",
        "        return hashlib.sha256((str(self.index) + str(self.timestamp) + str(self.transactions) + str(self.previous_hash) + str(self.smart_contract) + str(self.contract_result) + str(self.nonce)).encode('utf-8')).hexdigest()"
      ],
      "metadata": {
        "id": "YxL62tKjDEEH"
      },
      "execution_count": 2,
      "outputs": []
    },
    {
      "cell_type": "code",
      "source": [
        "class Blockchain:\n",
        "    def __init__(self):\n",
        "        self.chain = [self.create_genesis_block()]\n",
        "        self.difficulty = 4  # Tingkat kesulitan penambangan\n",
        "\n",
        "    def create_genesis_block(self):\n",
        "        return Block(0, datetime.datetime.now(), [], \"0\")\n",
        "\n",
        "    def get_latest_block(self):\n",
        "        return self.chain[-1]\n",
        "\n",
        "    def add_block(self, new_block):\n",
        "        new_block.previous_hash = self.get_latest_block().hash\n",
        "        new_block.hash = self.proof_of_work(new_block)\n",
        "        self.chain.append(new_block)\n",
        "\n",
        "    def add_transaction(self, transaction):\n",
        "        latest_block = self.get_latest_block()\n",
        "        if len(latest_block.transactions) >= 2:  # Maksimum 2 transaksi per blok\n",
        "            self.add_block(Block(len(self.chain), datetime.datetime.now(), [transaction], \"\"))\n",
        "        else:\n",
        "            latest_block.transactions.append(transaction)\n",
        "        print(\"Transaction added successfully.\")\n",
        "\n",
        "    def execute_smart_contract(self, smart_contract):\n",
        "        latest_block = self.get_latest_block()\n",
        "        latest_block.smart_contract = smart_contract\n",
        "        # Disini Anda bisa menambahkan logika untuk mengeksekusi smart contract\n",
        "        # Dalam contoh ini, kita hanya menyimpan hasilnya sebagai teks\n",
        "        latest_block.contract_result = \"Smart contract executed successfully.\"\n",
        "        print(\"Smart contract executed successfully.\")\n",
        "\n",
        "    def store_smart_contract(self, smart_contract):\n",
        "        latest_block = self.get_latest_block()\n",
        "        latest_block.smart_contract = smart_contract\n",
        "        print(\"Smart contract stored in block.\")\n",
        "\n",
        "    def proof_of_work(self, block):\n",
        "        block.nonce = 0\n",
        "        computed_hash = block.calculate_hash()\n",
        "        while not computed_hash.startswith('0' * self.difficulty):\n",
        "            block.nonce += 1\n",
        "            computed_hash = block.calculate_hash()\n",
        "        return computed_hash\n",
        "\n",
        "    def to_json(self):\n",
        "        chain_json = []\n",
        "        for block in self.chain:\n",
        "            block_json = {\n",
        "                'index': block.index,\n",
        "                'timestamp': str(block.timestamp),\n",
        "                'transactions': block.transactions,\n",
        "                'previous_hash': block.previous_hash,\n",
        "                'smart_contract': block.smart_contract,\n",
        "                'contract_result': block.contract_result,\n",
        "                'nonce': block.nonce,\n",
        "                'hash': block.hash\n",
        "            }\n",
        "            chain_json.append(block_json)\n",
        "        return chain_json"
      ],
      "metadata": {
        "id": "xcdBP__5DIYX"
      },
      "execution_count": 3,
      "outputs": []
    },
    {
      "cell_type": "markdown",
      "source": [
        "Demo Contoh Aplikasi Web3 di atas Infrastruktur Blockchain Smart Contract sederhana milik pribadi (Blockchain Private)"
      ],
      "metadata": {
        "id": "p5egn10NqGLL"
      }
    },
    {
      "cell_type": "code",
      "source": [
        "class SimpleApp:\n",
        "    def __init__(self, blockchain):\n",
        "        self.blockchain = blockchain\n",
        "\n",
        "    def add_transaction(self, transaction):\n",
        "        self.blockchain.add_transaction(transaction)\n",
        "\n",
        "    def execute_smart_contract(self, smart_contract_code):\n",
        "        self.blockchain.execute_smart_contract(smart_contract_code)\n",
        "\n",
        "    def store_smart_contract(self, smart_contract_code):\n",
        "        self.blockchain.store_smart_contract(smart_contract_code)\n",
        "\n",
        "    def read_smart_contract_from_block(self, block_index):\n",
        "        block = self.blockchain.chain[block_index]\n",
        "        return block.smart_contract\n",
        "\n",
        "    def show_blockchain(self):\n",
        "        blockchain_json = self.blockchain.to_json()\n",
        "        print(json.dumps(blockchain_json, indent=4))\n",
        "\n",
        "\n",
        "#Apa yang kurang dari kode ini?\n",
        "#Buat class App / fungsi khusus lain yang khusus untuk memberikan reward kepada penambang\n",
        "# dll yang mungkin bisa ditambahkan."
      ],
      "metadata": {
        "id": "YRrbdFeJDOmG"
      },
      "execution_count": 4,
      "outputs": []
    },
    {
      "cell_type": "code",
      "source": [
        "class VotingApp:\n",
        "    def __init__(self, blockchain):\n",
        "        self.blockchain = blockchain\n",
        "\n",
        "    def add_vote(self, voter, candidate):\n",
        "        vote = {\"voter\": voter, \"candidate\": candidate}\n",
        "        self.blockchain.add_transaction(vote)\n",
        "\n",
        "    def count_votes(self):\n",
        "        votes = {}\n",
        "        for block in self.blockchain.chain:\n",
        "            for transaction in block.transactions:\n",
        "                voter = transaction[\"voter\"]\n",
        "                candidate = transaction[\"candidate\"]\n",
        "                if candidate not in votes:\n",
        "                    votes[candidate] = 0\n",
        "                votes[candidate] += 1\n",
        "        return votes\n",
        "\n",
        "    def show_results(self):\n",
        "        votes = self.count_votes()\n",
        "        print(\"Voting Results:\")\n",
        "        for candidate, count in votes.items():\n",
        "            print(f\"{candidate}: {count} votes\")"
      ],
      "metadata": {
        "id": "tQyui3rv5JrK"
      },
      "execution_count": 5,
      "outputs": []
    },
    {
      "cell_type": "markdown",
      "source": [
        "### Demo SimpleApp"
      ],
      "metadata": {
        "id": "uiXbSX7C5N6D"
      }
    },
    {
      "cell_type": "code",
      "source": [
        "# Contoh penggunaan aplikasi dengan skenario yang diberikan\n",
        "my_blockchain = Blockchain()\n",
        "my_app = SimpleApp(my_blockchain)"
      ],
      "metadata": {
        "id": "wkd2vzwhDSvB"
      },
      "execution_count": 6,
      "outputs": []
    },
    {
      "cell_type": "code",
      "source": [
        "# Menambahkan beberapa transaksi\n",
        "my_app.add_transaction(\"Transaction 3\")\n",
        "my_app.add_transaction(\"Transaction 4\")"
      ],
      "metadata": {
        "colab": {
          "base_uri": "https://localhost:8080/"
        },
        "id": "HtrdfXzlDVQ6",
        "outputId": "5aa272d7-00dd-491e-cdec-675320f31bad"
      },
      "execution_count": 7,
      "outputs": [
        {
          "output_type": "stream",
          "name": "stdout",
          "text": [
            "Transaction added successfully.\n",
            "Transaction added successfully.\n"
          ]
        }
      ]
    },
    {
      "cell_type": "code",
      "source": [
        "# Menyimpan smart contract di dalam blok\n",
        "smart_contract_code = \"\"\"\n",
        "def add(a, b):\n",
        "    return a + b\n",
        "\"\"\"\n",
        "my_app.store_smart_contract(smart_contract_code)"
      ],
      "metadata": {
        "colab": {
          "base_uri": "https://localhost:8080/"
        },
        "id": "uiUbETrzDYOw",
        "outputId": "210bfb68-bbdb-497c-8ce2-0daf80bfa422"
      },
      "execution_count": 8,
      "outputs": [
        {
          "output_type": "stream",
          "name": "stdout",
          "text": [
            "Smart contract stored in block.\n"
          ]
        }
      ]
    },
    {
      "cell_type": "code",
      "source": [
        "# Menjalankan smart contract\n",
        "my_app.execute_smart_contract(smart_contract_code)"
      ],
      "metadata": {
        "colab": {
          "base_uri": "https://localhost:8080/"
        },
        "id": "KzGF93JTDbx4",
        "outputId": "d6c5d015-d3ca-4b6b-ed42-5896d253bdd2"
      },
      "execution_count": 9,
      "outputs": [
        {
          "output_type": "stream",
          "name": "stdout",
          "text": [
            "Smart contract executed successfully.\n"
          ]
        }
      ]
    },
    {
      "cell_type": "code",
      "source": [
        "# Menampilkan blockchain\n",
        "my_app.show_blockchain()"
      ],
      "metadata": {
        "colab": {
          "base_uri": "https://localhost:8080/"
        },
        "id": "v9rUQOgkDei4",
        "outputId": "b09ab46d-110f-448b-c3a6-a129b217884e"
      },
      "execution_count": 10,
      "outputs": [
        {
          "output_type": "stream",
          "name": "stdout",
          "text": [
            "[\n",
            "    {\n",
            "        \"index\": 0,\n",
            "        \"timestamp\": \"2024-04-30 07:34:10.859903\",\n",
            "        \"transactions\": [\n",
            "            \"Transaction 3\",\n",
            "            \"Transaction 4\"\n",
            "        ],\n",
            "        \"previous_hash\": \"0\",\n",
            "        \"smart_contract\": \"\\ndef add(a, b):\\n    return a + b\\n\",\n",
            "        \"contract_result\": \"Smart contract executed successfully.\",\n",
            "        \"nonce\": 0,\n",
            "        \"hash\": \"2558bbdac0bb3b9c542619413ac504e65cf5c521b7687ed884407a596074bcbc\"\n",
            "    }\n",
            "]\n"
          ]
        }
      ]
    },
    {
      "cell_type": "markdown",
      "source": [
        "### Demo VotingApp"
      ],
      "metadata": {
        "id": "v1SlsUfL5XXH"
      }
    },
    {
      "cell_type": "code",
      "source": [
        "# Contoh penggunaan\n",
        "#blockchain = Blockchain()\n",
        "voting_app = VotingApp(my_blockchain)"
      ],
      "metadata": {
        "id": "DpPCwAdc5ai7"
      },
      "execution_count": 12,
      "outputs": []
    },
    {
      "cell_type": "code",
      "source": [
        "# Tambahkan beberapa suara\n",
        "voting_app.add_vote(\"Alice\", \"Candidate A\")\n",
        "voting_app.add_vote(\"Bob\", \"Candidate B\")\n",
        "voting_app.add_vote(\"Charlie\", \"Candidate A\")\n",
        "voting_app.add_vote(\"Dave\", \"Candidate A\")\n",
        "voting_app.add_vote(\"Eve\", \"Candidate B\")"
      ],
      "metadata": {
        "colab": {
          "base_uri": "https://localhost:8080/"
        },
        "id": "emvPwqpD7emY",
        "outputId": "43d59f56-c666-447e-bd04-eb29bf0c2408"
      },
      "execution_count": 13,
      "outputs": [
        {
          "output_type": "stream",
          "name": "stdout",
          "text": [
            "Transaction added successfully.\n",
            "Transaction added successfully.\n",
            "Transaction added successfully.\n",
            "Transaction added successfully.\n",
            "Transaction added successfully.\n"
          ]
        }
      ]
    },
    {
      "cell_type": "code",
      "source": [
        "# Tampilkan hasil pemilihan\n",
        "voting_app.show_results()"
      ],
      "metadata": {
        "colab": {
          "base_uri": "https://localhost:8080/",
          "height": 304
        },
        "id": "qYP9EjAI7he2",
        "outputId": "f4e003c7-69f5-4b9c-ee6e-da4baceb6b34"
      },
      "execution_count": 14,
      "outputs": [
        {
          "output_type": "error",
          "ename": "TypeError",
          "evalue": "string indices must be integers",
          "traceback": [
            "\u001b[0;31m---------------------------------------------------------------------------\u001b[0m",
            "\u001b[0;31mTypeError\u001b[0m                                 Traceback (most recent call last)",
            "\u001b[0;32m<ipython-input-14-9dfd29b88d64>\u001b[0m in \u001b[0;36m<cell line: 2>\u001b[0;34m()\u001b[0m\n\u001b[1;32m      1\u001b[0m \u001b[0;31m# Tampilkan hasil pemilihan\u001b[0m\u001b[0;34m\u001b[0m\u001b[0;34m\u001b[0m\u001b[0m\n\u001b[0;32m----> 2\u001b[0;31m \u001b[0mvoting_app\u001b[0m\u001b[0;34m.\u001b[0m\u001b[0mshow_results\u001b[0m\u001b[0;34m(\u001b[0m\u001b[0;34m)\u001b[0m\u001b[0;34m\u001b[0m\u001b[0;34m\u001b[0m\u001b[0m\n\u001b[0m",
            "\u001b[0;32m<ipython-input-5-73050de223b9>\u001b[0m in \u001b[0;36mshow_results\u001b[0;34m(self)\u001b[0m\n\u001b[1;32m     19\u001b[0m \u001b[0;34m\u001b[0m\u001b[0m\n\u001b[1;32m     20\u001b[0m     \u001b[0;32mdef\u001b[0m \u001b[0mshow_results\u001b[0m\u001b[0;34m(\u001b[0m\u001b[0mself\u001b[0m\u001b[0;34m)\u001b[0m\u001b[0;34m:\u001b[0m\u001b[0;34m\u001b[0m\u001b[0;34m\u001b[0m\u001b[0m\n\u001b[0;32m---> 21\u001b[0;31m         \u001b[0mvotes\u001b[0m \u001b[0;34m=\u001b[0m \u001b[0mself\u001b[0m\u001b[0;34m.\u001b[0m\u001b[0mcount_votes\u001b[0m\u001b[0;34m(\u001b[0m\u001b[0;34m)\u001b[0m\u001b[0;34m\u001b[0m\u001b[0;34m\u001b[0m\u001b[0m\n\u001b[0m\u001b[1;32m     22\u001b[0m         \u001b[0mprint\u001b[0m\u001b[0;34m(\u001b[0m\u001b[0;34m\"Voting Results:\"\u001b[0m\u001b[0;34m)\u001b[0m\u001b[0;34m\u001b[0m\u001b[0;34m\u001b[0m\u001b[0m\n\u001b[1;32m     23\u001b[0m         \u001b[0;32mfor\u001b[0m \u001b[0mcandidate\u001b[0m\u001b[0;34m,\u001b[0m \u001b[0mcount\u001b[0m \u001b[0;32min\u001b[0m \u001b[0mvotes\u001b[0m\u001b[0;34m.\u001b[0m\u001b[0mitems\u001b[0m\u001b[0;34m(\u001b[0m\u001b[0;34m)\u001b[0m\u001b[0;34m:\u001b[0m\u001b[0;34m\u001b[0m\u001b[0;34m\u001b[0m\u001b[0m\n",
            "\u001b[0;32m<ipython-input-5-73050de223b9>\u001b[0m in \u001b[0;36mcount_votes\u001b[0;34m(self)\u001b[0m\n\u001b[1;32m     11\u001b[0m         \u001b[0;32mfor\u001b[0m \u001b[0mblock\u001b[0m \u001b[0;32min\u001b[0m \u001b[0mself\u001b[0m\u001b[0;34m.\u001b[0m\u001b[0mblockchain\u001b[0m\u001b[0;34m.\u001b[0m\u001b[0mchain\u001b[0m\u001b[0;34m:\u001b[0m\u001b[0;34m\u001b[0m\u001b[0;34m\u001b[0m\u001b[0m\n\u001b[1;32m     12\u001b[0m             \u001b[0;32mfor\u001b[0m \u001b[0mtransaction\u001b[0m \u001b[0;32min\u001b[0m \u001b[0mblock\u001b[0m\u001b[0;34m.\u001b[0m\u001b[0mtransactions\u001b[0m\u001b[0;34m:\u001b[0m\u001b[0;34m\u001b[0m\u001b[0;34m\u001b[0m\u001b[0m\n\u001b[0;32m---> 13\u001b[0;31m                 \u001b[0mvoter\u001b[0m \u001b[0;34m=\u001b[0m \u001b[0mtransaction\u001b[0m\u001b[0;34m[\u001b[0m\u001b[0;34m\"voter\"\u001b[0m\u001b[0;34m]\u001b[0m\u001b[0;34m\u001b[0m\u001b[0;34m\u001b[0m\u001b[0m\n\u001b[0m\u001b[1;32m     14\u001b[0m                 \u001b[0mcandidate\u001b[0m \u001b[0;34m=\u001b[0m \u001b[0mtransaction\u001b[0m\u001b[0;34m[\u001b[0m\u001b[0;34m\"candidate\"\u001b[0m\u001b[0;34m]\u001b[0m\u001b[0;34m\u001b[0m\u001b[0;34m\u001b[0m\u001b[0m\n\u001b[1;32m     15\u001b[0m                 \u001b[0;32mif\u001b[0m \u001b[0mcandidate\u001b[0m \u001b[0;32mnot\u001b[0m \u001b[0;32min\u001b[0m \u001b[0mvotes\u001b[0m\u001b[0;34m:\u001b[0m\u001b[0;34m\u001b[0m\u001b[0;34m\u001b[0m\u001b[0m\n",
            "\u001b[0;31mTypeError\u001b[0m: string indices must be integers"
          ]
        }
      ]
    },
    {
      "cell_type": "code",
      "source": [
        "# Menampilkan blockchain\n",
        "my_app.show_blockchain()"
      ],
      "metadata": {
        "colab": {
          "base_uri": "https://localhost:8080/"
        },
        "id": "AGedrGYQ78cg",
        "outputId": "3f05eb8a-84a5-4e14-aa6a-ad735208785a"
      },
      "execution_count": 15,
      "outputs": [
        {
          "output_type": "stream",
          "name": "stdout",
          "text": [
            "[\n",
            "    {\n",
            "        \"index\": 0,\n",
            "        \"timestamp\": \"2024-04-30 07:34:10.859903\",\n",
            "        \"transactions\": [\n",
            "            \"Transaction 3\",\n",
            "            \"Transaction 4\"\n",
            "        ],\n",
            "        \"previous_hash\": \"0\",\n",
            "        \"smart_contract\": \"\\ndef add(a, b):\\n    return a + b\\n\",\n",
            "        \"contract_result\": \"Smart contract executed successfully.\",\n",
            "        \"nonce\": 0,\n",
            "        \"hash\": \"2558bbdac0bb3b9c542619413ac504e65cf5c521b7687ed884407a596074bcbc\"\n",
            "    },\n",
            "    {\n",
            "        \"index\": 1,\n",
            "        \"timestamp\": \"2024-04-30 07:35:36.516699\",\n",
            "        \"transactions\": [\n",
            "            {\n",
            "                \"voter\": \"Alice\",\n",
            "                \"candidate\": \"Candidate A\"\n",
            "            },\n",
            "            {\n",
            "                \"voter\": \"Bob\",\n",
            "                \"candidate\": \"Candidate B\"\n",
            "            }\n",
            "        ],\n",
            "        \"previous_hash\": \"2558bbdac0bb3b9c542619413ac504e65cf5c521b7687ed884407a596074bcbc\",\n",
            "        \"smart_contract\": null,\n",
            "        \"contract_result\": null,\n",
            "        \"nonce\": 28493,\n",
            "        \"hash\": \"0000a4f9f85c5e9cc296ef5773e94f81f1a8d088590347d4769bf5506c8761d6\"\n",
            "    },\n",
            "    {\n",
            "        \"index\": 2,\n",
            "        \"timestamp\": \"2024-04-30 07:35:36.695414\",\n",
            "        \"transactions\": [\n",
            "            {\n",
            "                \"voter\": \"Charlie\",\n",
            "                \"candidate\": \"Candidate A\"\n",
            "            },\n",
            "            {\n",
            "                \"voter\": \"Dave\",\n",
            "                \"candidate\": \"Candidate A\"\n",
            "            }\n",
            "        ],\n",
            "        \"previous_hash\": \"0000a4f9f85c5e9cc296ef5773e94f81f1a8d088590347d4769bf5506c8761d6\",\n",
            "        \"smart_contract\": null,\n",
            "        \"contract_result\": null,\n",
            "        \"nonce\": 75747,\n",
            "        \"hash\": \"0000e506be2cbe7c7e7ad66e2849536c5146a31bc18e2144119bafde302b822b\"\n",
            "    },\n",
            "    {\n",
            "        \"index\": 3,\n",
            "        \"timestamp\": \"2024-04-30 07:35:37.148823\",\n",
            "        \"transactions\": [\n",
            "            {\n",
            "                \"voter\": \"Eve\",\n",
            "                \"candidate\": \"Candidate B\"\n",
            "            }\n",
            "        ],\n",
            "        \"previous_hash\": \"0000e506be2cbe7c7e7ad66e2849536c5146a31bc18e2144119bafde302b822b\",\n",
            "        \"smart_contract\": null,\n",
            "        \"contract_result\": null,\n",
            "        \"nonce\": 537926,\n",
            "        \"hash\": \"0000135318ddd52e0a018f0898473a43b91929523ae8f2c74ee6b01c05a36b28\"\n",
            "    }\n",
            "]\n"
          ]
        }
      ]
    }
  ]
}