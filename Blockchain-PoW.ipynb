{
  "nbformat": 4,
  "nbformat_minor": 0,
  "metadata": {
    "colab": {
      "provenance": [],
      "authorship_tag": "ABX9TyNpk98cI03gZ+2laWJRUEy8",
      "include_colab_link": true
    },
    "kernelspec": {
      "name": "python3",
      "display_name": "Python 3"
    },
    "language_info": {
      "name": "python"
    }
  },
  "cells": [
    {
      "cell_type": "markdown",
      "metadata": {
        "id": "view-in-github",
        "colab_type": "text"
      },
      "source": [
        "<a href=\"https://colab.research.google.com/github/elangbijak4/blockchain-codes-use-generative-AI/blob/main/Blockchain-PoW.ipynb\" target=\"_parent\"><img src=\"https://colab.research.google.com/assets/colab-badge.svg\" alt=\"Open In Colab\"/></a>"
      ]
    },
    {
      "cell_type": "markdown",
      "source": [
        "## Demonstrasi Kode Blockchain dengan Protokol Konsensus Proof of Work"
      ],
      "metadata": {
        "id": "G2bzWu4HvQMU"
      }
    },
    {
      "cell_type": "code",
      "execution_count": 1,
      "metadata": {
        "id": "dbzY9Wt6vNtU"
      },
      "outputs": [],
      "source": [
        "import hashlib\n",
        "import json\n",
        "from time import time"
      ]
    },
    {
      "cell_type": "code",
      "source": [
        "class Blockchain:\n",
        "    def __init__(self):\n",
        "        self.chain = []\n",
        "        self.current_transactions = []\n",
        "\n",
        "        # Membuat blok genesis\n",
        "        self.new_block(previous_hash=\"\", proof=100)\n",
        "\n",
        "    def new_block(self, proof, previous_hash=None):\n",
        "        \"\"\"\n",
        "        Buat blok baru dalam blockchain\n",
        "\n",
        "        :param proof: Bukti yang diperoleh melalui proses penambangan\n",
        "        :param previous_hash: Hash dari blok sebelumnya\n",
        "        :return: Blok baru\n",
        "        \"\"\"\n",
        "\n",
        "        block = {\n",
        "            'index': len(self.chain) + 1,\n",
        "            'timestamp': time(),\n",
        "            'transactions': self.current_transactions,\n",
        "            'proof': proof,\n",
        "            'previous_hash': previous_hash or self.hash(self.chain[-1]) if self.chain else None,\n",
        "            'current_hash': None  # Inisialisasi current hash\n",
        "        }\n",
        "\n",
        "        # Menghitung hash dari blok itu sendiri\n",
        "        block['current_hash'] = self.hash(block)\n",
        "\n",
        "        # Reset transaksi saat ini\n",
        "        self.current_transactions = []\n",
        "\n",
        "        self.chain.append(block)\n",
        "        return block\n",
        "\n",
        "    def new_transaction(self, sender, recipient, amount):\n",
        "        \"\"\"\n",
        "        Tambahkan transaksi baru ke dalam daftar transaksi saat ini\n",
        "\n",
        "        :param sender: Alamat pengirim\n",
        "        :param recipient: Alamat penerima\n",
        "        :param amount: Jumlah yang dikirim\n",
        "        :return: Index dari blok yang akan menyimpan transaksi ini\n",
        "        \"\"\"\n",
        "        self.current_transactions.append({\n",
        "            'sender': sender,\n",
        "            'recipient': recipient,\n",
        "            'amount': amount,\n",
        "        })\n",
        "\n",
        "        return self.last_block['index'] + 1\n",
        "\n",
        "    @staticmethod\n",
        "    def hash(block):\n",
        "        \"\"\"\n",
        "        Buat SHA-256 hash dari sebuah blok\n",
        "\n",
        "        :param block: Blok\n",
        "        :return: Hash dalam format string\n",
        "        \"\"\"\n",
        "\n",
        "        # Pastikan dictionary diurutkan untuk memastikan konsistensi hash\n",
        "        block_string = json.dumps(block, sort_keys=True).encode()\n",
        "        return hashlib.sha256(block_string).hexdigest()\n",
        "\n",
        "    @property\n",
        "    def last_block(self):\n",
        "        \"\"\"\n",
        "        Mengembalikan blok terakhir dalam blockchain\n",
        "        \"\"\"\n",
        "        return self.chain[-1]\n",
        "\n",
        "    def proof_of_work(self, last_proof):\n",
        "        \"\"\"\n",
        "        Algoritma Proof of Work:\n",
        "         - Cari bilangan p' sedemikian sehingga hash(p * p') memiliki 4 nol di depan.\n",
        "\n",
        "        :param last_proof: Bukti dari blok sebelumnya\n",
        "        :return: Bukti baru\n",
        "        \"\"\"\n",
        "        proof = 0\n",
        "        while self.valid_proof(last_proof, proof) is False:\n",
        "            proof += 1\n",
        "\n",
        "        return proof\n",
        "\n",
        "    @staticmethod\n",
        "    def valid_proof(last_proof, proof):\n",
        "        \"\"\"\n",
        "        Validasi bukti: Apakah hash(last_proof * proof) memiliki 4 nol di depan?\n",
        "\n",
        "        :param last_proof: Bukti sebelumnya\n",
        "        :param proof: Bukti saat ini\n",
        "        :return: True jika valid, False jika tidak\n",
        "        \"\"\"\n",
        "        guess = f'{last_proof}{proof}'.encode()\n",
        "        guess_hash = hashlib.sha256(guess).hexdigest()\n",
        "        return guess_hash[:4] == \"0000\""
      ],
      "metadata": {
        "id": "9RvDdaYFvYuK"
      },
      "execution_count": 2,
      "outputs": []
    },
    {
      "cell_type": "markdown",
      "source": [
        "PROSES RUNNING BLOCKHAIN"
      ],
      "metadata": {
        "id": "JOrF846IvfXc"
      }
    },
    {
      "cell_type": "code",
      "source": [
        "# Inisialisasi blockchain\n",
        "blockchain = Blockchain()\n",
        "\n",
        "# Tambahkan transaksi baru\n",
        "blockchain.new_transaction(\"Arif\", \"Santi\", 6)\n",
        "\n",
        "# Mulai penambangan blok baru\n",
        "last_block = blockchain.last_block\n",
        "last_proof = last_block['proof']\n",
        "proof = blockchain.proof_of_work(last_proof)\n",
        "\n",
        "proof\n",
        "\n",
        "# Hadiahkan penambang dengan 1 koin\n",
        "blockchain.new_transaction(\n",
        "    sender=\"0\",\n",
        "    recipient=\"Pembuat blok\",\n",
        "    amount=1,\n",
        ")\n",
        "\n",
        "# Buat blok baru\n",
        "previous_hash = blockchain.hash(last_block)\n",
        "block = blockchain.new_block(proof, previous_hash)\n",
        "\n",
        "print(\"Blockchain:\", json.dumps(blockchain.chain, indent=4))"
      ],
      "metadata": {
        "colab": {
          "base_uri": "https://localhost:8080/"
        },
        "id": "GPnx0moJvdvV",
        "outputId": "2fdeaa86-c216-4d29-f7c7-9e99911036a9"
      },
      "execution_count": 3,
      "outputs": [
        {
          "output_type": "stream",
          "name": "stdout",
          "text": [
            "Blockchain: [\n",
            "    {\n",
            "        \"index\": 1,\n",
            "        \"timestamp\": 1718521107.883537,\n",
            "        \"transactions\": [],\n",
            "        \"proof\": 100,\n",
            "        \"previous_hash\": null,\n",
            "        \"current_hash\": \"99dceaf3fcac391e343c9e368eafc70598bf9b6c55e3ad94d8687bf36ee1c93e\"\n",
            "    },\n",
            "    {\n",
            "        \"index\": 2,\n",
            "        \"timestamp\": 1718521107.9434426,\n",
            "        \"transactions\": [\n",
            "            {\n",
            "                \"sender\": \"Arif\",\n",
            "                \"recipient\": \"Santi\",\n",
            "                \"amount\": 6\n",
            "            },\n",
            "            {\n",
            "                \"sender\": \"0\",\n",
            "                \"recipient\": \"Pembuat blok\",\n",
            "                \"amount\": 1\n",
            "            }\n",
            "        ],\n",
            "        \"proof\": 35293,\n",
            "        \"previous_hash\": \"908105a39f579f14b8c6b33a2e68fc3b5b2d164cbc1d8c70414e0be209b6c5e9\",\n",
            "        \"current_hash\": \"fb74c8c48dd4c21b6688b8329444c89b179baf11ebdc3d4f69c2b13b7c61db57\"\n",
            "    }\n",
            "]\n"
          ]
        }
      ]
    }
  ]
}