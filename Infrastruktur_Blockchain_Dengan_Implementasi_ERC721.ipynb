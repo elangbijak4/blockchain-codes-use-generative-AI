{
  "nbformat": 4,
  "nbformat_minor": 0,
  "metadata": {
    "colab": {
      "provenance": [],
      "authorship_tag": "ABX9TyOpuNQC2pizoBjzFoH1I5w/",
      "include_colab_link": true
    },
    "kernelspec": {
      "name": "python3",
      "display_name": "Python 3"
    },
    "language_info": {
      "name": "python"
    }
  },
  "cells": [
    {
      "cell_type": "markdown",
      "metadata": {
        "id": "view-in-github",
        "colab_type": "text"
      },
      "source": [
        "<a href=\"https://colab.research.google.com/github/elangbijak4/blockchain-codes-use-generative-AI/blob/main/Infrastruktur_Blockchain_Dengan_Implementasi_ERC721.ipynb\" target=\"_parent\"><img src=\"https://colab.research.google.com/assets/colab-badge.svg\" alt=\"Open In Colab\"/></a>"
      ]
    },
    {
      "cell_type": "code",
      "source": [
        "import hashlib\n",
        "import time"
      ],
      "metadata": {
        "id": "oJulfZ-Q5vVz"
      },
      "execution_count": 2,
      "outputs": []
    },
    {
      "cell_type": "markdown",
      "source": [
        "## Kelas Block"
      ],
      "metadata": {
        "id": "J2ZhMvX850qn"
      }
    },
    {
      "cell_type": "code",
      "source": [
        "class Block:\n",
        "    def __init__(self, index, previous_hash, timestamp, data, hash):\n",
        "        self.index = index\n",
        "        self.previous_hash = previous_hash\n",
        "        self.timestamp = timestamp\n",
        "        self.data = data\n",
        "        self.hash = hash\n",
        "\n",
        "    @staticmethod\n",
        "    def calculate_hash(index, previous_hash, timestamp, data):\n",
        "        value = f\"{index}{previous_hash}{timestamp}{data}\"\n",
        "        return hashlib.sha256(value.encode('utf-8')).hexdigest()\n",
        "\n",
        "    @staticmethod\n",
        "    def create_genesis_block():\n",
        "        return Block(0, \"0\", int(time.time()), \"Genesis Block\", Block.calculate_hash(0, \"0\", int(time.time()), \"Genesis Block\"))"
      ],
      "metadata": {
        "id": "kr6-36Yw5xz_"
      },
      "execution_count": 3,
      "outputs": []
    },
    {
      "cell_type": "markdown",
      "source": [
        "## Kelas Smart Contract"
      ],
      "metadata": {
        "id": "ygiPIKCL6C-4"
      }
    },
    {
      "cell_type": "code",
      "source": [
        "class SmartContract:\n",
        "    def __init__(self, code):\n",
        "        self.code = code\n",
        "        self.storage = {}\n",
        "\n",
        "    def execute(self, blockchain, **kwargs):\n",
        "        local_context = {\n",
        "            'blockchain': blockchain,\n",
        "            'storage': self.storage\n",
        "        }\n",
        "        local_context.update(kwargs)\n",
        "        exec(self.code, {}, local_context)\n",
        "        self.storage = local_context['storage']"
      ],
      "metadata": {
        "id": "7DbWDdqP56ut"
      },
      "execution_count": 4,
      "outputs": []
    },
    {
      "cell_type": "markdown",
      "source": [
        "Implementasi ERC721 ke dalam Kelas ERC721"
      ],
      "metadata": {
        "id": "zOqpUdKt5fOz"
      }
    },
    {
      "cell_type": "code",
      "execution_count": 5,
      "metadata": {
        "id": "0MnP4hWA4zVs"
      },
      "outputs": [],
      "source": [
        "class ERC721:\n",
        "    def __init__(self):\n",
        "        self._token_owner = {}  # tokenId => owner\n",
        "        self._owned_tokens = {}  # owner => list of tokenIds\n",
        "        self._token_approvals = {}  # tokenId => approved address\n",
        "        self._operator_approvals = {}  # owner => (operator => approved)\n",
        "\n",
        "    def balance_of(self, owner):\n",
        "        if owner in self._owned_tokens:\n",
        "            return len(self._owned_tokens[owner])\n",
        "        return 0\n",
        "\n",
        "    def owner_of(self, tokenId):\n",
        "        return self._token_owner.get(tokenId, None)\n",
        "\n",
        "    def transfer_from(self, from_address, to_address, tokenId):\n",
        "        if self._is_approved_or_owner(from_address, tokenId):\n",
        "            self._transfer(from_address, to_address, tokenId)\n",
        "\n",
        "    def approve(self, to, tokenId):\n",
        "        owner = self.owner_of(tokenId)\n",
        "        if owner:\n",
        "            self._token_approvals[tokenId] = to\n",
        "\n",
        "    def set_approval_for_all(self, owner, operator, approved):\n",
        "        if owner in self._operator_approvals:\n",
        "            self._operator_approvals[owner][operator] = approved\n",
        "        else:\n",
        "            self._operator_approvals[owner] = {operator: approved}\n",
        "\n",
        "    def is_approved_for_all(self, owner, operator):\n",
        "        return self._operator_approvals.get(owner, {}).get(operator, False)\n",
        "\n",
        "    def _is_approved_or_owner(self, spender, tokenId):\n",
        "        owner = self.owner_of(tokenId)\n",
        "        return spender == owner or \\\n",
        "               self._token_approvals.get(tokenId) == spender or \\\n",
        "               self.is_approved_for_all(owner, spender)\n",
        "\n",
        "    def _transfer(self, from_address, to_address, tokenId):\n",
        "        # Remove token from the current owner's list\n",
        "        if from_address in self._owned_tokens:\n",
        "            self._owned_tokens[from_address].remove(tokenId)\n",
        "\n",
        "        # Add token to the new owner's list\n",
        "        if to_address in self._owned_tokens:\n",
        "            self._owned_tokens[to_address].append(tokenId)\n",
        "        else:\n",
        "            self._owned_tokens[to_address] = [tokenId]\n",
        "\n",
        "        # Change token owner\n",
        "        self._token_owner[tokenId] = to_address\n",
        "\n",
        "        # Clear approval\n",
        "        if tokenId in self._token_approvals:\n",
        "            del self._token_approvals[tokenId]\n",
        "\n",
        "    def mint(self, to, tokenId):\n",
        "        if tokenId not in self._token_owner:\n",
        "            self._token_owner[tokenId] = to\n",
        "            if to in self._owned_tokens:\n",
        "                self._owned_tokens[to].append(tokenId)\n",
        "            else:\n",
        "                self._owned_tokens[to] = [tokenId]\n",
        "\n",
        "    def burn(self, tokenId):\n",
        "        owner = self.owner_of(tokenId)\n",
        "        if owner:\n",
        "            self._owned_tokens[owner].remove(tokenId)\n",
        "            del self._token_owner[tokenId]\n",
        "            if tokenId in self._token_approvals:\n",
        "                del self._token_approvals[tokenId]\n"
      ]
    },
    {
      "cell_type": "markdown",
      "source": [
        "### Integrasi ERC721 dengan Blockchain"
      ],
      "metadata": {
        "id": "QKBL_L4C5YgO"
      }
    },
    {
      "cell_type": "code",
      "source": [
        "class Blockchain:\n",
        "    def __init__(self):\n",
        "        self.chain = [Block.create_genesis_block()]\n",
        "        self.erc721 = ERC721()  # Tambahkan inisialisasi ERC721\n",
        "\n",
        "    def get_latest_block(self):\n",
        "        return self.chain[-1]\n",
        "\n",
        "    def add_block(self, data):\n",
        "        latest_block = self.get_latest_block()\n",
        "        new_index = latest_block.index + 1\n",
        "        new_timestamp = int(time.time())\n",
        "        new_hash = Block.calculate_hash(new_index, latest_block.hash, new_timestamp, data)\n",
        "        new_block = Block(new_index, latest_block.hash, new_timestamp, data, new_hash)\n",
        "        self.chain.append(new_block)\n",
        "\n",
        "    def is_chain_valid(self):\n",
        "        for i in range(1, len(self.chain)):\n",
        "            current_block = self.chain[i]\n",
        "            previous_block = self.chain[i-1]\n",
        "\n",
        "            if current_block.hash != Block.calculate_hash(current_block.index, current_block.previous_hash, current_block.timestamp, current_block.data):\n",
        "                return False\n",
        "\n",
        "            if current_block.previous_hash != previous_block.hash:\n",
        "                return False\n",
        "\n",
        "        return True\n",
        "\n",
        "    def mint_nft(self, to, tokenId):\n",
        "        self.erc721.mint(to, tokenId)\n",
        "        self.add_block(f\"Minted NFT {tokenId} to {to}\")\n",
        "\n",
        "    def transfer_nft(self, from_address, to_address, tokenId):\n",
        "        self.erc721.transfer_from(from_address, to_address, tokenId)\n",
        "        self.add_block(f\"Transferred NFT {tokenId} from {from_address} to {to_address}\")\n"
      ],
      "metadata": {
        "id": "m1aj4CDK5SzF"
      },
      "execution_count": 6,
      "outputs": []
    },
    {
      "cell_type": "markdown",
      "source": [
        "## Demo Pembuatan Smart Contract"
      ],
      "metadata": {
        "id": "w-etVpRM6KIk"
      }
    },
    {
      "cell_type": "code",
      "source": [
        "def execute_smart_contract(contract_code, blockchain, **kwargs):\n",
        "    contract = SmartContract(contract_code)\n",
        "    contract.execute(blockchain, **kwargs)\n",
        "\n",
        "# Contoh penggunaan\n",
        "if __name__ == \"__main__\":\n",
        "    # Membuat blockchain baru\n",
        "    my_blockchain = Blockchain()\n",
        "\n",
        "    # Menambahkan blok baru\n",
        "    my_blockchain.add_block(\"Block 1 Data\")\n",
        "    my_blockchain.add_block(\"Block 2 Data\")\n",
        "\n",
        "    print(\"Blockchain valid:\", my_blockchain.is_chain_valid())\n",
        "\n",
        "    # Membuat smart contract sederhana\n",
        "    smart_contract_code = \"\"\"\n",
        "def contract_function():\n",
        "    storage['counter'] = storage.get('counter', 0) + 1\n",
        "    print(f\"Counter value: {storage['counter']}\")\n",
        "\n",
        "contract_function()\n",
        "\"\"\"\n",
        "    execute_smart_contract(smart_contract_code, my_blockchain)\n",
        "\n",
        "    # Menjalankan kembali smart contract untuk melihat perubahan state\n",
        "    execute_smart_contract(smart_contract_code, my_blockchain)"
      ],
      "metadata": {
        "colab": {
          "base_uri": "https://localhost:8080/",
          "height": 426
        },
        "id": "tha-Dbpf6LRn",
        "outputId": "2041d521-5eb8-45b2-f7b1-c548c7295409"
      },
      "execution_count": 7,
      "outputs": [
        {
          "output_type": "stream",
          "name": "stdout",
          "text": [
            "Blockchain valid: True\n"
          ]
        },
        {
          "output_type": "error",
          "ename": "NameError",
          "evalue": "name 'storage' is not defined",
          "traceback": [
            "\u001b[0;31m---------------------------------------------------------------------------\u001b[0m",
            "\u001b[0;31mNameError\u001b[0m                                 Traceback (most recent call last)",
            "\u001b[0;32m<ipython-input-7-63ceccb2a998>\u001b[0m in \u001b[0;36m<cell line: 6>\u001b[0;34m()\u001b[0m\n\u001b[1;32m     22\u001b[0m \u001b[0mcontract_function\u001b[0m\u001b[0;34m(\u001b[0m\u001b[0;34m)\u001b[0m\u001b[0;34m\u001b[0m\u001b[0;34m\u001b[0m\u001b[0m\n\u001b[1;32m     23\u001b[0m \"\"\"\n\u001b[0;32m---> 24\u001b[0;31m     \u001b[0mexecute_smart_contract\u001b[0m\u001b[0;34m(\u001b[0m\u001b[0msmart_contract_code\u001b[0m\u001b[0;34m,\u001b[0m \u001b[0mmy_blockchain\u001b[0m\u001b[0;34m)\u001b[0m\u001b[0;34m\u001b[0m\u001b[0;34m\u001b[0m\u001b[0m\n\u001b[0m\u001b[1;32m     25\u001b[0m \u001b[0;34m\u001b[0m\u001b[0m\n\u001b[1;32m     26\u001b[0m     \u001b[0;31m# Menjalankan kembali smart contract untuk melihat perubahan state\u001b[0m\u001b[0;34m\u001b[0m\u001b[0;34m\u001b[0m\u001b[0m\n",
            "\u001b[0;32m<ipython-input-7-63ceccb2a998>\u001b[0m in \u001b[0;36mexecute_smart_contract\u001b[0;34m(contract_code, blockchain, **kwargs)\u001b[0m\n\u001b[1;32m      1\u001b[0m \u001b[0;32mdef\u001b[0m \u001b[0mexecute_smart_contract\u001b[0m\u001b[0;34m(\u001b[0m\u001b[0mcontract_code\u001b[0m\u001b[0;34m,\u001b[0m \u001b[0mblockchain\u001b[0m\u001b[0;34m,\u001b[0m \u001b[0;34m**\u001b[0m\u001b[0mkwargs\u001b[0m\u001b[0;34m)\u001b[0m\u001b[0;34m:\u001b[0m\u001b[0;34m\u001b[0m\u001b[0;34m\u001b[0m\u001b[0m\n\u001b[1;32m      2\u001b[0m     \u001b[0mcontract\u001b[0m \u001b[0;34m=\u001b[0m \u001b[0mSmartContract\u001b[0m\u001b[0;34m(\u001b[0m\u001b[0mcontract_code\u001b[0m\u001b[0;34m)\u001b[0m\u001b[0;34m\u001b[0m\u001b[0;34m\u001b[0m\u001b[0m\n\u001b[0;32m----> 3\u001b[0;31m     \u001b[0mcontract\u001b[0m\u001b[0;34m.\u001b[0m\u001b[0mexecute\u001b[0m\u001b[0;34m(\u001b[0m\u001b[0mblockchain\u001b[0m\u001b[0;34m,\u001b[0m \u001b[0;34m**\u001b[0m\u001b[0mkwargs\u001b[0m\u001b[0;34m)\u001b[0m\u001b[0;34m\u001b[0m\u001b[0;34m\u001b[0m\u001b[0m\n\u001b[0m\u001b[1;32m      4\u001b[0m \u001b[0;34m\u001b[0m\u001b[0m\n\u001b[1;32m      5\u001b[0m \u001b[0;31m# Contoh penggunaan\u001b[0m\u001b[0;34m\u001b[0m\u001b[0;34m\u001b[0m\u001b[0m\n",
            "\u001b[0;32m<ipython-input-4-b5ccb0427e83>\u001b[0m in \u001b[0;36mexecute\u001b[0;34m(self, blockchain, **kwargs)\u001b[0m\n\u001b[1;32m     10\u001b[0m         }\n\u001b[1;32m     11\u001b[0m         \u001b[0mlocal_context\u001b[0m\u001b[0;34m.\u001b[0m\u001b[0mupdate\u001b[0m\u001b[0;34m(\u001b[0m\u001b[0mkwargs\u001b[0m\u001b[0;34m)\u001b[0m\u001b[0;34m\u001b[0m\u001b[0;34m\u001b[0m\u001b[0m\n\u001b[0;32m---> 12\u001b[0;31m         \u001b[0mexec\u001b[0m\u001b[0;34m(\u001b[0m\u001b[0mself\u001b[0m\u001b[0;34m.\u001b[0m\u001b[0mcode\u001b[0m\u001b[0;34m,\u001b[0m \u001b[0;34m{\u001b[0m\u001b[0;34m}\u001b[0m\u001b[0;34m,\u001b[0m \u001b[0mlocal_context\u001b[0m\u001b[0;34m)\u001b[0m\u001b[0;34m\u001b[0m\u001b[0;34m\u001b[0m\u001b[0m\n\u001b[0m\u001b[1;32m     13\u001b[0m         \u001b[0mself\u001b[0m\u001b[0;34m.\u001b[0m\u001b[0mstorage\u001b[0m \u001b[0;34m=\u001b[0m \u001b[0mlocal_context\u001b[0m\u001b[0;34m[\u001b[0m\u001b[0;34m'storage'\u001b[0m\u001b[0;34m]\u001b[0m\u001b[0;34m\u001b[0m\u001b[0;34m\u001b[0m\u001b[0m\n",
            "\u001b[0;32m<string>\u001b[0m in \u001b[0;36m<module>\u001b[0;34m\u001b[0m\n",
            "\u001b[0;32m<string>\u001b[0m in \u001b[0;36mcontract_function\u001b[0;34m()\u001b[0m\n",
            "\u001b[0;31mNameError\u001b[0m: name 'storage' is not defined"
          ]
        }
      ]
    },
    {
      "cell_type": "markdown",
      "source": [
        "## Demo Penggunaan ERC-721"
      ],
      "metadata": {
        "id": "DMQUVoj35nsa"
      }
    },
    {
      "cell_type": "code",
      "source": [
        "if __name__ == \"__main__\":\n",
        "    # Membuat blockchain baru\n",
        "    my_blockchain = Blockchain()\n",
        "\n",
        "    # Mint NFT baru\n",
        "    my_blockchain.mint_nft(\"0x123\", 1)\n",
        "    my_blockchain.mint_nft(\"0x456\", 2)\n",
        "\n",
        "    # Transfer NFT\n",
        "    my_blockchain.transfer_nft(\"0x123\", \"0x789\", 1)\n",
        "\n",
        "    # Periksa kepemilikan NFT\n",
        "    print(\"Owner of NFT 1:\", my_blockchain.erc721.owner_of(1))\n",
        "    print(\"Owner of NFT 2:\", my_blockchain.erc721.owner_of(2))\n",
        "\n",
        "    # Validasi blockchain\n",
        "    print(\"Blockchain valid:\", my_blockchain.is_chain_valid())\n"
      ],
      "metadata": {
        "colab": {
          "base_uri": "https://localhost:8080/"
        },
        "id": "f9vS7Nfy5Uq1",
        "outputId": "0eecaefc-3d1a-431b-f8fb-ec97b00c5ce3"
      },
      "execution_count": 8,
      "outputs": [
        {
          "output_type": "stream",
          "name": "stdout",
          "text": [
            "Owner of NFT 1: 0x789\n",
            "Owner of NFT 2: 0x456\n",
            "Blockchain valid: True\n"
          ]
        }
      ]
    }
  ]
}