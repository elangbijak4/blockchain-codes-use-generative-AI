{
  "nbformat": 4,
  "nbformat_minor": 0,
  "metadata": {
    "colab": {
      "provenance": [],
      "authorship_tag": "ABX9TyPP4a0BDywWO9WgWdiu86q0",
      "include_colab_link": true
    },
    "kernelspec": {
      "name": "python3",
      "display_name": "Python 3"
    },
    "language_info": {
      "name": "python"
    }
  },
  "cells": [
    {
      "cell_type": "markdown",
      "metadata": {
        "id": "view-in-github",
        "colab_type": "text"
      },
      "source": [
        "<a href=\"https://colab.research.google.com/github/elangbijak4/blockchain-codes-use-generative-AI/blob/main/Blockchain_PoS.ipynb\" target=\"_parent\"><img src=\"https://colab.research.google.com/assets/colab-badge.svg\" alt=\"Open In Colab\"/></a>"
      ]
    },
    {
      "cell_type": "code",
      "execution_count": 5,
      "metadata": {
        "id": "sWgAJhFQ3ZyV"
      },
      "outputs": [],
      "source": [
        "import hashlib\n",
        "import time\n",
        "import random\n",
        "\n",
        "class Block:\n",
        "    def __init__(self, index, previous_hash, timestamp, data, hash):\n",
        "        self.index = index\n",
        "        self.previous_hash = previous_hash\n",
        "        self.timestamp = timestamp\n",
        "        self.data = data\n",
        "        self.hash = hash\n",
        "\n",
        "    def __repr__(self):\n",
        "        return f\"Block(Index: {self.index}, Hash: {self.hash})\"\n",
        "\n",
        "\n",
        "class Blockchain:\n",
        "    def __init__(self):\n",
        "        self.chain = [self.create_genesis_block()]\n",
        "        self.stakeholders = {}  # To keep track of stakeholder's stakes\n",
        "\n",
        "    def create_genesis_block(self):\n",
        "        return Block(0, \"0\", time.time(), \"Genesis Block\", self.calculate_hash(0, \"0\", time.time(), \"Genesis Block\"))\n",
        "\n",
        "    def get_latest_block(self):\n",
        "        return self.chain[-1]\n",
        "\n",
        "    def add_block(self, new_block):\n",
        "        new_block.hash = self.calculate_hash(new_block.index, new_block.previous_hash, new_block.timestamp, new_block.data)\n",
        "        self.chain.append(new_block)\n",
        "\n",
        "    def calculate_hash(self, index, previous_hash, timestamp, data):\n",
        "        value = str(index) + previous_hash + str(timestamp) + data\n",
        "        return hashlib.sha256(value.encode('utf-8')).hexdigest()\n",
        "\n",
        "    def add_stakeholder(self, address, stake):\n",
        "        if address in self.stakeholders:\n",
        "            self.stakeholders[address] += stake\n",
        "        else:\n",
        "            self.stakeholders[address] = stake\n",
        "\n",
        "    def select_validator(self):\n",
        "        total_stake = sum(self.stakeholders.values())\n",
        "        pick = random.uniform(0, total_stake)\n",
        "        current = 0\n",
        "        for address, stake in self.stakeholders.items():\n",
        "            current += stake\n",
        "            if current > pick:\n",
        "                return address\n",
        "\n",
        "    def create_block(self, data):\n",
        "        latest_block = self.get_latest_block()\n",
        "        index = latest_block.index + 1\n",
        "        timestamp = time.time()\n",
        "        previous_hash = latest_block.hash\n",
        "        new_block = Block(index, previous_hash, timestamp, data, \"\")\n",
        "        validator = self.select_validator()\n",
        "        print(f\"Block #{index} created by {validator}\")\n",
        "        self.add_block(new_block)\n",
        "\n",
        "\n"
      ]
    },
    {
      "cell_type": "code",
      "source": [
        "# Example Usage\n",
        "blockchain = Blockchain()\n",
        "blockchain.add_stakeholder('Alice', 10)\n",
        "blockchain.add_stakeholder('Bob', 20)\n",
        "blockchain.add_stakeholder('Charlie', 30)"
      ],
      "metadata": {
        "id": "cUdRBT-t3hh2"
      },
      "execution_count": 6,
      "outputs": []
    },
    {
      "cell_type": "code",
      "source": [
        "blockchain.create_block('Block 1 Data')\n",
        "blockchain.create_block('Block 2 Data')\n",
        "blockchain.create_block('Block 3 Data')\n",
        "\n",
        "for block in blockchain.chain:\n",
        "    print(block)"
      ],
      "metadata": {
        "colab": {
          "base_uri": "https://localhost:8080/"
        },
        "id": "5IW-LMec3vGD",
        "outputId": "262e6635-bd25-450d-ff12-d8c1bc1460b1"
      },
      "execution_count": 7,
      "outputs": [
        {
          "output_type": "stream",
          "name": "stdout",
          "text": [
            "Block #1 created by Bob\n",
            "Block #2 created by Alice\n",
            "Block #3 created by Alice\n",
            "Block(Index: 0, Hash: 25f32362815710b55092da255f05038f4127535a132a8ea9e6cd3c25047fd49f)\n",
            "Block(Index: 1, Hash: ba2c34fff422cfbfb34dbb9911aa4ccec33195fed0dc22417213fc2505a9fed2)\n",
            "Block(Index: 2, Hash: c0ecf9d396794f496a476d72f98cc7c9f20831f7f401226b9bd5e6ff09505607)\n",
            "Block(Index: 3, Hash: bf42afbccdff899f2eaa60a033e82936435b1b7b18a0e54b1bbc70884c125599)\n"
          ]
        }
      ]
    }
  ]
}