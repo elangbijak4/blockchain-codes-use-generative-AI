{
  "nbformat": 4,
  "nbformat_minor": 0,
  "metadata": {
    "colab": {
      "provenance": [],
      "authorship_tag": "ABX9TyNhqHL5aiMyVul0vMk6qeSt",
      "include_colab_link": true
    },
    "kernelspec": {
      "name": "python3",
      "display_name": "Python 3"
    },
    "language_info": {
      "name": "python"
    }
  },
  "cells": [
    {
      "cell_type": "markdown",
      "metadata": {
        "id": "view-in-github",
        "colab_type": "text"
      },
      "source": [
        "<a href=\"https://colab.research.google.com/github/elangbijak4/blockchain-codes-use-generative-AI/blob/main/Demonstrasi_Blockchain_dengan_Gradio.ipynb\" target=\"_parent\"><img src=\"https://colab.research.google.com/assets/colab-badge.svg\" alt=\"Open In Colab\"/></a>"
      ]
    },
    {
      "cell_type": "code",
      "source": [
        "! pip install gradio"
      ],
      "metadata": {
        "id": "vIIcRhxXknqw"
      },
      "execution_count": null,
      "outputs": []
    },
    {
      "cell_type": "code",
      "execution_count": 10,
      "metadata": {
        "colab": {
          "base_uri": "https://localhost:8080/",
          "height": 1000
        },
        "id": "8DS3VYsYkcMk",
        "outputId": "56fc2ce5-9737-4995-c0da-500cccbeacd7"
      },
      "outputs": [
        {
          "output_type": "stream",
          "name": "stdout",
          "text": [
            "Setting queue=True in a Colab notebook requires sharing enabled. Setting `share=True` (you can turn this off by setting `share=False` in `launch()` explicitly).\n",
            "\n",
            "Colab notebook detected. To show errors in colab notebook, set debug=True in launch()\n",
            "Running on public URL: https://c7f1a5d586b3e2cf45.gradio.live\n",
            "\n",
            "This share link expires in 72 hours. For free permanent hosting and GPU upgrades, run `gradio deploy` from Terminal to deploy to Spaces (https://huggingface.co/spaces)\n"
          ]
        },
        {
          "output_type": "display_data",
          "data": {
            "text/plain": [
              "<IPython.core.display.HTML object>"
            ],
            "text/html": [
              "<div><iframe src=\"https://c7f1a5d586b3e2cf45.gradio.live\" width=\"100%\" height=\"500\" allow=\"autoplay; camera; microphone; clipboard-read; clipboard-write;\" frameborder=\"0\" allowfullscreen></iframe></div>"
            ]
          },
          "metadata": {}
        },
        {
          "output_type": "stream",
          "name": "stdout",
          "text": [
            "Setting queue=True in a Colab notebook requires sharing enabled. Setting `share=True` (you can turn this off by setting `share=False` in `launch()` explicitly).\n",
            "\n",
            "Colab notebook detected. To show errors in colab notebook, set debug=True in launch()\n",
            "Running on public URL: https://ff55fdca3e6be871c2.gradio.live\n",
            "\n",
            "This share link expires in 72 hours. For free permanent hosting and GPU upgrades, run `gradio deploy` from Terminal to deploy to Spaces (https://huggingface.co/spaces)\n"
          ]
        },
        {
          "output_type": "display_data",
          "data": {
            "text/plain": [
              "<IPython.core.display.HTML object>"
            ],
            "text/html": [
              "<div><iframe src=\"https://ff55fdca3e6be871c2.gradio.live\" width=\"100%\" height=\"500\" allow=\"autoplay; camera; microphone; clipboard-read; clipboard-write;\" frameborder=\"0\" allowfullscreen></iframe></div>"
            ]
          },
          "metadata": {}
        },
        {
          "output_type": "stream",
          "name": "stdout",
          "text": [
            "Setting queue=True in a Colab notebook requires sharing enabled. Setting `share=True` (you can turn this off by setting `share=False` in `launch()` explicitly).\n",
            "\n",
            "Colab notebook detected. To show errors in colab notebook, set debug=True in launch()\n",
            "Running on public URL: https://42951d1306a3166512.gradio.live\n",
            "\n",
            "This share link expires in 72 hours. For free permanent hosting and GPU upgrades, run `gradio deploy` from Terminal to deploy to Spaces (https://huggingface.co/spaces)\n"
          ]
        },
        {
          "output_type": "display_data",
          "data": {
            "text/plain": [
              "<IPython.core.display.HTML object>"
            ],
            "text/html": [
              "<div><iframe src=\"https://42951d1306a3166512.gradio.live\" width=\"100%\" height=\"500\" allow=\"autoplay; camera; microphone; clipboard-read; clipboard-write;\" frameborder=\"0\" allowfullscreen></iframe></div>"
            ]
          },
          "metadata": {}
        },
        {
          "output_type": "execute_result",
          "data": {
            "text/plain": []
          },
          "metadata": {},
          "execution_count": 10
        }
      ],
      "source": [
        "\n",
        "import hashlib\n",
        "import json\n",
        "from time import time\n",
        "from urllib.parse import urlparse\n",
        "from uuid import uuid4\n",
        "import gradio as gr\n",
        "\n",
        "class Blockchain:\n",
        "    def __init__(self):\n",
        "        self.chain = []\n",
        "        self.current_transactions = []\n",
        "        self.nodes = set()\n",
        "\n",
        "        # Membuat blok genesis\n",
        "        self.new_block(previous_hash=\"1\", proof=100)\n",
        "\n",
        "    def new_block(self, proof, previous_hash=None):\n",
        "        \"\"\"\n",
        "        Membuat blok baru dalam blockchain\n",
        "        :param proof: Proof of work\n",
        "        :param previous_hash: Hash dari blok sebelumnya\n",
        "        :return: Blok baru\n",
        "        \"\"\"\n",
        "\n",
        "        block = {\n",
        "            'index': len(self.chain) + 1,\n",
        "            'timestamp': time(),\n",
        "            'transactions': self.current_transactions,\n",
        "            'proof': proof,\n",
        "            'previous_hash': previous_hash or self.hash(self.chain[-1]),\n",
        "        }\n",
        "\n",
        "        # Reset transaksi saat ini\n",
        "        self.current_transactions = []\n",
        "\n",
        "        self.chain.append(block)\n",
        "        return block\n",
        "\n",
        "    def new_transaction(self, sender, recipient, amount):\n",
        "        \"\"\"\n",
        "        Membuat transaksi baru dalam blockchain\n",
        "        :param sender: Alamat pengirim\n",
        "        :param recipient: Alamat penerima\n",
        "        :param amount: Jumlah yang dikirim\n",
        "        :return: Indeks blok berikutnya yang akan menyimpan transaksi ini\n",
        "        \"\"\"\n",
        "        self.current_transactions.append({\n",
        "            'sender': sender,\n",
        "            'recipient': recipient,\n",
        "            'amount': amount,\n",
        "        })\n",
        "\n",
        "        return self.last_block['index'] + 1\n",
        "\n",
        "    @staticmethod\n",
        "    def hash(block):\n",
        "        \"\"\"\n",
        "        Membuat SHA-256 hash dari blok\n",
        "        :param block: Blok\n",
        "        :return: Hash\n",
        "        \"\"\"\n",
        "        # Pastikan dictionary disusun (agar hash yang sama setiap kali untuk blok yang sama)\n",
        "        block_string = json.dumps(block, sort_keys=True).encode()\n",
        "        return hashlib.sha256(block_string).hexdigest()\n",
        "\n",
        "    def proof_of_work(self, last_proof):\n",
        "        \"\"\"\n",
        "        Algoritma proof of work:\n",
        "        - Temukan angka p ' yang membuat hash(pp') memiliki 4 angka nol berturut-turut\n",
        "        - p adalah proof sebelumnya, dan p' adalah proof baru\n",
        "        :param last_proof: Proof sebelumnya\n",
        "        :return: Proof baru\n",
        "        \"\"\"\n",
        "        proof = 0\n",
        "        while self.valid_proof(last_proof, proof) is False:\n",
        "            proof += 1\n",
        "        return proof\n",
        "\n",
        "    @staticmethod\n",
        "    def valid_proof(last_proof, proof):\n",
        "        \"\"\"\n",
        "        Memverifikasi bukti: Apakah hash(last_proof, proof) mengandung 4 angka nol berturut-turut?\n",
        "        :param last_proof: Proof sebelumnya\n",
        "        :param proof: Proof saat ini\n",
        "        :return: True jika benar, False jika salah\n",
        "        \"\"\"\n",
        "        guess = f'{last_proof}{proof}'.encode()\n",
        "        guess_hash = hashlib.sha256(guess).hexdigest()\n",
        "        return guess_hash[:4] == \"0000\"\n",
        "\n",
        "    @property\n",
        "    def last_block(self):\n",
        "        # Mengembalikan blok terakhir dalam blockchain\n",
        "        return self.chain[-1]\n",
        "\n",
        "    def get_chain(self):\n",
        "        # Mengembalikan seluruh blockchain\n",
        "        return self.chain\n",
        "\n",
        "# Inisialisasi node\n",
        "node_identifier = str(uuid4()).replace('-', '')\n",
        "\n",
        "# Inisialisasi blockchain\n",
        "blockchain = Blockchain()\n",
        "\n",
        "# Inisialisasi Gradio\n",
        "def make_transaction(sender, recipient, amount):\n",
        "    index = blockchain.new_transaction(sender, recipient, amount)\n",
        "    return f\"Transaksi akan dimasukkan ke blok {index}\"\n",
        "\n",
        "def mine_block():\n",
        "    # Lakukan proof of work untuk mendapatkan proof\n",
        "    last_block = blockchain.last_block\n",
        "    last_proof = last_block['proof']\n",
        "    proof = blockchain.proof_of_work(last_proof)\n",
        "\n",
        "    # Tambahkan transaksi hadiah untuk penambang\n",
        "    blockchain.new_transaction(\n",
        "        sender=\"0\",\n",
        "        recipient=node_identifier,\n",
        "        amount=1,\n",
        "    )\n",
        "\n",
        "    # Tambahkan blok baru ke blockchain\n",
        "    previous_hash = blockchain.hash(last_block)\n",
        "    block = blockchain.new_block(proof, previous_hash)\n",
        "\n",
        "    return f\"Blok baru ditambahkan ke blockchain\\nHash: {previous_hash}\"\n",
        "\n",
        "def show_blockchain():\n",
        "    chain = blockchain.get_chain()\n",
        "    return json.dumps(chain, indent=2)\n",
        "\n",
        "iface = gr.Interface(\n",
        "    fn=make_transaction,\n",
        "    inputs=[\"text\", \"text\", \"number\"],\n",
        "    outputs=\"text\",\n",
        "    title=\"Buat Transaksi\",\n",
        "    description=\"Masukkan alamat pengirim, penerima, dan jumlah untuk membuat transaksi baru.\",\n",
        ")\n",
        "iface2 = gr.Interface(\n",
        "    fn=mine_block,\n",
        "    inputs=None,\n",
        "    outputs=\"text\",\n",
        "    title=\"Tambang Blok\",\n",
        "    description=\"Buktikan pekerjaan untuk menambahkan blok baru ke blockchain.\",\n",
        ")\n",
        "iface3 = gr.Interface(\n",
        "    fn=show_blockchain,\n",
        "    inputs=None,\n",
        "    outputs=\"text\",\n",
        "    title=\"Tampilkan Blockchain\",\n",
        "    description=\"Tampilkan seluruh blockchain.\",\n",
        ")\n",
        "iface.launch()\n",
        "iface2.launch()\n",
        "iface3.launch()"
      ]
    }
  ]
}