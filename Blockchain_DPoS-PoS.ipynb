{
  "nbformat": 4,
  "nbformat_minor": 0,
  "metadata": {
    "colab": {
      "provenance": [],
      "authorship_tag": "ABX9TyOetspUjzgSNmR1eIlfr7kv",
      "include_colab_link": true
    },
    "kernelspec": {
      "name": "python3",
      "display_name": "Python 3"
    },
    "language_info": {
      "name": "python"
    }
  },
  "cells": [
    {
      "cell_type": "markdown",
      "metadata": {
        "id": "view-in-github",
        "colab_type": "text"
      },
      "source": [
        "<a href=\"https://colab.research.google.com/github/elangbijak4/blockchain-codes-use-generative-AI/blob/main/Blockchain_DPoS-PoS.ipynb\" target=\"_parent\"><img src=\"https://colab.research.google.com/assets/colab-badge.svg\" alt=\"Open In Colab\"/></a>"
      ]
    },
    {
      "cell_type": "code",
      "execution_count": 1,
      "metadata": {
        "id": "Kb6Yqr6452Tm"
      },
      "outputs": [],
      "source": [
        "import hashlib\n",
        "import time\n",
        "import random\n",
        "\n",
        "class Block:\n",
        "    def __init__(self, index, previous_hash, timestamp, data, hash):\n",
        "        self.index = index\n",
        "        self.previous_hash = previous_hash\n",
        "        self.timestamp = timestamp\n",
        "        self.data = data\n",
        "        self.hash = hash\n",
        "\n",
        "    def __repr__(self):\n",
        "        return f\"Block(Index: {self.index}, Hash: {self.hash})\"\n",
        "\n",
        "class Blockchain:\n",
        "    def __init__(self):\n",
        "        self.chain = [self.create_genesis_block()]\n",
        "        self.stakeholders = {}  # To keep track of stakeholder's stakes\n",
        "        self.delegates = []  # List of selected delegates for DPoS\n",
        "\n",
        "    def create_genesis_block(self):\n",
        "        return Block(0, \"0\", time.time(), \"Genesis Block\", self.calculate_hash(0, \"0\", time.time(), \"Genesis Block\"))\n",
        "\n",
        "    def get_latest_block(self):\n",
        "        return self.chain[-1]\n",
        "\n",
        "    def add_block(self, new_block):\n",
        "        new_block.hash = self.calculate_hash(new_block.index, new_block.previous_hash, new_block.timestamp, new_block.data)\n",
        "        self.chain.append(new_block)\n",
        "\n",
        "    def calculate_hash(self, index, previous_hash, timestamp, data):\n",
        "        value = str(index) + previous_hash + str(timestamp) + data\n",
        "        return hashlib.sha256(value.encode('utf-8')).hexdigest()\n",
        "\n",
        "    def add_stakeholder(self, address, stake):\n",
        "        if address in self.stakeholders:\n",
        "            self.stakeholders[address] += stake\n",
        "        else:\n",
        "            self.stakeholders[address] = stake\n",
        "\n",
        "    def select_validator(self):\n",
        "        total_stake = sum(self.stakeholders.values())\n",
        "        pick = random.uniform(0, total_stake)\n",
        "        current = 0\n",
        "        for address, stake in self.stakeholders.items():\n",
        "            current += stake\n",
        "            if current > pick:\n",
        "                return address\n",
        "\n",
        "    def select_delegates(self, num_delegates):\n",
        "        sorted_stakeholders = sorted(self.stakeholders.items(), key=lambda item: item[1], reverse=True)\n",
        "        self.delegates = [address for address, _ in sorted_stakeholders[:num_delegates]]\n",
        "        print(f\"Selected Delegates: {self.delegates}\")\n",
        "\n",
        "    def create_block_pos(self, data):\n",
        "        latest_block = self.get_latest_block()\n",
        "        index = latest_block.index + 1\n",
        "        timestamp = time.time()\n",
        "        previous_hash = latest_block.hash\n",
        "        new_block = Block(index, previous_hash, timestamp, data, \"\")\n",
        "        validator = self.select_validator()\n",
        "        print(f\"Block #{index} created by {validator} using PoS\")\n",
        "        self.add_block(new_block)\n",
        "\n",
        "    def create_block_dpos(self, data):\n",
        "        if not self.delegates:\n",
        "            raise Exception(\"No delegates selected for DPoS.\")\n",
        "        latest_block = self.get_latest_block()\n",
        "        index = latest_block.index + 1\n",
        "        timestamp = time.time()\n",
        "        previous_hash = latest_block.hash\n",
        "        new_block = Block(index, previous_hash, timestamp, data, \"\")\n",
        "        delegate = random.choice(self.delegates)\n",
        "        print(f\"Block #{index} created by {delegate} using DPoS\")\n",
        "        self.add_block(new_block)\n",
        "\n",
        "\n"
      ]
    },
    {
      "cell_type": "code",
      "source": [
        "# Example Usage\n",
        "blockchain = Blockchain()\n",
        "blockchain.add_stakeholder('Alice', 10)\n",
        "blockchain.add_stakeholder('Bob', 20)\n",
        "blockchain.add_stakeholder('Charlie', 30)"
      ],
      "metadata": {
        "id": "laLQX8lU6Ipw"
      },
      "execution_count": 2,
      "outputs": []
    },
    {
      "cell_type": "code",
      "source": [
        "# PoS Block Creation\n",
        "blockchain.create_block_pos('Block 1 Data')"
      ],
      "metadata": {
        "colab": {
          "base_uri": "https://localhost:8080/"
        },
        "id": "SeYu7KUjEVWr",
        "outputId": "9c6f0542-5327-43f8-dfc6-1d48b9e8b4f6"
      },
      "execution_count": 3,
      "outputs": [
        {
          "output_type": "stream",
          "name": "stdout",
          "text": [
            "Block #1 created by Charlie using PoS\n"
          ]
        }
      ]
    },
    {
      "cell_type": "code",
      "source": [
        "# Selecting delegates for DPoS\n",
        "blockchain.select_delegates(2)  # Select top 2 stakeholders as delegates"
      ],
      "metadata": {
        "colab": {
          "base_uri": "https://localhost:8080/"
        },
        "id": "kwlaIRrUEX8C",
        "outputId": "a2f0d3ff-b9cd-4156-d28c-00fa3b7723f2"
      },
      "execution_count": 4,
      "outputs": [
        {
          "output_type": "stream",
          "name": "stdout",
          "text": [
            "Selected Delegates: ['Charlie', 'Bob']\n"
          ]
        }
      ]
    },
    {
      "cell_type": "code",
      "source": [
        "# DPoS Block Creation\n",
        "blockchain.create_block_dpos('Block 2 Data')\n",
        "blockchain.create_block_dpos('Block 3 Data')"
      ],
      "metadata": {
        "colab": {
          "base_uri": "https://localhost:8080/"
        },
        "id": "V1zDb23xEZw_",
        "outputId": "b8433eee-bb62-4621-8edf-562e1e815a0a"
      },
      "execution_count": 5,
      "outputs": [
        {
          "output_type": "stream",
          "name": "stdout",
          "text": [
            "Block #2 created by Charlie using DPoS\n",
            "Block #3 created by Bob using DPoS\n"
          ]
        }
      ]
    },
    {
      "cell_type": "code",
      "source": [
        "for block in blockchain.chain:\n",
        "    print(block)"
      ],
      "metadata": {
        "colab": {
          "base_uri": "https://localhost:8080/"
        },
        "id": "lwb4NecqEbfO",
        "outputId": "9a3fa40e-b6c0-4905-816f-a692004d1be4"
      },
      "execution_count": 6,
      "outputs": [
        {
          "output_type": "stream",
          "name": "stdout",
          "text": [
            "Block(Index: 0, Hash: 5403b8d2bff8033b9d10c5db4a4a5defd3c5262cf95bb8fc7639b88aa184263a)\n",
            "Block(Index: 1, Hash: 1c6de70b7e4478c6f78e60970069dcac96f88f5defa550902802240c059c3182)\n",
            "Block(Index: 2, Hash: e85e203077fafb9053bc1dbcb10b998eb1c4c8b51698fa888983e8a02631d06d)\n",
            "Block(Index: 3, Hash: dd6fd43ce17a33c7df3bc62fb877c29ecab93377bfe71af23101f450e6bc74ea)\n"
          ]
        }
      ]
    }
  ]
}